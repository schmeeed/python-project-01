{
 "cells": [
  {
   "cell_type": "markdown",
   "id": "0fcae970",
   "metadata": {},
   "source": [
    "## Libraries and Settings"
   ]
  },
  {
   "cell_type": "code",
   "execution_count": 34,
   "id": "fda32cfc",
   "metadata": {},
   "outputs": [],
   "source": [
    "# data manipulation\n",
    "import numpy as np\n",
    "import pandas as pd\n",
    "import datetime\n",
    "from scipy import stats\n",
    "\n",
    "# data viz\n",
    "from matplotlib import pyplot as plt\n",
    "from matplotlib import rcParams\n",
    "from matplotlib import ticker\n",
    "import seaborn as sns\n",
    "import matplotlib.dates as mdates\n",
    "\n",
    "\n",
    "#warnings\n",
    "import warnings\n",
    "warnings.simplefilter(action='ignore', category=FutureWarning)\n",
    "\n",
    "# Viz Styling\n",
    "plt.style.use('default')\n",
    "rcParams['figure.figsize'] = (12,  6)\n",
    "pd.set_option('display.max_columns',50)\n"
   ]
  },
  {
   "cell_type": "markdown",
   "id": "dfc9a372",
   "metadata": {},
   "source": [
    "## Import Data"
   ]
  },
  {
   "cell_type": "code",
   "execution_count": 2,
   "id": "0075d79b",
   "metadata": {
    "scrolled": true
   },
   "outputs": [
    {
     "data": {
      "text/html": [
       "<div>\n",
       "<style scoped>\n",
       "    .dataframe tbody tr th:only-of-type {\n",
       "        vertical-align: middle;\n",
       "    }\n",
       "\n",
       "    .dataframe tbody tr th {\n",
       "        vertical-align: top;\n",
       "    }\n",
       "\n",
       "    .dataframe thead th {\n",
       "        text-align: right;\n",
       "    }\n",
       "</style>\n",
       "<table border=\"1\" class=\"dataframe\">\n",
       "  <thead>\n",
       "    <tr style=\"text-align: right;\">\n",
       "      <th></th>\n",
       "      <th>Vehicle Model</th>\n",
       "      <th>Start Date</th>\n",
       "      <th>End Date</th>\n",
       "      <th>Duration</th>\n",
       "      <th>Distance (mi)</th>\n",
       "      <th>Gasoline Consumed (gal)</th>\n",
       "      <th>Electricity Consumed (kWh)</th>\n",
       "      <th>Fuel Efficiency Equivalent (MPGeq)</th>\n",
       "      <th>mi/kWh</th>\n",
       "      <th>Starting SOC (%)</th>\n",
       "      <th>Ending SOC (%)</th>\n",
       "      <th>Ambient Temperature (F)</th>\n",
       "      <th>Smooth Acceleration (%)</th>\n",
       "      <th>Smooth Braking (%)</th>\n",
       "    </tr>\n",
       "  </thead>\n",
       "  <tbody>\n",
       "    <tr>\n",
       "      <th>0</th>\n",
       "      <td>2019 Chevrolet Bolt EV</td>\n",
       "      <td>2022-06-25 20:18:33</td>\n",
       "      <td>2022-06-25 20:25:43</td>\n",
       "      <td>00:07:10</td>\n",
       "      <td>1.59</td>\n",
       "      <td>NaN</td>\n",
       "      <td>0.01</td>\n",
       "      <td>5374.05</td>\n",
       "      <td>159.000000</td>\n",
       "      <td>76.08</td>\n",
       "      <td>76.08</td>\n",
       "      <td>NaN</td>\n",
       "      <td>NaN</td>\n",
       "      <td>NaN</td>\n",
       "    </tr>\n",
       "    <tr>\n",
       "      <th>1</th>\n",
       "      <td>2019 Chevrolet Bolt EV</td>\n",
       "      <td>2022-07-16 20:43:47</td>\n",
       "      <td>2022-07-16 20:48:01</td>\n",
       "      <td>00:04:14</td>\n",
       "      <td>0.79</td>\n",
       "      <td>NaN</td>\n",
       "      <td>0.02</td>\n",
       "      <td>1327.81</td>\n",
       "      <td>39.500000</td>\n",
       "      <td>83.92</td>\n",
       "      <td>83.92</td>\n",
       "      <td>78.80</td>\n",
       "      <td>NaN</td>\n",
       "      <td>NaN</td>\n",
       "    </tr>\n",
       "    <tr>\n",
       "      <th>2</th>\n",
       "      <td>2019 Chevrolet Bolt EV</td>\n",
       "      <td>2022-07-26 16:16:48</td>\n",
       "      <td>2022-07-26 16:23:35</td>\n",
       "      <td>00:06:47</td>\n",
       "      <td>1.91</td>\n",
       "      <td>NaN</td>\n",
       "      <td>0.06</td>\n",
       "      <td>1072.65</td>\n",
       "      <td>31.833333</td>\n",
       "      <td>70.98</td>\n",
       "      <td>70.58</td>\n",
       "      <td>80.60</td>\n",
       "      <td>NaN</td>\n",
       "      <td>NaN</td>\n",
       "    </tr>\n",
       "    <tr>\n",
       "      <th>3</th>\n",
       "      <td>2019 Chevrolet Bolt EV</td>\n",
       "      <td>2022-05-18 20:33:28</td>\n",
       "      <td>2022-05-18 20:39:32</td>\n",
       "      <td>00:06:04</td>\n",
       "      <td>1.81</td>\n",
       "      <td>NaN</td>\n",
       "      <td>0.06</td>\n",
       "      <td>1016.80</td>\n",
       "      <td>30.166667</td>\n",
       "      <td>38.04</td>\n",
       "      <td>37.64</td>\n",
       "      <td>NaN</td>\n",
       "      <td>NaN</td>\n",
       "      <td>NaN</td>\n",
       "    </tr>\n",
       "    <tr>\n",
       "      <th>4</th>\n",
       "      <td>2019 Chevrolet Bolt EV</td>\n",
       "      <td>2022-11-03 16:38:58</td>\n",
       "      <td>2022-11-03 16:43:54</td>\n",
       "      <td>00:04:56</td>\n",
       "      <td>1.60</td>\n",
       "      <td>NaN</td>\n",
       "      <td>0.06</td>\n",
       "      <td>900.91</td>\n",
       "      <td>26.666667</td>\n",
       "      <td>68.24</td>\n",
       "      <td>67.84</td>\n",
       "      <td>65.73</td>\n",
       "      <td>NaN</td>\n",
       "      <td>NaN</td>\n",
       "    </tr>\n",
       "  </tbody>\n",
       "</table>\n",
       "</div>"
      ],
      "text/plain": [
       "            Vehicle Model          Start Date            End Date  Duration  \\\n",
       "0  2019 Chevrolet Bolt EV 2022-06-25 20:18:33 2022-06-25 20:25:43  00:07:10   \n",
       "1  2019 Chevrolet Bolt EV 2022-07-16 20:43:47 2022-07-16 20:48:01  00:04:14   \n",
       "2  2019 Chevrolet Bolt EV 2022-07-26 16:16:48 2022-07-26 16:23:35  00:06:47   \n",
       "3  2019 Chevrolet Bolt EV 2022-05-18 20:33:28 2022-05-18 20:39:32  00:06:04   \n",
       "4  2019 Chevrolet Bolt EV 2022-11-03 16:38:58 2022-11-03 16:43:54  00:04:56   \n",
       "\n",
       "   Distance (mi)  Gasoline Consumed (gal)  Electricity Consumed (kWh)  \\\n",
       "0           1.59                      NaN                        0.01   \n",
       "1           0.79                      NaN                        0.02   \n",
       "2           1.91                      NaN                        0.06   \n",
       "3           1.81                      NaN                        0.06   \n",
       "4           1.60                      NaN                        0.06   \n",
       "\n",
       "   Fuel Efficiency Equivalent (MPGeq)      mi/kWh  Starting SOC (%)  \\\n",
       "0                             5374.05  159.000000             76.08   \n",
       "1                             1327.81   39.500000             83.92   \n",
       "2                             1072.65   31.833333             70.98   \n",
       "3                             1016.80   30.166667             38.04   \n",
       "4                              900.91   26.666667             68.24   \n",
       "\n",
       "   Ending SOC (%)  Ambient Temperature (F)  Smooth Acceleration (%)  \\\n",
       "0           76.08                      NaN                      NaN   \n",
       "1           83.92                    78.80                      NaN   \n",
       "2           70.58                    80.60                      NaN   \n",
       "3           37.64                      NaN                      NaN   \n",
       "4           67.84                    65.73                      NaN   \n",
       "\n",
       "   Smooth Braking (%)  \n",
       "0                 NaN  \n",
       "1                 NaN  \n",
       "2                 NaN  \n",
       "3                 NaN  \n",
       "4                 NaN  "
      ]
     },
     "execution_count": 2,
     "metadata": {},
     "output_type": "execute_result"
    }
   ],
   "source": [
    "trips = pd.read_excel('data/RAW-2019-Chevy-Bolt-Trip-Data.xlsx')\n",
    "\n",
    "trips.head()\n",
    "# testing comment"
   ]
  },
  {
   "cell_type": "code",
   "execution_count": 3,
   "id": "fd8a52c5",
   "metadata": {
    "scrolled": true
   },
   "outputs": [
    {
     "data": {
      "text/plain": [
       "Vehicle Model                         1201\n",
       "Start Date                            1201\n",
       "End Date                              1201\n",
       "Duration                              1201\n",
       "Distance (mi)                         1201\n",
       "Gasoline Consumed (gal)                  0\n",
       "Electricity Consumed (kWh)            1199\n",
       "Fuel Efficiency Equivalent (MPGeq)    1110\n",
       "mi/kWh                                1201\n",
       "Starting SOC (%)                      1201\n",
       "Ending SOC (%)                        1201\n",
       "Ambient Temperature (F)               1011\n",
       "Smooth Acceleration (%)                  0\n",
       "Smooth Braking (%)                       0\n",
       "dtype: int64"
      ]
     },
     "execution_count": 3,
     "metadata": {},
     "output_type": "execute_result"
    }
   ],
   "source": [
    "# Finding null columns\n",
    "np.sum(~trips.isnull())"
   ]
  },
  {
   "cell_type": "markdown",
   "id": "f4879b40",
   "metadata": {},
   "source": [
    "## Cleaning"
   ]
  },
  {
   "cell_type": "code",
   "execution_count": 4,
   "id": "037df696",
   "metadata": {},
   "outputs": [],
   "source": [
    "# Removing Null Columns and irrelivant columns\n",
    "trips.drop(labels = ['Vehicle Model', r'Gasoline Consumed (gal)'\\\n",
    "                     , r'Smooth Acceleration (%)', r'Smooth Braking (%)'], axis = 1, inplace = True)"
   ]
  },
  {
   "cell_type": "code",
   "execution_count": 5,
   "id": "58739adb",
   "metadata": {},
   "outputs": [],
   "source": [
    "# Removing 0.00 mile trips (i.e. I turned on the car for a minute, but didn't go anywhere)\n",
    "trips = trips.loc[trips[r'Distance (mi)'] != 0 ,:]\n",
    "\n",
    "# Removing negative electricity_consumed outliers.\n",
    "trips = trips.loc[trips[r'Electricity Consumed (kWh)'] >= 0,:]\n"
   ]
  },
  {
   "cell_type": "code",
   "execution_count": 6,
   "id": "5eb1bb87",
   "metadata": {},
   "outputs": [],
   "source": [
    "# converting SOC columns to decimal values (/100)\n",
    "trips[r'Starting SOC (%)'] = trips[r'Starting SOC (%)']/100\n",
    "trips[r'Ending SOC (%)'] = trips[r'Ending SOC (%)']/100"
   ]
  },
  {
   "cell_type": "code",
   "execution_count": 7,
   "id": "f2ba9ba3",
   "metadata": {},
   "outputs": [],
   "source": [
    "# Appending Columns to provide additional Analysis\n",
    "# Projected Mile Range at Star and end of trip\n",
    "# Using the formula (mi/kWh)*(SOC*battery size)\n",
    "# battery size is 66kWh\n",
    "battery_size = 66\n",
    "\n",
    "trips['start_range'] = trips['mi/kWh']*(trips[r'Starting SOC (%)']*battery_size)\n",
    "trips['end_range'] = trips['mi/kWh']*(trips[r'Ending SOC (%)']*battery_size)"
   ]
  },
  {
   "cell_type": "code",
   "execution_count": 8,
   "id": "c539eeda",
   "metadata": {},
   "outputs": [
    {
     "data": {
      "text/plain": [
       "Index(['Start Date', 'End Date', 'Duration', 'Distance (mi)',\n",
       "       'Electricity Consumed (kWh)', 'Fuel Efficiency Equivalent (MPGeq)',\n",
       "       'mi/kWh', 'Starting SOC (%)', 'Ending SOC (%)',\n",
       "       'Ambient Temperature (F)', 'start_range', 'end_range'],\n",
       "      dtype='object')"
      ]
     },
     "execution_count": 8,
     "metadata": {},
     "output_type": "execute_result"
    }
   ],
   "source": [
    "trips.columns"
   ]
  },
  {
   "cell_type": "code",
   "execution_count": 9,
   "id": "ae5ab431",
   "metadata": {},
   "outputs": [],
   "source": [
    "# Rename column names\n",
    "trips = trips.rename(columns = {r'Start Date' : 'start_date',\n",
    "           r'End Date' : 'end_date',\n",
    "           r'Duration' : 'duration',\n",
    "           r'Distance (mi)' : 'distance',\n",
    "           r'Electricity Consumed (kWh)' : 'electricity_used',\n",
    "           r'mi/kWh' : 'mikWh',\n",
    "           r'Fuel Efficiency Equivalent (MPGeq)' : 'MPGe',\n",
    "           r'Starting SOC (%)' : 'start_soc',\n",
    "           r'Ending SOC (%)' : 'end_soc',\n",
    "           r'Ambient Temperature (F)' : 'temp',\n",
    "          }\n",
    "         )"
   ]
  },
  {
   "cell_type": "code",
   "execution_count": 10,
   "id": "12cbdda8",
   "metadata": {},
   "outputs": [],
   "source": [
    "# trips['start_date'] = pd.to_datetime(trips['start_date']).dt.date\n",
    "# trips['start_time'] = pd.to_datetime(trips['start_date']).dt.time\n",
    "# trips['end_date'] = pd.to_datetime(trips['end_date']).dt.date\n",
    "# trips['end_time'] = pd.to_datetime(trips['end_date']).dt.time\n",
    "\n",
    "# trips"
   ]
  },
  {
   "cell_type": "markdown",
   "id": "b453cb81",
   "metadata": {},
   "source": [
    "## Temperature NaN Values"
   ]
  },
  {
   "cell_type": "markdown",
   "id": "a8403872",
   "metadata": {},
   "source": [
    "There does not seem to be a pattern regarding the missing temperature data. \n",
    "\n",
    "There are 168 temperature data points missing, out of a total of 1092 data points. \n",
    "\n",
    "***13%*** of the temperature data points are missing. I have chosen to interpolate the missing data with a linear model. "
   ]
  },
  {
   "cell_type": "code",
   "execution_count": 11,
   "id": "7a8e59da",
   "metadata": {
    "scrolled": true
   },
   "outputs": [
    {
     "data": {
      "text/html": [
       "<div>\n",
       "<style scoped>\n",
       "    .dataframe tbody tr th:only-of-type {\n",
       "        vertical-align: middle;\n",
       "    }\n",
       "\n",
       "    .dataframe tbody tr th {\n",
       "        vertical-align: top;\n",
       "    }\n",
       "\n",
       "    .dataframe thead th {\n",
       "        text-align: right;\n",
       "    }\n",
       "</style>\n",
       "<table border=\"1\" class=\"dataframe\">\n",
       "  <thead>\n",
       "    <tr style=\"text-align: right;\">\n",
       "      <th></th>\n",
       "      <th>start_date</th>\n",
       "      <th>end_date</th>\n",
       "      <th>duration</th>\n",
       "      <th>distance</th>\n",
       "      <th>electricity_used</th>\n",
       "      <th>MPGe</th>\n",
       "      <th>mikWh</th>\n",
       "      <th>start_soc</th>\n",
       "      <th>end_soc</th>\n",
       "      <th>temp</th>\n",
       "      <th>start_range</th>\n",
       "      <th>end_range</th>\n",
       "    </tr>\n",
       "  </thead>\n",
       "  <tbody>\n",
       "    <tr>\n",
       "      <th>0</th>\n",
       "      <td>2022-06-25 20:18:33</td>\n",
       "      <td>2022-06-25 20:25:43</td>\n",
       "      <td>00:07:10</td>\n",
       "      <td>1.59</td>\n",
       "      <td>0.01</td>\n",
       "      <td>5374.05</td>\n",
       "      <td>159.000000</td>\n",
       "      <td>0.7608</td>\n",
       "      <td>0.7608</td>\n",
       "      <td>NaN</td>\n",
       "      <td>7983.83520</td>\n",
       "      <td>7983.8352</td>\n",
       "    </tr>\n",
       "    <tr>\n",
       "      <th>3</th>\n",
       "      <td>2022-05-18 20:33:28</td>\n",
       "      <td>2022-05-18 20:39:32</td>\n",
       "      <td>00:06:04</td>\n",
       "      <td>1.81</td>\n",
       "      <td>0.06</td>\n",
       "      <td>1016.80</td>\n",
       "      <td>30.166667</td>\n",
       "      <td>0.3804</td>\n",
       "      <td>0.3764</td>\n",
       "      <td>NaN</td>\n",
       "      <td>757.37640</td>\n",
       "      <td>749.4124</td>\n",
       "    </tr>\n",
       "    <tr>\n",
       "      <th>5</th>\n",
       "      <td>2022-11-22 12:44:33</td>\n",
       "      <td>2022-11-22 12:49:55</td>\n",
       "      <td>00:05:22</td>\n",
       "      <td>1.60</td>\n",
       "      <td>0.06</td>\n",
       "      <td>899.52</td>\n",
       "      <td>26.666667</td>\n",
       "      <td>0.9137</td>\n",
       "      <td>0.9137</td>\n",
       "      <td>NaN</td>\n",
       "      <td>1608.11200</td>\n",
       "      <td>1608.1120</td>\n",
       "    </tr>\n",
       "    <tr>\n",
       "      <th>7</th>\n",
       "      <td>2022-07-21 11:11:44</td>\n",
       "      <td>2022-07-21 11:15:37</td>\n",
       "      <td>00:03:53</td>\n",
       "      <td>0.81</td>\n",
       "      <td>0.04</td>\n",
       "      <td>681.70</td>\n",
       "      <td>20.250000</td>\n",
       "      <td>0.6941</td>\n",
       "      <td>0.6862</td>\n",
       "      <td>NaN</td>\n",
       "      <td>927.66465</td>\n",
       "      <td>917.1063</td>\n",
       "    </tr>\n",
       "    <tr>\n",
       "      <th>10</th>\n",
       "      <td>2022-05-13 21:36:57</td>\n",
       "      <td>2022-05-13 21:46:16</td>\n",
       "      <td>00:09:19</td>\n",
       "      <td>2.57</td>\n",
       "      <td>0.15</td>\n",
       "      <td>576.50</td>\n",
       "      <td>17.133333</td>\n",
       "      <td>0.4235</td>\n",
       "      <td>0.4235</td>\n",
       "      <td>NaN</td>\n",
       "      <td>478.89380</td>\n",
       "      <td>478.8938</td>\n",
       "    </tr>\n",
       "    <tr>\n",
       "      <th>...</th>\n",
       "      <td>...</td>\n",
       "      <td>...</td>\n",
       "      <td>...</td>\n",
       "      <td>...</td>\n",
       "      <td>...</td>\n",
       "      <td>...</td>\n",
       "      <td>...</td>\n",
       "      <td>...</td>\n",
       "      <td>...</td>\n",
       "      <td>...</td>\n",
       "      <td>...</td>\n",
       "      <td>...</td>\n",
       "    </tr>\n",
       "    <tr>\n",
       "      <th>1122</th>\n",
       "      <td>2022-04-07 16:54:01</td>\n",
       "      <td>2022-04-07 16:54:17</td>\n",
       "      <td>00:00:16</td>\n",
       "      <td>0.01</td>\n",
       "      <td>0.00</td>\n",
       "      <td>0.00</td>\n",
       "      <td>0.000000</td>\n",
       "      <td>0.7686</td>\n",
       "      <td>0.7451</td>\n",
       "      <td>NaN</td>\n",
       "      <td>0.00000</td>\n",
       "      <td>0.0000</td>\n",
       "    </tr>\n",
       "    <tr>\n",
       "      <th>1133</th>\n",
       "      <td>2022-04-16 11:53:24</td>\n",
       "      <td>2022-04-16 11:53:41</td>\n",
       "      <td>00:00:17</td>\n",
       "      <td>0.02</td>\n",
       "      <td>0.00</td>\n",
       "      <td>0.00</td>\n",
       "      <td>0.000000</td>\n",
       "      <td>0.7490</td>\n",
       "      <td>0.7451</td>\n",
       "      <td>NaN</td>\n",
       "      <td>0.00000</td>\n",
       "      <td>0.0000</td>\n",
       "    </tr>\n",
       "    <tr>\n",
       "      <th>1168</th>\n",
       "      <td>2022-07-29 13:43:33</td>\n",
       "      <td>2022-07-29 13:43:53</td>\n",
       "      <td>00:00:20</td>\n",
       "      <td>0.01</td>\n",
       "      <td>0.00</td>\n",
       "      <td>0.00</td>\n",
       "      <td>0.000000</td>\n",
       "      <td>0.7568</td>\n",
       "      <td>0.7568</td>\n",
       "      <td>NaN</td>\n",
       "      <td>0.00000</td>\n",
       "      <td>0.0000</td>\n",
       "    </tr>\n",
       "    <tr>\n",
       "      <th>1171</th>\n",
       "      <td>2022-08-15 12:30:25</td>\n",
       "      <td>2022-08-15 12:30:40</td>\n",
       "      <td>00:00:15</td>\n",
       "      <td>0.01</td>\n",
       "      <td>0.00</td>\n",
       "      <td>0.00</td>\n",
       "      <td>0.000000</td>\n",
       "      <td>0.6196</td>\n",
       "      <td>0.6196</td>\n",
       "      <td>NaN</td>\n",
       "      <td>0.00000</td>\n",
       "      <td>0.0000</td>\n",
       "    </tr>\n",
       "    <tr>\n",
       "      <th>1182</th>\n",
       "      <td>2022-10-10 10:37:11</td>\n",
       "      <td>2022-10-10 10:37:19</td>\n",
       "      <td>00:00:08</td>\n",
       "      <td>0.01</td>\n",
       "      <td>0.00</td>\n",
       "      <td>0.00</td>\n",
       "      <td>0.000000</td>\n",
       "      <td>0.7568</td>\n",
       "      <td>0.7568</td>\n",
       "      <td>NaN</td>\n",
       "      <td>0.00000</td>\n",
       "      <td>0.0000</td>\n",
       "    </tr>\n",
       "  </tbody>\n",
       "</table>\n",
       "<p>168 rows × 12 columns</p>\n",
       "</div>"
      ],
      "text/plain": [
       "              start_date            end_date  duration  distance  \\\n",
       "0    2022-06-25 20:18:33 2022-06-25 20:25:43  00:07:10      1.59   \n",
       "3    2022-05-18 20:33:28 2022-05-18 20:39:32  00:06:04      1.81   \n",
       "5    2022-11-22 12:44:33 2022-11-22 12:49:55  00:05:22      1.60   \n",
       "7    2022-07-21 11:11:44 2022-07-21 11:15:37  00:03:53      0.81   \n",
       "10   2022-05-13 21:36:57 2022-05-13 21:46:16  00:09:19      2.57   \n",
       "...                  ...                 ...       ...       ...   \n",
       "1122 2022-04-07 16:54:01 2022-04-07 16:54:17  00:00:16      0.01   \n",
       "1133 2022-04-16 11:53:24 2022-04-16 11:53:41  00:00:17      0.02   \n",
       "1168 2022-07-29 13:43:33 2022-07-29 13:43:53  00:00:20      0.01   \n",
       "1171 2022-08-15 12:30:25 2022-08-15 12:30:40  00:00:15      0.01   \n",
       "1182 2022-10-10 10:37:11 2022-10-10 10:37:19  00:00:08      0.01   \n",
       "\n",
       "      electricity_used     MPGe       mikWh  start_soc  end_soc  temp  \\\n",
       "0                 0.01  5374.05  159.000000     0.7608   0.7608   NaN   \n",
       "3                 0.06  1016.80   30.166667     0.3804   0.3764   NaN   \n",
       "5                 0.06   899.52   26.666667     0.9137   0.9137   NaN   \n",
       "7                 0.04   681.70   20.250000     0.6941   0.6862   NaN   \n",
       "10                0.15   576.50   17.133333     0.4235   0.4235   NaN   \n",
       "...                ...      ...         ...        ...      ...   ...   \n",
       "1122              0.00     0.00    0.000000     0.7686   0.7451   NaN   \n",
       "1133              0.00     0.00    0.000000     0.7490   0.7451   NaN   \n",
       "1168              0.00     0.00    0.000000     0.7568   0.7568   NaN   \n",
       "1171              0.00     0.00    0.000000     0.6196   0.6196   NaN   \n",
       "1182              0.00     0.00    0.000000     0.7568   0.7568   NaN   \n",
       "\n",
       "      start_range  end_range  \n",
       "0      7983.83520  7983.8352  \n",
       "3       757.37640   749.4124  \n",
       "5      1608.11200  1608.1120  \n",
       "7       927.66465   917.1063  \n",
       "10      478.89380   478.8938  \n",
       "...           ...        ...  \n",
       "1122      0.00000     0.0000  \n",
       "1133      0.00000     0.0000  \n",
       "1168      0.00000     0.0000  \n",
       "1171      0.00000     0.0000  \n",
       "1182      0.00000     0.0000  \n",
       "\n",
       "[168 rows x 12 columns]"
      ]
     },
     "execution_count": 11,
     "metadata": {},
     "output_type": "execute_result"
    }
   ],
   "source": [
    "trips[trips.temp.isnull()]#.describe()"
   ]
  },
  {
   "cell_type": "markdown",
   "id": "5d47a85e",
   "metadata": {},
   "source": [
    "## Handling Missing Data"
   ]
  },
  {
   "cell_type": "code",
   "execution_count": 12,
   "id": "f05691d5",
   "metadata": {},
   "outputs": [
    {
     "data": {
      "text/plain": [
       "start_date          1092\n",
       "end_date            1092\n",
       "duration            1092\n",
       "distance            1092\n",
       "electricity_used    1092\n",
       "MPGe                1092\n",
       "mikWh               1092\n",
       "start_soc           1092\n",
       "end_soc             1092\n",
       "temp                 924\n",
       "start_range         1092\n",
       "end_range           1092\n",
       "dtype: int64"
      ]
     },
     "execution_count": 12,
     "metadata": {},
     "output_type": "execute_result"
    }
   ],
   "source": [
    "# Finding missing data\n",
    "np.sum(~trips.isnull())"
   ]
  },
  {
   "cell_type": "code",
   "execution_count": 13,
   "id": "1969311e",
   "metadata": {},
   "outputs": [
    {
     "data": {
      "text/plain": [
       "1091"
      ]
     },
     "execution_count": 13,
     "metadata": {},
     "output_type": "execute_result"
    }
   ],
   "source": [
    "#interpolating missing data points\n",
    "trips['temp'] = trips.loc[:,'temp'].interpolate(method = 'linear')\n",
    "\n",
    "# new 'temp' column total data points\n",
    "np.sum(~trips['temp'].isnull())"
   ]
  },
  {
   "cell_type": "markdown",
   "id": "0da4cbe1",
   "metadata": {},
   "source": [
    "## Write clean data to .csv"
   ]
  },
  {
   "cell_type": "code",
   "execution_count": 14,
   "id": "b9ad0f1a",
   "metadata": {},
   "outputs": [],
   "source": [
    "trips.to_csv('data/CLEAN-2019-Chevy-Bolt-Trip-Data.csv', sep=',', encoding='utf-8')"
   ]
  },
  {
   "cell_type": "markdown",
   "id": "a0264cf5",
   "metadata": {},
   "source": [
    "## Data Summary"
   ]
  },
  {
   "cell_type": "code",
   "execution_count": 15,
   "id": "fa16db69",
   "metadata": {
    "scrolled": true
   },
   "outputs": [
    {
     "data": {
      "text/html": [
       "<div>\n",
       "<style scoped>\n",
       "    .dataframe tbody tr th:only-of-type {\n",
       "        vertical-align: middle;\n",
       "    }\n",
       "\n",
       "    .dataframe tbody tr th {\n",
       "        vertical-align: top;\n",
       "    }\n",
       "\n",
       "    .dataframe thead th {\n",
       "        text-align: right;\n",
       "    }\n",
       "</style>\n",
       "<table border=\"1\" class=\"dataframe\">\n",
       "  <thead>\n",
       "    <tr style=\"text-align: right;\">\n",
       "      <th></th>\n",
       "      <th>distance</th>\n",
       "      <th>electricity_used</th>\n",
       "      <th>MPGe</th>\n",
       "      <th>mikWh</th>\n",
       "      <th>start_soc</th>\n",
       "      <th>end_soc</th>\n",
       "      <th>temp</th>\n",
       "      <th>start_range</th>\n",
       "      <th>end_range</th>\n",
       "    </tr>\n",
       "  </thead>\n",
       "  <tbody>\n",
       "    <tr>\n",
       "      <th>count</th>\n",
       "      <td>1092.000000</td>\n",
       "      <td>1092.000000</td>\n",
       "      <td>1092.000000</td>\n",
       "      <td>1092.000000</td>\n",
       "      <td>1092.000000</td>\n",
       "      <td>1092.000000</td>\n",
       "      <td>1091.000000</td>\n",
       "      <td>1092.000000</td>\n",
       "      <td>1092.000000</td>\n",
       "    </tr>\n",
       "    <tr>\n",
       "      <th>mean</th>\n",
       "      <td>15.934625</td>\n",
       "      <td>3.893306</td>\n",
       "      <td>152.240824</td>\n",
       "      <td>4.515056</td>\n",
       "      <td>0.726474</td>\n",
       "      <td>0.663368</td>\n",
       "      <td>65.797250</td>\n",
       "      <td>216.435830</td>\n",
       "      <td>199.327548</td>\n",
       "    </tr>\n",
       "    <tr>\n",
       "      <th>std</th>\n",
       "      <td>23.537214</td>\n",
       "      <td>5.667625</td>\n",
       "      <td>184.777458</td>\n",
       "      <td>5.470657</td>\n",
       "      <td>0.161817</td>\n",
       "      <td>0.184336</td>\n",
       "      <td>15.350311</td>\n",
       "      <td>275.939166</td>\n",
       "      <td>277.616239</td>\n",
       "    </tr>\n",
       "    <tr>\n",
       "      <th>min</th>\n",
       "      <td>0.010000</td>\n",
       "      <td>0.000000</td>\n",
       "      <td>0.000000</td>\n",
       "      <td>0.000000</td>\n",
       "      <td>0.000000</td>\n",
       "      <td>0.000000</td>\n",
       "      <td>23.420000</td>\n",
       "      <td>0.000000</td>\n",
       "      <td>0.000000</td>\n",
       "    </tr>\n",
       "    <tr>\n",
       "      <th>25%</th>\n",
       "      <td>1.707500</td>\n",
       "      <td>0.390000</td>\n",
       "      <td>107.897500</td>\n",
       "      <td>3.201098</td>\n",
       "      <td>0.653925</td>\n",
       "      <td>0.567625</td>\n",
       "      <td>54.435000</td>\n",
       "      <td>139.373270</td>\n",
       "      <td>117.428309</td>\n",
       "    </tr>\n",
       "    <tr>\n",
       "      <th>50%</th>\n",
       "      <td>5.290000</td>\n",
       "      <td>1.215000</td>\n",
       "      <td>132.995000</td>\n",
       "      <td>3.946428</td>\n",
       "      <td>0.749000</td>\n",
       "      <td>0.690200</td>\n",
       "      <td>67.700000</td>\n",
       "      <td>189.269131</td>\n",
       "      <td>168.324154</td>\n",
       "    </tr>\n",
       "    <tr>\n",
       "      <th>75%</th>\n",
       "      <td>18.500000</td>\n",
       "      <td>5.230000</td>\n",
       "      <td>165.630000</td>\n",
       "      <td>4.913897</td>\n",
       "      <td>0.815600</td>\n",
       "      <td>0.764700</td>\n",
       "      <td>78.770000</td>\n",
       "      <td>250.614535</td>\n",
       "      <td>231.463846</td>\n",
       "    </tr>\n",
       "    <tr>\n",
       "      <th>max</th>\n",
       "      <td>177.480000</td>\n",
       "      <td>42.320000</td>\n",
       "      <td>5374.050000</td>\n",
       "      <td>159.000000</td>\n",
       "      <td>1.000000</td>\n",
       "      <td>1.000000</td>\n",
       "      <td>99.540000</td>\n",
       "      <td>7983.835200</td>\n",
       "      <td>7983.835200</td>\n",
       "    </tr>\n",
       "  </tbody>\n",
       "</table>\n",
       "</div>"
      ],
      "text/plain": [
       "          distance  electricity_used         MPGe        mikWh    start_soc  \\\n",
       "count  1092.000000       1092.000000  1092.000000  1092.000000  1092.000000   \n",
       "mean     15.934625          3.893306   152.240824     4.515056     0.726474   \n",
       "std      23.537214          5.667625   184.777458     5.470657     0.161817   \n",
       "min       0.010000          0.000000     0.000000     0.000000     0.000000   \n",
       "25%       1.707500          0.390000   107.897500     3.201098     0.653925   \n",
       "50%       5.290000          1.215000   132.995000     3.946428     0.749000   \n",
       "75%      18.500000          5.230000   165.630000     4.913897     0.815600   \n",
       "max     177.480000         42.320000  5374.050000   159.000000     1.000000   \n",
       "\n",
       "           end_soc         temp  start_range    end_range  \n",
       "count  1092.000000  1091.000000  1092.000000  1092.000000  \n",
       "mean      0.663368    65.797250   216.435830   199.327548  \n",
       "std       0.184336    15.350311   275.939166   277.616239  \n",
       "min       0.000000    23.420000     0.000000     0.000000  \n",
       "25%       0.567625    54.435000   139.373270   117.428309  \n",
       "50%       0.690200    67.700000   189.269131   168.324154  \n",
       "75%       0.764700    78.770000   250.614535   231.463846  \n",
       "max       1.000000    99.540000  7983.835200  7983.835200  "
      ]
     },
     "execution_count": 15,
     "metadata": {},
     "output_type": "execute_result"
    }
   ],
   "source": [
    "trips.describe()"
   ]
  },
  {
   "cell_type": "markdown",
   "id": "606a4a2a",
   "metadata": {},
   "source": [
    "## Does Distance have an Effect on Effeciency?"
   ]
  },
  {
   "cell_type": "code",
   "execution_count": 56,
   "id": "1e9b45e8",
   "metadata": {},
   "outputs": [
    {
     "name": "stdout",
     "output_type": "stream",
     "text": [
      "419\n",
      "394\n",
      "279\n"
     ]
    }
   ],
   "source": [
    "# Quick Look at counts at different distances\n",
    "short_trip = trips.loc[trips.distance<3.3]\n",
    "med_trip = trips.loc[(trips.distance>=3.3) & (trips.distance<18)]\n",
    "long_trip = trips.loc[trips.distance>=18]\n",
    "print(short_trips.distance.count())\n",
    "print(med_trips.distance.count())\n",
    "print(long_trips.distance.count())"
   ]
  },
  {
   "cell_type": "code",
   "execution_count": null,
   "id": "31390797",
   "metadata": {},
   "outputs": [],
   "source": [
    "fig, ax = plt.subplot()\n",
    "ax.scatter()"
   ]
  },
  {
   "cell_type": "code",
   "execution_count": 60,
   "id": "02d7cc29",
   "metadata": {},
   "outputs": [],
   "source": [
    "# creating quick function to append column with a category for how long the trip was\n",
    "def distance_describer(x):\n",
    "    if x['distance'] < 3.3:\n",
    "        return 'Short Trip'\n",
    "    if (x['distance'] >= 3.3) & (x['distance'] <18):\n",
    "        return 'Medium Trip'\n",
    "    if x['distance'] >= 18:\n",
    "        return 'Long Trip'"
   ]
  },
  {
   "cell_type": "code",
   "execution_count": 62,
   "id": "7f171f35",
   "metadata": {},
   "outputs": [
    {
     "data": {
      "text/html": [
       "<div>\n",
       "<style scoped>\n",
       "    .dataframe tbody tr th:only-of-type {\n",
       "        vertical-align: middle;\n",
       "    }\n",
       "\n",
       "    .dataframe tbody tr th {\n",
       "        vertical-align: top;\n",
       "    }\n",
       "\n",
       "    .dataframe thead th {\n",
       "        text-align: right;\n",
       "    }\n",
       "</style>\n",
       "<table border=\"1\" class=\"dataframe\">\n",
       "  <thead>\n",
       "    <tr style=\"text-align: right;\">\n",
       "      <th></th>\n",
       "      <th>start_date</th>\n",
       "      <th>end_date</th>\n",
       "      <th>duration</th>\n",
       "      <th>distance</th>\n",
       "      <th>electricity_used</th>\n",
       "      <th>MPGe</th>\n",
       "      <th>mikWh</th>\n",
       "      <th>start_soc</th>\n",
       "      <th>end_soc</th>\n",
       "      <th>temp</th>\n",
       "      <th>start_range</th>\n",
       "      <th>end_range</th>\n",
       "      <th>distance_desc</th>\n",
       "    </tr>\n",
       "  </thead>\n",
       "  <tbody>\n",
       "    <tr>\n",
       "      <th>0</th>\n",
       "      <td>2022-06-25 20:18:33</td>\n",
       "      <td>2022-06-25 20:25:43</td>\n",
       "      <td>00:07:10</td>\n",
       "      <td>1.59</td>\n",
       "      <td>0.01</td>\n",
       "      <td>5374.05</td>\n",
       "      <td>159.000000</td>\n",
       "      <td>0.7608</td>\n",
       "      <td>0.7608</td>\n",
       "      <td>NaN</td>\n",
       "      <td>7983.8352</td>\n",
       "      <td>7983.8352</td>\n",
       "      <td>Short Trip</td>\n",
       "    </tr>\n",
       "    <tr>\n",
       "      <th>1</th>\n",
       "      <td>2022-07-16 20:43:47</td>\n",
       "      <td>2022-07-16 20:48:01</td>\n",
       "      <td>00:04:14</td>\n",
       "      <td>0.79</td>\n",
       "      <td>0.02</td>\n",
       "      <td>1327.81</td>\n",
       "      <td>39.500000</td>\n",
       "      <td>0.8392</td>\n",
       "      <td>0.8392</td>\n",
       "      <td>78.800</td>\n",
       "      <td>2187.7944</td>\n",
       "      <td>2187.7944</td>\n",
       "      <td>Short Trip</td>\n",
       "    </tr>\n",
       "    <tr>\n",
       "      <th>2</th>\n",
       "      <td>2022-07-26 16:16:48</td>\n",
       "      <td>2022-07-26 16:23:35</td>\n",
       "      <td>00:06:47</td>\n",
       "      <td>1.91</td>\n",
       "      <td>0.06</td>\n",
       "      <td>1072.65</td>\n",
       "      <td>31.833333</td>\n",
       "      <td>0.7098</td>\n",
       "      <td>0.7058</td>\n",
       "      <td>80.600</td>\n",
       "      <td>1491.2898</td>\n",
       "      <td>1482.8858</td>\n",
       "      <td>Short Trip</td>\n",
       "    </tr>\n",
       "    <tr>\n",
       "      <th>3</th>\n",
       "      <td>2022-05-18 20:33:28</td>\n",
       "      <td>2022-05-18 20:39:32</td>\n",
       "      <td>00:06:04</td>\n",
       "      <td>1.81</td>\n",
       "      <td>0.06</td>\n",
       "      <td>1016.80</td>\n",
       "      <td>30.166667</td>\n",
       "      <td>0.3804</td>\n",
       "      <td>0.3764</td>\n",
       "      <td>73.165</td>\n",
       "      <td>757.3764</td>\n",
       "      <td>749.4124</td>\n",
       "      <td>Short Trip</td>\n",
       "    </tr>\n",
       "    <tr>\n",
       "      <th>4</th>\n",
       "      <td>2022-11-03 16:38:58</td>\n",
       "      <td>2022-11-03 16:43:54</td>\n",
       "      <td>00:04:56</td>\n",
       "      <td>1.60</td>\n",
       "      <td>0.06</td>\n",
       "      <td>900.91</td>\n",
       "      <td>26.666667</td>\n",
       "      <td>0.6824</td>\n",
       "      <td>0.6784</td>\n",
       "      <td>65.730</td>\n",
       "      <td>1201.0240</td>\n",
       "      <td>1193.9840</td>\n",
       "      <td>Short Trip</td>\n",
       "    </tr>\n",
       "    <tr>\n",
       "      <th>...</th>\n",
       "      <td>...</td>\n",
       "      <td>...</td>\n",
       "      <td>...</td>\n",
       "      <td>...</td>\n",
       "      <td>...</td>\n",
       "      <td>...</td>\n",
       "      <td>...</td>\n",
       "      <td>...</td>\n",
       "      <td>...</td>\n",
       "      <td>...</td>\n",
       "      <td>...</td>\n",
       "      <td>...</td>\n",
       "      <td>...</td>\n",
       "    </tr>\n",
       "    <tr>\n",
       "      <th>1161</th>\n",
       "      <td>2022-06-30 14:31:39</td>\n",
       "      <td>2022-06-30 14:32:00</td>\n",
       "      <td>00:00:21</td>\n",
       "      <td>0.01</td>\n",
       "      <td>0.00</td>\n",
       "      <td>0.00</td>\n",
       "      <td>0.000000</td>\n",
       "      <td>0.5882</td>\n",
       "      <td>0.5804</td>\n",
       "      <td>82.400</td>\n",
       "      <td>0.0000</td>\n",
       "      <td>0.0000</td>\n",
       "      <td>Short Trip</td>\n",
       "    </tr>\n",
       "    <tr>\n",
       "      <th>1162</th>\n",
       "      <td>2022-07-03 08:20:48</td>\n",
       "      <td>2022-07-03 08:21:02</td>\n",
       "      <td>00:00:14</td>\n",
       "      <td>0.01</td>\n",
       "      <td>0.00</td>\n",
       "      <td>0.00</td>\n",
       "      <td>0.000000</td>\n",
       "      <td>0.6470</td>\n",
       "      <td>0.6470</td>\n",
       "      <td>66.200</td>\n",
       "      <td>0.0000</td>\n",
       "      <td>0.0000</td>\n",
       "      <td>Short Trip</td>\n",
       "    </tr>\n",
       "    <tr>\n",
       "      <th>1168</th>\n",
       "      <td>2022-07-29 13:43:33</td>\n",
       "      <td>2022-07-29 13:43:53</td>\n",
       "      <td>00:00:20</td>\n",
       "      <td>0.01</td>\n",
       "      <td>0.00</td>\n",
       "      <td>0.00</td>\n",
       "      <td>0.000000</td>\n",
       "      <td>0.7568</td>\n",
       "      <td>0.7568</td>\n",
       "      <td>66.200</td>\n",
       "      <td>0.0000</td>\n",
       "      <td>0.0000</td>\n",
       "      <td>Short Trip</td>\n",
       "    </tr>\n",
       "    <tr>\n",
       "      <th>1171</th>\n",
       "      <td>2022-08-15 12:30:25</td>\n",
       "      <td>2022-08-15 12:30:40</td>\n",
       "      <td>00:00:15</td>\n",
       "      <td>0.01</td>\n",
       "      <td>0.00</td>\n",
       "      <td>0.00</td>\n",
       "      <td>0.000000</td>\n",
       "      <td>0.6196</td>\n",
       "      <td>0.6196</td>\n",
       "      <td>66.200</td>\n",
       "      <td>0.0000</td>\n",
       "      <td>0.0000</td>\n",
       "      <td>Short Trip</td>\n",
       "    </tr>\n",
       "    <tr>\n",
       "      <th>1182</th>\n",
       "      <td>2022-10-10 10:37:11</td>\n",
       "      <td>2022-10-10 10:37:19</td>\n",
       "      <td>00:00:08</td>\n",
       "      <td>0.01</td>\n",
       "      <td>0.00</td>\n",
       "      <td>0.00</td>\n",
       "      <td>0.000000</td>\n",
       "      <td>0.7568</td>\n",
       "      <td>0.7568</td>\n",
       "      <td>66.200</td>\n",
       "      <td>0.0000</td>\n",
       "      <td>0.0000</td>\n",
       "      <td>Short Trip</td>\n",
       "    </tr>\n",
       "  </tbody>\n",
       "</table>\n",
       "<p>1092 rows × 13 columns</p>\n",
       "</div>"
      ],
      "text/plain": [
       "              start_date            end_date  duration  distance  \\\n",
       "0    2022-06-25 20:18:33 2022-06-25 20:25:43  00:07:10      1.59   \n",
       "1    2022-07-16 20:43:47 2022-07-16 20:48:01  00:04:14      0.79   \n",
       "2    2022-07-26 16:16:48 2022-07-26 16:23:35  00:06:47      1.91   \n",
       "3    2022-05-18 20:33:28 2022-05-18 20:39:32  00:06:04      1.81   \n",
       "4    2022-11-03 16:38:58 2022-11-03 16:43:54  00:04:56      1.60   \n",
       "...                  ...                 ...       ...       ...   \n",
       "1161 2022-06-30 14:31:39 2022-06-30 14:32:00  00:00:21      0.01   \n",
       "1162 2022-07-03 08:20:48 2022-07-03 08:21:02  00:00:14      0.01   \n",
       "1168 2022-07-29 13:43:33 2022-07-29 13:43:53  00:00:20      0.01   \n",
       "1171 2022-08-15 12:30:25 2022-08-15 12:30:40  00:00:15      0.01   \n",
       "1182 2022-10-10 10:37:11 2022-10-10 10:37:19  00:00:08      0.01   \n",
       "\n",
       "      electricity_used     MPGe       mikWh  start_soc  end_soc    temp  \\\n",
       "0                 0.01  5374.05  159.000000     0.7608   0.7608     NaN   \n",
       "1                 0.02  1327.81   39.500000     0.8392   0.8392  78.800   \n",
       "2                 0.06  1072.65   31.833333     0.7098   0.7058  80.600   \n",
       "3                 0.06  1016.80   30.166667     0.3804   0.3764  73.165   \n",
       "4                 0.06   900.91   26.666667     0.6824   0.6784  65.730   \n",
       "...                ...      ...         ...        ...      ...     ...   \n",
       "1161              0.00     0.00    0.000000     0.5882   0.5804  82.400   \n",
       "1162              0.00     0.00    0.000000     0.6470   0.6470  66.200   \n",
       "1168              0.00     0.00    0.000000     0.7568   0.7568  66.200   \n",
       "1171              0.00     0.00    0.000000     0.6196   0.6196  66.200   \n",
       "1182              0.00     0.00    0.000000     0.7568   0.7568  66.200   \n",
       "\n",
       "      start_range  end_range distance_desc  \n",
       "0       7983.8352  7983.8352    Short Trip  \n",
       "1       2187.7944  2187.7944    Short Trip  \n",
       "2       1491.2898  1482.8858    Short Trip  \n",
       "3        757.3764   749.4124    Short Trip  \n",
       "4       1201.0240  1193.9840    Short Trip  \n",
       "...           ...        ...           ...  \n",
       "1161       0.0000     0.0000    Short Trip  \n",
       "1162       0.0000     0.0000    Short Trip  \n",
       "1168       0.0000     0.0000    Short Trip  \n",
       "1171       0.0000     0.0000    Short Trip  \n",
       "1182       0.0000     0.0000    Short Trip  \n",
       "\n",
       "[1092 rows x 13 columns]"
      ]
     },
     "execution_count": 62,
     "metadata": {},
     "output_type": "execute_result"
    }
   ],
   "source": [
    "#appending Column to Dataframe describing if the trip was short, medium, or long\n",
    "trips['distance_desc'] = trips.apply(lambda x: distance_describer(x), axis = 1)\n",
    "trips"
   ]
  },
  {
   "cell_type": "code",
   "execution_count": 88,
   "id": "32e2743c",
   "metadata": {},
   "outputs": [
    {
     "data": {
      "image/png": "[encoded data removed]",
      "text/plain": [
       "<Figure size 635x500 with 1 Axes>"
      ]
     },
     "metadata": {},
     "output_type": "display_data"
    }
   ],
   "source": [
    "sns.lmplot(x='distance', y='mikWh', data=trips[trips.mikWh<15], hue='distance_desc')\n",
    "plt.title('Distance vs. mi/kWh');"
   ]
  },
  {
   "cell_type": "code",
   "execution_count": 87,
   "id": "d4e0645f",
   "metadata": {},
   "outputs": [
    {
     "data": {
      "image/png": "[encoded data removed]",
      "text/plain": [
       "<Figure size 635x500 with 1 Axes>"
      ]
     },
     "metadata": {},
     "output_type": "display_data"
    }
   ],
   "source": [
    "g = sns.lmplot(x='distance', y='mikWh', data=trips[trips.mikWh<15], hue='distance_desc')\n",
    "g.set(xscale=\"log\") \n",
    "plt.title('Log of Distance vs. mi/kWh')\n",
    "plt.grid(which='major');"
   ]
  },
  {
   "cell_type": "code",
   "execution_count": 39,
   "id": "aa8f6edf",
   "metadata": {},
   "outputs": [
    {
     "data": {
      "image/png": "[encoded data removed]",
      "text/plain": [
       "<Figure size 1200x600 with 1 Axes>"
      ]
     },
     "metadata": {},
     "output_type": "display_data"
    }
   ],
   "source": [
    "fig, ax = plt.subplots()\n",
    "ax.hist(trips.distance, bins = 200)\n",
    "ax.xaxis.set_major_locator(ticker.MultipleLocator(4));"
   ]
  },
  {
   "cell_type": "markdown",
   "id": "db5ad665",
   "metadata": {},
   "source": [
    "## Does time of day have an Effect on Effeciency?"
   ]
  },
  {
   "cell_type": "code",
   "execution_count": null,
   "id": "b30865fc",
   "metadata": {},
   "outputs": [],
   "source": []
  },
  {
   "cell_type": "code",
   "execution_count": 16,
   "id": "1f7bca41",
   "metadata": {},
   "outputs": [
    {
     "data": {
      "text/plain": [
       "datetime.time"
      ]
     },
     "execution_count": 16,
     "metadata": {},
     "output_type": "execute_result"
    }
   ],
   "source": [
    "morn =  datetime.time(hour = 6, minute = 0, second = 0)\n",
    "after = datetime.time(hour = 12, minute = 0, second = 0)\n",
    "even = datetime.time(hour = 18, minute = 0, second = 0)\n",
    "type(after)"
   ]
  },
  {
   "cell_type": "code",
   "execution_count": 17,
   "id": "dc29da11",
   "metadata": {},
   "outputs": [],
   "source": [
    "# trips.start_date.dt.time.between_time(morn, after, include_start = True, include_end = False)\n"
   ]
  },
  {
   "cell_type": "code",
   "execution_count": 18,
   "id": "8b79c30b",
   "metadata": {},
   "outputs": [],
   "source": [
    "# trips[trips.start_date.time() < morn]"
   ]
  },
  {
   "cell_type": "code",
   "execution_count": 20,
   "id": "974cd4df",
   "metadata": {
    "scrolled": true
   },
   "outputs": [
    {
     "name": "stdout",
     "output_type": "stream",
     "text": [
      "15.934624542124526\n",
      "5.29\n",
      "0    0.01\n",
      "Name: distance, dtype: float64\n"
     ]
    }
   ],
   "source": [
    "print(trips.distance.mean()) # 15.9\n",
    "print(trips.distance.median()) #5.29\n",
    "print(trips.distance.mode()) # 0 & .01???"
   ]
  },
  {
   "cell_type": "markdown",
   "id": "e89b256d",
   "metadata": {},
   "source": [
    "## Initial Quick Analysis"
   ]
  },
  {
   "cell_type": "markdown",
   "id": "f09eb4cc",
   "metadata": {},
   "source": [
    "-------------------------------------\n",
    "\n",
    "The data has a total of ***1092*** observations."
   ]
  },
  {
   "cell_type": "markdown",
   "id": "55831417",
   "metadata": {},
   "source": [
    "This data takes place in the <u>**temp range 23-100&deg;F**</u>"
   ]
  },
  {
   "cell_type": "code",
   "execution_count": null,
   "id": "501c092a",
   "metadata": {},
   "outputs": [],
   "source": [
    "print(trips.temp.min())\n",
    "print(trips.temp.max())"
   ]
  },
  {
   "cell_type": "markdown",
   "id": "5fe21a58",
   "metadata": {},
   "source": [
    "Avg trip <u>**distance**</u> is 15.9 mi"
   ]
  },
  {
   "cell_type": "code",
   "execution_count": null,
   "id": "131a9906",
   "metadata": {
    "scrolled": true
   },
   "outputs": [],
   "source": [
    "trips.distance.mean()"
   ]
  },
  {
   "cell_type": "markdown",
   "id": "7bc19b1e",
   "metadata": {},
   "source": [
    "An average trip uses <u>**3.89 kWh of energy**</u>.\n",
    "\n",
    "This represents <u>**5.9%**</u> of the 66kWh Battery's capacity. \n",
    "\n",
    "This means if the battery is charged to 100%, on average a Chevy Bolt owner could get <u>**16 trips out of single charge.**</u> \n",
    "\n",
    "However, This is unrealistic because you shouldn't start a trip with less than 10%. In my dataset I started a trip with less than 10% <u>**2 times**</u> and ended a trip with less than 10% <u>**7 times**</u>. You also shouldn't really charge past 80% of the capcity. I did this <u>**305 times**</u>. ...Whoops.\n",
    "\n",
    "So following all the best practices you are looking at an AVG of 11 trips of 15.5mi(3.88 kWh) each per responsible Charge. "
   ]
  },
  {
   "cell_type": "code",
   "execution_count": null,
   "id": "81c88c74",
   "metadata": {},
   "outputs": [],
   "source": [
    "print(trips.electricity_used.mean()/66)\n",
    "print(66//trips.electricity_used.mean())\n",
    "print((66*.7)//trips.electricity_used.mean())\n",
    "print(trips.loc[trips['start_soc']<.10,'distance'].count()) # amount of times I started a trip with less than 10%\n",
    "print(trips.loc[trips['end_soc']<.10,'distance'].count()) # amount of times I ended a trip with less than 10%\n",
    "print(trips.loc[trips['start_soc']>.80,'distance'].count()) # amount of times I started a trip with more than 80%"
   ]
  },
  {
   "cell_type": "markdown",
   "id": "70dcb97f",
   "metadata": {},
   "source": [
    "11 trips, averaging 15 miles each sounds suffecient to me, but there are consumers that feel this isn't enough. And rightly fully so, considering that the US Federal Highway Administration shows that the average daily miles driven is ***36.9 miles*** * meaning that you could expect to get roughly two days out of the Chevy Bolt before you need to chargeup.\n",
    "\n",
    "*https://www.fhwa.dot.gov/ohim/onh00/bar8.htm\n",
    "\n"
   ]
  },
  {
   "cell_type": "code",
   "execution_count": null,
   "id": "58f3008f",
   "metadata": {},
   "outputs": [],
   "source": [
    "13476/365\n",
    "(66*.7)//36.9"
   ]
  },
  {
   "cell_type": "markdown",
   "id": "72f611b3",
   "metadata": {},
   "source": [
    "However, the interesting thing that most consumer's do not understand, is that the biggest benefit to an electric vehicle is that you have a \"Gas Station\" in your own home. Every day you come home, you can plug in your vehicle and it's back to full by the next day.\n",
    "\n",
    "This completely changes way drivers think about the chore of \"re-fueling\".I RARELY have to go out of my way to refuel this past year. \n",
    "\n",
    "Most drivers visit the gas station 2-4 amount of times a month.\n",
    "\n",
    "I have visited a charging station 12 times this year to charge out of neccesity outside of my garage.  "
   ]
  },
  {
   "cell_type": "markdown",
   "id": "9ec08d57",
   "metadata": {},
   "source": [
    "Average starting <u>**State of Charge(SOC):**</u> is ***70%***, meaning I have followed good charging practices for the health of the battery and that the data is more realistic/representative towards reccomended best practices, and not idealistic numbers. "
   ]
  },
  {
   "cell_type": "code",
   "execution_count": null,
   "id": "5138cb12",
   "metadata": {
    "scrolled": true
   },
   "outputs": [],
   "source": [
    "trips.start_soc.mean()"
   ]
  },
  {
   "cell_type": "markdown",
   "id": "b82286a2",
   "metadata": {},
   "source": [
    "****Calculating MPGe****\n",
    "\n",
    "In order to make any comparisions to gas vehicles we need some sort of conversion. The USA Environmental Protection Agency (EPA) has come up with a converstion to compare MPG to mi/kWh. It is called MPGe or \"Miles per gallon equivalent\"\n",
    "\n",
    "Without getting too much in the weeds, the basis behind the conversion is that both burning gasoline and using electricity generates heat. so MPGe is essentially the heat equivalent of MPG. \n",
    "\n",
    "1 gallon of gas = 115,000 BTUs = 33.7kWh"
   ]
  },
  {
   "cell_type": "markdown",
   "id": "732947dc",
   "metadata": {},
   "source": [
    "<u> The avg MPGe for my trip data is 149.5 </u>"
   ]
  },
  {
   "cell_type": "code",
   "execution_count": null,
   "id": "2f67c369",
   "metadata": {},
   "outputs": [],
   "source": [
    "trips.MPGe.mean()"
   ]
  },
  {
   "cell_type": "markdown",
   "id": "5fb46c8d",
   "metadata": {},
   "source": [
    "and an avg <u>trip effeciency: 4.49 mi/kWh</u>"
   ]
  },
  {
   "cell_type": "code",
   "execution_count": null,
   "id": "6c65bbdc",
   "metadata": {},
   "outputs": [],
   "source": [
    "trips.mikWh.mean()"
   ]
  },
  {
   "cell_type": "markdown",
   "id": "9d263a42",
   "metadata": {},
   "source": [
    "# What do I do with Extreme mikWh values?\n",
    "it's messing up the visuals and data?\n"
   ]
  },
  {
   "cell_type": "code",
   "execution_count": null,
   "id": "f25b5ff0",
   "metadata": {},
   "outputs": [],
   "source": [
    "trips.sort_values('MPGe', ascending = False)"
   ]
  },
  {
   "cell_type": "markdown",
   "id": "178f710f",
   "metadata": {},
   "source": [
    "## Skewness and Kurtosis\n",
    "\n",
    "<img src=\"images/skewness.png\" width=\"500\" align = \"left\"/>"
   ]
  },
  {
   "cell_type": "markdown",
   "id": "6104c1e8",
   "metadata": {},
   "source": [
    "<img src=\"images/kurtosis.jpg\" width=\"400\" align = \"left\"/>"
   ]
  },
  {
   "cell_type": "code",
   "execution_count": null,
   "id": "8370c864",
   "metadata": {},
   "outputs": [],
   "source": [
    "# Skewness: asymmetry from the norm\n",
    "print(f\"Skewness: {trips[r'temp'].skew()}\")\n",
    "print(f\"Kurtosis: {trips[r'temp'].kurt()}\")"
   ]
  },
  {
   "cell_type": "code",
   "execution_count": null,
   "id": "aab352a1",
   "metadata": {},
   "outputs": [],
   "source": [
    "trips_facet = trips.iloc[:,3:12]\n",
    "\n",
    "f, axes = plt.subplots(3, 3, figsize=(10, 10), sharex=False)\n",
    "sns.distplot(trips_facet.iloc[:,0], ax=axes[0,0])\n",
    "sns.distplot(trips_facet.iloc[:,1], ax=axes[0,1])\n",
    "sns.distplot(trips_facet.iloc[:,2], ax=axes[0,2])\n",
    "sns.distplot(trips_facet.iloc[:,3], ax=axes[1,0])\n",
    "sns.distplot(trips_facet.iloc[:,4], ax=axes[1,1])\n",
    "sns.distplot(trips_facet.iloc[:,5], ax=axes[1,2])\n",
    "sns.distplot(trips_facet.iloc[:,6], ax=axes[2,0])\n",
    "sns.distplot(trips_facet.iloc[:,7], ax=axes[2,1])\n",
    "sns.distplot(trips_facet.iloc[:,8], ax=axes[2,2])\n",
    "\n",
    "for i, ax in enumerate(axes.reshape(-1)):\n",
    "    ax.text(x=0.97, y=0.97, transform=ax.transAxes, s=\"Skewness: %f\" % trips_facet.iloc[:,i].skew(),\\\n",
    "        fontweight='demibold', fontsize=7, verticalalignment='top', horizontalalignment='right',\\\n",
    "        backgroundcolor='white', color='xkcd:poo brown')\n",
    "    ax.text(x=0.97, y=0.91, transform=ax.transAxes, s=\"Kurtosis: %f\" % trips_facet.iloc[:,i].kurt(),\\\n",
    "        fontweight='demibold', fontsize=7, verticalalignment='top', horizontalalignment='right',\\\n",
    "        backgroundcolor='white', color='xkcd:dried blood')\n",
    "    ax.text(x=0.97, y=0.85, transform=ax.transAxes, s=\"Mean: %f\" % trips_facet.iloc[:,i].mean(),\\\n",
    "        fontweight='demibold', fontsize=7, verticalalignment='top', horizontalalignment='right',\\\n",
    "        backgroundcolor='white', color='teal')\n",
    "plt.tight_layout();\n",
    "\n"
   ]
  },
  {
   "cell_type": "markdown",
   "id": "69efb74f",
   "metadata": {},
   "source": [
    "## Visualizations\n"
   ]
  },
  {
   "cell_type": "code",
   "execution_count": null,
   "id": "49c0c912",
   "metadata": {},
   "outputs": [],
   "source": [
    "# distance\n",
    "y = trips['distance']\n",
    "\n",
    "plt.hist(y, bins = 10);"
   ]
  },
  {
   "cell_type": "code",
   "execution_count": null,
   "id": "bbca6d6c",
   "metadata": {},
   "outputs": [],
   "source": [
    "# electricity_used\n",
    "x = trips['start_date']\n",
    "y = trips['electricity_used']\n",
    "plt.hist(y, bins = 20);\n"
   ]
  },
  {
   "cell_type": "code",
   "execution_count": null,
   "id": "7f358c8a",
   "metadata": {},
   "outputs": [],
   "source": [
    "# MPGe\n",
    "y = trips['MPGe']\n",
    "\n",
    "plt.hist(y,bins=10);"
   ]
  },
  {
   "cell_type": "code",
   "execution_count": null,
   "id": "3af39cb7",
   "metadata": {},
   "outputs": [],
   "source": [
    "# mikWh\n",
    "y = trips['mikWh']\n",
    "plt.hist(y,bins=40);"
   ]
  },
  {
   "cell_type": "code",
   "execution_count": null,
   "id": "50a0740e",
   "metadata": {},
   "outputs": [],
   "source": [
    "# start_soc\n",
    "y = trips['start_soc']\n",
    "plt.hist(y,bins=25);"
   ]
  },
  {
   "cell_type": "code",
   "execution_count": null,
   "id": "24b6e255",
   "metadata": {},
   "outputs": [],
   "source": [
    "# end_soc\n",
    "y = trips['end_soc']\n",
    "plt.hist(y,bins=25);"
   ]
  },
  {
   "cell_type": "code",
   "execution_count": null,
   "id": "c2d6e55c",
   "metadata": {},
   "outputs": [],
   "source": [
    "import matplotlib.pyplot as plt\n",
    "\n",
    "\n",
    "def millions(x, pos):\n",
    "    \"\"\"The two arguments are the value and tick position.\"\"\"\n",
    "    return '${:1.1f}M'.format(x*1e-6)\n",
    "\n",
    "\n",
    "fig, ax = plt.subplots()\n",
    "# set_major_formatter internally creates a FuncFormatter from the callable.\n",
    "ax.yaxis.set_major_formatter(millions)\n",
    "money = [1.5e5, 2.5e6, 5.5e6, 2.0e7]\n",
    "ax.bar(['Bill', 'Fred', 'Mary', 'Sue'], money)\n",
    "plt.show()"
   ]
  },
  {
   "cell_type": "code",
   "execution_count": null,
   "id": "e39eb97b",
   "metadata": {},
   "outputs": [],
   "source": [
    "my_fmt = mdates.DateFormatter('%m')\n",
    "\n",
    "def fahr_format(x, pos):\n",
    "    \"\"\"The two arguments are the value and tick position.\"\"\"\n",
    "    return '{:3.0f}°F'.format(x)\n",
    "\n",
    "\n",
    "x = trips['start_date']\n",
    "y = trips['temp']\n",
    "\n",
    "fig, ax = plt.subplots()\n",
    "ax.scatter(x,y,c = trips.loc[:,'temp'], cmap = 'coolwarm')\n",
    "\n",
    "ax.set_title('Climate Range')\n",
    "\n",
    "ax.xaxis.set_major_formatter(\n",
    "    mdates.ConciseDateFormatter(ax.xaxis.get_major_locator()))\n",
    "ax.yaxis.set_major_formatter(fahr_format)\n",
    "# ax.ticklabel_format(axis='y',) FormatStrFormatter('%°f')\n",
    "\n",
    "# ax.set_yticklabels(['{:,\\d}'.format(x) for x in ax])\n"
   ]
  },
  {
   "cell_type": "code",
   "execution_count": null,
   "id": "3cad0bc0",
   "metadata": {},
   "outputs": [],
   "source": [
    "# temp\n",
    "# my_fmt = mdates.DateFormatter('%d')\n",
    "# months = mdates.MonthLocator()  # every month\n",
    "\n",
    "x = trips['start_date']\n",
    "y = trips['temp']\n",
    "plt.scatter(x,y, c = trips.loc[:,'temp'], cmap = 'coolwarm')\n",
    "plt.title(\"Driving Conditions\")\n",
    "\n",
    "# ax.xaxis.set_major_formatter(my_fmt);"
   ]
  },
  {
   "cell_type": "code",
   "execution_count": null,
   "id": "3706b42a",
   "metadata": {},
   "outputs": [],
   "source": [
    "# start_range\n",
    "y = trips['start_range']\n",
    "plt.hist(y,bins=20);"
   ]
  },
  {
   "cell_type": "code",
   "execution_count": null,
   "id": "b7927c4a",
   "metadata": {},
   "outputs": [],
   "source": [
    "# end_range\n",
    "y = trips['end_range']\n",
    "plt.hist(y,bins=20);"
   ]
  },
  {
   "cell_type": "code",
   "execution_count": null,
   "id": "3cc83c09",
   "metadata": {},
   "outputs": [],
   "source": [
    "trips[trips[r'mikWh']<15]"
   ]
  },
  {
   "cell_type": "code",
   "execution_count": null,
   "id": "d679ae5b",
   "metadata": {},
   "outputs": [],
   "source": [
    "# temp = trips[trips[r'mi/kWh']<15]\n",
    "# x = temp[r'mi/kWh']\n",
    "# y = temp[r'Ambient Temperature (F)']\n",
    "# a, b = np.polyfit(x, y, 1)"
   ]
  },
  {
   "cell_type": "code",
   "execution_count": null,
   "id": "e78c7c21",
   "metadata": {},
   "outputs": [],
   "source": [
    "sns.lmplot(y = r'mikWh', x = r'temp', data = trips)\n"
   ]
  },
  {
   "cell_type": "code",
   "execution_count": null,
   "id": "ca914942",
   "metadata": {},
   "outputs": [],
   "source": [
    "temp = trips[trips[r'mikWh']<10]\n",
    "temp.plot(r'mikWh', r'temp', kind = 'scatter',\\\n",
    "                                c = trips.loc[trips[r'mikWh']<10,:][r'temp'],\\\n",
    "                                colormap = 'coolwarm',  alpha = 1, sharex=False)\n",
    "\n",
    "\n",
    "sns.lmplot(x = r'mikWh', y = r'temp', data = temp)\n",
    "sns.jointplot(x = r'mikWh', y = r'temp', data = temp)\n",
    "# temp.plot(x, a*x+b) \n",
    "\n",
    "\n"
   ]
  },
  {
   "cell_type": "code",
   "execution_count": null,
   "id": "0129955b",
   "metadata": {},
   "outputs": [],
   "source": [
    "# import numpy as np\n",
    "# import matplotlib.pyplot as plt\n",
    "\n",
    "# #define data\n",
    "# x = np.array([1, 2, 3, 4, 5, 6, 7, 8])\n",
    "# y = np.array([2, 5, 6, 7, 9, 12, 16, 19])\n",
    "\n",
    "# #find line of best fit\n",
    "# a, b = np.polyfit(x, y, 1)\n",
    "\n",
    "# #add points to plot\n",
    "# plt.scatter(x, y, color='purple')\n",
    "\n",
    "# #add line of best fit to plot\n",
    "# plt.plot(x, a*x+b, color='steelblue', linestyle='--', linewidth=2)\n",
    "\n",
    "# #add fitted regression equation to plot\n",
    "# plt.text(1, 17, 'y = ' + '{:.2f}'.format(b) + ' + {:.2f}'.format(a) + 'x', size=14)"
   ]
  },
  {
   "cell_type": "markdown",
   "id": "9d28e6e9",
   "metadata": {},
   "source": [
    "# NEED TO FIX DURATION dtype"
   ]
  },
  {
   "cell_type": "code",
   "execution_count": null,
   "id": "1b2113a5",
   "metadata": {},
   "outputs": [],
   "source": [
    "\n",
    "\n",
    "\n",
    "# gas_prices['Duration'] = pd.datetime.time to_datetime(gas_prices['date'])\n",
    "# gas_prices.dtypes"
   ]
  },
  {
   "cell_type": "code",
   "execution_count": null,
   "id": "47ce85ff",
   "metadata": {},
   "outputs": [],
   "source": []
  },
  {
   "cell_type": "markdown",
   "id": "9ff0060f",
   "metadata": {},
   "source": [
    "### gas_prices"
   ]
  },
  {
   "cell_type": "code",
   "execution_count": null,
   "id": "9d41e4cf",
   "metadata": {},
   "outputs": [],
   "source": [
    "# Reading in NY State Weekly Gas Prices\n",
    "gas_prices = pd.read_csv('data/RAW-NY_Gas_prices_REGULAR_FORMULA_Weekly_Retail_Gasoline_and_Diesel_Prices.csv'\\\n",
    "                    , skiprows = 7, names = ['date','price'])\n",
    "# gas_prices.value_counts\n",
    "gas_prices.head()\n",
    "# gas_prices.describe()"
   ]
  },
  {
   "cell_type": "code",
   "execution_count": null,
   "id": "279f2e41",
   "metadata": {},
   "outputs": [],
   "source": [
    "# Converting column 'date' to datetime\n",
    "gas_prices['date'] = pd.to_datetime(gas_prices['date'])\n",
    "gas_prices.dtypes"
   ]
  },
  {
   "cell_type": "code",
   "execution_count": null,
   "id": "befc07d2",
   "metadata": {
    "scrolled": true
   },
   "outputs": [],
   "source": [
    "gas_prices = gas_prices[gas_prices['date'].dt.year == 2022]\n",
    "gas_prices.head()"
   ]
  },
  {
   "cell_type": "code",
   "execution_count": null,
   "id": "9a23f8a8",
   "metadata": {},
   "outputs": [],
   "source": [
    "x = gas_prices['date']\n",
    "y = gas_prices['price']\n",
    "\n",
    "gas_prices.plot(x = 'date', y ='price', kind = 'line')\n",
    "\n",
    "\n"
   ]
  },
  {
   "cell_type": "markdown",
   "id": "76cdb27c",
   "metadata": {},
   "source": [
    "# Fill in missing dates, and copy values"
   ]
  },
  {
   "cell_type": "code",
   "execution_count": null,
   "id": "f88a6d78",
   "metadata": {},
   "outputs": [],
   "source": [
    "\n",
    "idx = pd.date_range('01-01-2022', '11-28-2022')\n",
    "\n",
    "s = pd.Series(gas_prices.to_dict)\n",
    "\n",
    "s.index = pd.DatetimeIndex(s.index)\n",
    "\n",
    "s = s.reindex(idx, fill_value=0)\n",
    "s"
   ]
  },
  {
   "cell_type": "markdown",
   "id": "2e671689",
   "metadata": {},
   "source": [
    "# boxplot: Gas vs electrc"
   ]
  },
  {
   "cell_type": "markdown",
   "id": "ab6d3fa4",
   "metadata": {},
   "source": [
    "Electricity Prices"
   ]
  },
  {
   "cell_type": "code",
   "execution_count": null,
   "id": "840b30fc",
   "metadata": {},
   "outputs": [],
   "source": [
    "# #\n",
    "# supply_chrg = 9.7383 #/kwh\n",
    "# deliv_chrg = 13.9280 #/kwh\n",
    "# sys_ben_chrg = .5005 #/kwh\n",
    "# sales_tax = .07 # 7% over total"
   ]
  }
 ],
 "metadata": {
  "kernelspec": {
   "display_name": "Python 3 (ipykernel)",
   "language": "python",
   "name": "python3"
  },
  "language_info": {
   "codemirror_mode": {
    "name": "ipython",
    "version": 3
   },
   "file_extension": ".py",
   "mimetype": "text/x-python",
   "name": "python",
   "nbconvert_exporter": "python",
   "pygments_lexer": "ipython3",
   "version": "3.9.12"
  }
 },
 "nbformat": 4,
 "nbformat_minor": 5
}
