{
 "cells": [
  {
   "cell_type": "code",
   "execution_count": 1,
   "id": "fda32cfc",
   "metadata": {},
   "outputs": [],
   "source": [
    "# data manipulation\n",
    "import numpy as np\n",
    "import pandas as pd\n",
    "\n",
    "# data viz\n",
    "from matplotlib import pyplot as plt\n",
    "from matplotlib import rcParams\n",
    "import seaborn as sns\n",
    "\n",
    "\n",
    "\n",
    "\n",
    "# Viz Styling\n",
    "plt.style.use('ggplot')\n",
    "rcParams['figure.figsize'] = (12,  6)\n",
    "pd.set_option('display.max_columns',50)"
   ]
  },
  {
   "cell_type": "markdown",
   "id": "dfc9a372",
   "metadata": {},
   "source": [
    "## Importing"
   ]
  },
  {
   "cell_type": "code",
   "execution_count": 2,
   "id": "0075d79b",
   "metadata": {
    "scrolled": true
   },
   "outputs": [
    {
     "data": {
      "text/html": [
       "<div>\n",
       "<style scoped>\n",
       "    .dataframe tbody tr th:only-of-type {\n",
       "        vertical-align: middle;\n",
       "    }\n",
       "\n",
       "    .dataframe tbody tr th {\n",
       "        vertical-align: top;\n",
       "    }\n",
       "\n",
       "    .dataframe thead th {\n",
       "        text-align: right;\n",
       "    }\n",
       "</style>\n",
       "<table border=\"1\" class=\"dataframe\">\n",
       "  <thead>\n",
       "    <tr style=\"text-align: right;\">\n",
       "      <th></th>\n",
       "      <th>Vehicle Model</th>\n",
       "      <th>Start Date</th>\n",
       "      <th>End Date</th>\n",
       "      <th>Duration</th>\n",
       "      <th>Distance (mi)</th>\n",
       "      <th>Gasoline Consumed (gal)</th>\n",
       "      <th>Electricity Consumed (kWh)</th>\n",
       "      <th>Fuel Efficiency Equivalent (MPGeq)</th>\n",
       "      <th>mi/kWh</th>\n",
       "      <th>Starting SOC (%)</th>\n",
       "      <th>Ending SOC (%)</th>\n",
       "      <th>Ambient Temperature (F)</th>\n",
       "      <th>Smooth Acceleration (%)</th>\n",
       "      <th>Smooth Braking (%)</th>\n",
       "    </tr>\n",
       "  </thead>\n",
       "  <tbody>\n",
       "    <tr>\n",
       "      <th>0</th>\n",
       "      <td>2019 Chevrolet Bolt EV</td>\n",
       "      <td>2022-02-24 08:25:56</td>\n",
       "      <td>2022-02-24 09:32:13</td>\n",
       "      <td>01:06:17</td>\n",
       "      <td>45.54</td>\n",
       "      <td>NaN</td>\n",
       "      <td>12.64</td>\n",
       "      <td>121.44</td>\n",
       "      <td>3.602848</td>\n",
       "      <td>0.00</td>\n",
       "      <td>0.00</td>\n",
       "      <td>31.81</td>\n",
       "      <td>NaN</td>\n",
       "      <td>NaN</td>\n",
       "    </tr>\n",
       "    <tr>\n",
       "      <th>1</th>\n",
       "      <td>2019 Chevrolet Bolt EV</td>\n",
       "      <td>2022-02-24 09:34:42</td>\n",
       "      <td>2022-02-24 09:35:32</td>\n",
       "      <td>00:00:50</td>\n",
       "      <td>0.00</td>\n",
       "      <td>NaN</td>\n",
       "      <td>0.03</td>\n",
       "      <td>NaN</td>\n",
       "      <td>0.000000</td>\n",
       "      <td>53.72</td>\n",
       "      <td>53.72</td>\n",
       "      <td>34.07</td>\n",
       "      <td>NaN</td>\n",
       "      <td>NaN</td>\n",
       "    </tr>\n",
       "    <tr>\n",
       "      <th>2</th>\n",
       "      <td>2019 Chevrolet Bolt EV</td>\n",
       "      <td>2022-02-24 16:05:49</td>\n",
       "      <td>2022-02-24 16:06:21</td>\n",
       "      <td>00:00:32</td>\n",
       "      <td>0.00</td>\n",
       "      <td>NaN</td>\n",
       "      <td>0.05</td>\n",
       "      <td>NaN</td>\n",
       "      <td>0.000000</td>\n",
       "      <td>53.72</td>\n",
       "      <td>56.08</td>\n",
       "      <td>62.60</td>\n",
       "      <td>NaN</td>\n",
       "      <td>NaN</td>\n",
       "    </tr>\n",
       "    <tr>\n",
       "      <th>3</th>\n",
       "      <td>2019 Chevrolet Bolt EV</td>\n",
       "      <td>2022-02-24 18:00:42</td>\n",
       "      <td>2022-02-24 19:06:38</td>\n",
       "      <td>01:05:56</td>\n",
       "      <td>45.57</td>\n",
       "      <td>NaN</td>\n",
       "      <td>13.19</td>\n",
       "      <td>116.46</td>\n",
       "      <td>3.454890</td>\n",
       "      <td>56.08</td>\n",
       "      <td>32.16</td>\n",
       "      <td>36.96</td>\n",
       "      <td>NaN</td>\n",
       "      <td>NaN</td>\n",
       "    </tr>\n",
       "    <tr>\n",
       "      <th>4</th>\n",
       "      <td>2019 Chevrolet Bolt EV</td>\n",
       "      <td>2022-02-26 09:50:22</td>\n",
       "      <td>2022-02-26 10:03:52</td>\n",
       "      <td>00:13:30</td>\n",
       "      <td>5.36</td>\n",
       "      <td>NaN</td>\n",
       "      <td>1.67</td>\n",
       "      <td>108.13</td>\n",
       "      <td>3.209581</td>\n",
       "      <td>77.26</td>\n",
       "      <td>74.51</td>\n",
       "      <td>30.52</td>\n",
       "      <td>NaN</td>\n",
       "      <td>NaN</td>\n",
       "    </tr>\n",
       "  </tbody>\n",
       "</table>\n",
       "</div>"
      ],
      "text/plain": [
       "            Vehicle Model          Start Date            End Date  Duration  \\\n",
       "0  2019 Chevrolet Bolt EV 2022-02-24 08:25:56 2022-02-24 09:32:13  01:06:17   \n",
       "1  2019 Chevrolet Bolt EV 2022-02-24 09:34:42 2022-02-24 09:35:32  00:00:50   \n",
       "2  2019 Chevrolet Bolt EV 2022-02-24 16:05:49 2022-02-24 16:06:21  00:00:32   \n",
       "3  2019 Chevrolet Bolt EV 2022-02-24 18:00:42 2022-02-24 19:06:38  01:05:56   \n",
       "4  2019 Chevrolet Bolt EV 2022-02-26 09:50:22 2022-02-26 10:03:52  00:13:30   \n",
       "\n",
       "   Distance (mi)  Gasoline Consumed (gal)  Electricity Consumed (kWh)  \\\n",
       "0          45.54                      NaN                       12.64   \n",
       "1           0.00                      NaN                        0.03   \n",
       "2           0.00                      NaN                        0.05   \n",
       "3          45.57                      NaN                       13.19   \n",
       "4           5.36                      NaN                        1.67   \n",
       "\n",
       "   Fuel Efficiency Equivalent (MPGeq)    mi/kWh  Starting SOC (%)  \\\n",
       "0                              121.44  3.602848              0.00   \n",
       "1                                 NaN  0.000000             53.72   \n",
       "2                                 NaN  0.000000             53.72   \n",
       "3                              116.46  3.454890             56.08   \n",
       "4                              108.13  3.209581             77.26   \n",
       "\n",
       "   Ending SOC (%)  Ambient Temperature (F)  Smooth Acceleration (%)  \\\n",
       "0            0.00                    31.81                      NaN   \n",
       "1           53.72                    34.07                      NaN   \n",
       "2           56.08                    62.60                      NaN   \n",
       "3           32.16                    36.96                      NaN   \n",
       "4           74.51                    30.52                      NaN   \n",
       "\n",
       "   Smooth Braking (%)  \n",
       "0                 NaN  \n",
       "1                 NaN  \n",
       "2                 NaN  \n",
       "3                 NaN  \n",
       "4                 NaN  "
      ]
     },
     "execution_count": 2,
     "metadata": {},
     "output_type": "execute_result"
    }
   ],
   "source": [
    "trips = pd.read_excel('data/RAW-2019-Chevy-Bolt-Trip-Data.xlsx')\n",
    "\n",
    "trips.head()\n",
    "# testing comment"
   ]
  },
  {
   "cell_type": "code",
   "execution_count": 3,
   "id": "fd8a52c5",
   "metadata": {},
   "outputs": [
    {
     "data": {
      "text/plain": [
       "Vehicle Model                         1090\n",
       "Start Date                            1090\n",
       "End Date                              1090\n",
       "Duration                              1090\n",
       "Distance (mi)                         1090\n",
       "Gasoline Consumed (gal)                  0\n",
       "Electricity Consumed (kWh)            1088\n",
       "Fuel Efficiency Equivalent (MPGeq)    1003\n",
       "mi/kWh                                1090\n",
       "Starting SOC (%)                      1090\n",
       "Ending SOC (%)                        1090\n",
       "Ambient Temperature (F)                918\n",
       "Smooth Acceleration (%)                  0\n",
       "Smooth Braking (%)                       0\n",
       "dtype: int64"
      ]
     },
     "execution_count": 3,
     "metadata": {},
     "output_type": "execute_result"
    }
   ],
   "source": [
    "# Finding null columns\n",
    "np.sum(~trips.isnull())"
   ]
  },
  {
   "cell_type": "markdown",
   "id": "f4879b40",
   "metadata": {},
   "source": [
    "## Cleaning"
   ]
  },
  {
   "cell_type": "code",
   "execution_count": 4,
   "id": "c539eeda",
   "metadata": {},
   "outputs": [
    {
     "data": {
      "text/plain": [
       "Index(['Vehicle Model', 'Start Date', 'End Date', 'Duration', 'Distance (mi)',\n",
       "       'Gasoline Consumed (gal)', 'Electricity Consumed (kWh)',\n",
       "       'Fuel Efficiency Equivalent (MPGeq)', 'mi/kWh', 'Starting SOC (%)',\n",
       "       'Ending SOC (%)', 'Ambient Temperature (F)', 'Smooth Acceleration (%)',\n",
       "       'Smooth Braking (%)'],\n",
       "      dtype='object')"
      ]
     },
     "execution_count": 4,
     "metadata": {},
     "output_type": "execute_result"
    }
   ],
   "source": [
    "trips.columns"
   ]
  },
  {
   "cell_type": "code",
   "execution_count": 5,
   "id": "037df696",
   "metadata": {},
   "outputs": [],
   "source": [
    "# Removing Null Columns and irrelivant columns\n",
    "trips.drop(labels = ['Vehicle Model', r'Gasoline Consumed (gal)'\\\n",
    "                     , r'Smooth Acceleration (%)', r'Smooth Braking (%)'], axis = 1, inplace = True)"
   ]
  },
  {
   "cell_type": "code",
   "execution_count": 6,
   "id": "58739adb",
   "metadata": {},
   "outputs": [],
   "source": [
    "# Removing 0.00 mile trips (i.e. I turned on the car for a minute, but didn't go anywhere)\n",
    "trips = trips.loc[trips[r'Distance (mi)'] != 0 ,:]\n"
   ]
  },
  {
   "cell_type": "code",
   "execution_count": 7,
   "id": "5eb1bb87",
   "metadata": {},
   "outputs": [],
   "source": [
    "# converting SOC columns to percentage values (/100)\n",
    "trips[r'Starting SOC (%)'] = trips[r'Starting SOC (%)']/100\n",
    "trips[r'Ending SOC (%)'] = trips[r'Ending SOC (%)']/100"
   ]
  },
  {
   "cell_type": "code",
   "execution_count": 8,
   "id": "f2ba9ba3",
   "metadata": {},
   "outputs": [],
   "source": [
    "# Appending Columns to provide additional Analysis\n",
    "# Projected Mile Range at Star and end of trip\n",
    "# Using the formula (mi/kWh)*(SOC*battery size)\n",
    "# battery size is 66kWh\n",
    "battery_size = 66\n",
    "\n",
    "trips['start_range'] = trips['mi/kWh']*(trips[r'Starting SOC (%)']*battery_size)\n",
    "trips['end_range'] = trips['mi/kWh']*(trips[r'Ending SOC (%)']*battery_size)"
   ]
  },
  {
   "cell_type": "code",
   "execution_count": 9,
   "id": "ae5ab431",
   "metadata": {},
   "outputs": [],
   "source": [
    "# Rename column names\n",
    "trips = trips.rename(columns = {r'Start Date' : 'start_date',\n",
    "           r'End Date' : 'end_date',\n",
    "           r'Duration' : 'duration',\n",
    "           r'Distance (mi)' : 'distance',\n",
    "           r'Electricity Consumed (kWh)' : 'electricity_used',\n",
    "           r'mi/kWh' : 'mikWh',\n",
    "           r'Fuel Efficiency Equivalent (MPGeq)' : 'MPGe',\n",
    "           r'Starting SOC (%)' : 'start_soc',\n",
    "           r'Ending SOC (%)' : 'end_soc',\n",
    "           r'Ambient Temperature (F)' : 'temp',\n",
    "          }\n",
    "         )"
   ]
  },
  {
   "cell_type": "markdown",
   "id": "0da4cbe1",
   "metadata": {},
   "source": [
    "# write CLEAN data back to data folder"
   ]
  },
  {
   "cell_type": "markdown",
   "id": "5d47a85e",
   "metadata": {},
   "source": [
    "# address NULL values appropriately"
   ]
  },
  {
   "cell_type": "markdown",
   "id": "b274c9f0",
   "metadata": {},
   "source": [
    "# Correct duration object"
   ]
  },
  {
   "cell_type": "code",
   "execution_count": 10,
   "id": "128aa6d1",
   "metadata": {},
   "outputs": [
    {
     "name": "stdout",
     "output_type": "stream",
     "text": [
      "<class 'pandas.core.frame.DataFrame'>\n",
      "Int64Index: 989 entries, 0 to 1089\n",
      "Data columns (total 12 columns):\n",
      " #   Column            Non-Null Count  Dtype         \n",
      "---  ------            --------------  -----         \n",
      " 0   start_date        989 non-null    datetime64[ns]\n",
      " 1   end_date          989 non-null    datetime64[ns]\n",
      " 2   duration          989 non-null    object        \n",
      " 3   distance          989 non-null    float64       \n",
      " 4   electricity_used  988 non-null    float64       \n",
      " 5   MPGe              989 non-null    float64       \n",
      " 6   mikWh             989 non-null    float64       \n",
      " 7   start_soc         989 non-null    float64       \n",
      " 8   end_soc           989 non-null    float64       \n",
      " 9   temp              836 non-null    float64       \n",
      " 10  start_range       989 non-null    float64       \n",
      " 11  end_range         989 non-null    float64       \n",
      "dtypes: datetime64[ns](2), float64(9), object(1)\n",
      "memory usage: 100.4+ KB\n"
     ]
    }
   ],
   "source": [
    "trips.info() # correct date time format was read in, but duration isn't supposed to be object!"
   ]
  },
  {
   "cell_type": "markdown",
   "id": "b453cb81",
   "metadata": {},
   "source": [
    "# LOOK FOR A PATTERN AS TO WHY their are so many null values. maybe its a pattern of too cold, or too early"
   ]
  },
  {
   "cell_type": "markdown",
   "id": "5fc117a1",
   "metadata": {},
   "source": [
    "# Morning vs afternoon versus evening data?"
   ]
  },
  {
   "cell_type": "code",
   "execution_count": 11,
   "id": "2e34ca5b",
   "metadata": {},
   "outputs": [
    {
     "data": {
      "text/html": [
       "<div>\n",
       "<style scoped>\n",
       "    .dataframe tbody tr th:only-of-type {\n",
       "        vertical-align: middle;\n",
       "    }\n",
       "\n",
       "    .dataframe tbody tr th {\n",
       "        vertical-align: top;\n",
       "    }\n",
       "\n",
       "    .dataframe thead th {\n",
       "        text-align: right;\n",
       "    }\n",
       "</style>\n",
       "<table border=\"1\" class=\"dataframe\">\n",
       "  <thead>\n",
       "    <tr style=\"text-align: right;\">\n",
       "      <th></th>\n",
       "      <th>start_date</th>\n",
       "      <th>end_date</th>\n",
       "      <th>duration</th>\n",
       "      <th>distance</th>\n",
       "      <th>electricity_used</th>\n",
       "      <th>MPGe</th>\n",
       "      <th>mikWh</th>\n",
       "      <th>start_soc</th>\n",
       "      <th>end_soc</th>\n",
       "      <th>temp</th>\n",
       "      <th>start_range</th>\n",
       "      <th>end_range</th>\n",
       "    </tr>\n",
       "  </thead>\n",
       "  <tbody>\n",
       "    <tr>\n",
       "      <th>0</th>\n",
       "      <td>2022-02-24 08:25:56</td>\n",
       "      <td>2022-02-24 09:32:13</td>\n",
       "      <td>01:06:17</td>\n",
       "      <td>45.54</td>\n",
       "      <td>12.64</td>\n",
       "      <td>121.44</td>\n",
       "      <td>3.602848</td>\n",
       "      <td>0.0000</td>\n",
       "      <td>0.0000</td>\n",
       "      <td>31.81</td>\n",
       "      <td>0.000000</td>\n",
       "      <td>0.000000</td>\n",
       "    </tr>\n",
       "    <tr>\n",
       "      <th>3</th>\n",
       "      <td>2022-02-24 18:00:42</td>\n",
       "      <td>2022-02-24 19:06:38</td>\n",
       "      <td>01:05:56</td>\n",
       "      <td>45.57</td>\n",
       "      <td>13.19</td>\n",
       "      <td>116.46</td>\n",
       "      <td>3.454890</td>\n",
       "      <td>0.5608</td>\n",
       "      <td>0.3216</td>\n",
       "      <td>36.96</td>\n",
       "      <td>127.875155</td>\n",
       "      <td>73.332115</td>\n",
       "    </tr>\n",
       "    <tr>\n",
       "      <th>4</th>\n",
       "      <td>2022-02-26 09:50:22</td>\n",
       "      <td>2022-02-26 10:03:52</td>\n",
       "      <td>00:13:30</td>\n",
       "      <td>5.36</td>\n",
       "      <td>1.67</td>\n",
       "      <td>108.13</td>\n",
       "      <td>3.209581</td>\n",
       "      <td>0.7726</td>\n",
       "      <td>0.7451</td>\n",
       "      <td>30.52</td>\n",
       "      <td>163.661662</td>\n",
       "      <td>157.836273</td>\n",
       "    </tr>\n",
       "    <tr>\n",
       "      <th>5</th>\n",
       "      <td>2022-02-26 10:04:49</td>\n",
       "      <td>2022-02-26 10:12:17</td>\n",
       "      <td>00:07:28</td>\n",
       "      <td>3.34</td>\n",
       "      <td>0.97</td>\n",
       "      <td>116.10</td>\n",
       "      <td>3.443299</td>\n",
       "      <td>0.7451</td>\n",
       "      <td>0.7294</td>\n",
       "      <td>28.45</td>\n",
       "      <td>169.329736</td>\n",
       "      <td>165.761790</td>\n",
       "    </tr>\n",
       "    <tr>\n",
       "      <th>6</th>\n",
       "      <td>2022-02-26 10:28:40</td>\n",
       "      <td>2022-02-26 10:31:18</td>\n",
       "      <td>00:02:38</td>\n",
       "      <td>0.45</td>\n",
       "      <td>0.18</td>\n",
       "      <td>84.94</td>\n",
       "      <td>2.500000</td>\n",
       "      <td>0.7294</td>\n",
       "      <td>0.7216</td>\n",
       "      <td>28.40</td>\n",
       "      <td>120.351000</td>\n",
       "      <td>119.064000</td>\n",
       "    </tr>\n",
       "    <tr>\n",
       "      <th>...</th>\n",
       "      <td>...</td>\n",
       "      <td>...</td>\n",
       "      <td>...</td>\n",
       "      <td>...</td>\n",
       "      <td>...</td>\n",
       "      <td>...</td>\n",
       "      <td>...</td>\n",
       "      <td>...</td>\n",
       "      <td>...</td>\n",
       "      <td>...</td>\n",
       "      <td>...</td>\n",
       "      <td>...</td>\n",
       "    </tr>\n",
       "    <tr>\n",
       "      <th>1085</th>\n",
       "      <td>2022-11-29 07:59:27</td>\n",
       "      <td>2022-11-29 08:25:02</td>\n",
       "      <td>00:25:35</td>\n",
       "      <td>17.60</td>\n",
       "      <td>5.89</td>\n",
       "      <td>100.71</td>\n",
       "      <td>2.988115</td>\n",
       "      <td>1.0000</td>\n",
       "      <td>0.8980</td>\n",
       "      <td>35.67</td>\n",
       "      <td>197.215620</td>\n",
       "      <td>177.099626</td>\n",
       "    </tr>\n",
       "    <tr>\n",
       "      <th>1086</th>\n",
       "      <td>2022-11-29 15:38:54</td>\n",
       "      <td>2022-11-29 16:12:07</td>\n",
       "      <td>00:33:13</td>\n",
       "      <td>14.31</td>\n",
       "      <td>4.03</td>\n",
       "      <td>119.67</td>\n",
       "      <td>3.550868</td>\n",
       "      <td>0.8980</td>\n",
       "      <td>0.8392</td>\n",
       "      <td>39.10</td>\n",
       "      <td>210.452873</td>\n",
       "      <td>196.672663</td>\n",
       "    </tr>\n",
       "    <tr>\n",
       "      <th>1087</th>\n",
       "      <td>2022-11-29 18:09:27</td>\n",
       "      <td>2022-11-29 18:58:13</td>\n",
       "      <td>00:48:46</td>\n",
       "      <td>33.47</td>\n",
       "      <td>9.83</td>\n",
       "      <td>114.76</td>\n",
       "      <td>3.404883</td>\n",
       "      <td>0.8392</td>\n",
       "      <td>0.6706</td>\n",
       "      <td>35.00</td>\n",
       "      <td>188.586936</td>\n",
       "      <td>150.698760</td>\n",
       "    </tr>\n",
       "    <tr>\n",
       "      <th>1088</th>\n",
       "      <td>2022-11-30 08:17:23</td>\n",
       "      <td>2022-11-30 08:45:27</td>\n",
       "      <td>00:28:04</td>\n",
       "      <td>17.47</td>\n",
       "      <td>5.57</td>\n",
       "      <td>105.74</td>\n",
       "      <td>3.136445</td>\n",
       "      <td>1.0000</td>\n",
       "      <td>0.9058</td>\n",
       "      <td>41.45</td>\n",
       "      <td>207.005386</td>\n",
       "      <td>187.505479</td>\n",
       "    </tr>\n",
       "    <tr>\n",
       "      <th>1089</th>\n",
       "      <td>2022-11-30 20:28:37</td>\n",
       "      <td>2022-11-30 21:03:52</td>\n",
       "      <td>00:35:15</td>\n",
       "      <td>18.87</td>\n",
       "      <td>5.06</td>\n",
       "      <td>125.66</td>\n",
       "      <td>3.729249</td>\n",
       "      <td>0.9058</td>\n",
       "      <td>0.8235</td>\n",
       "      <td>45.73</td>\n",
       "      <td>222.944948</td>\n",
       "      <td>202.688413</td>\n",
       "    </tr>\n",
       "  </tbody>\n",
       "</table>\n",
       "<p>989 rows × 12 columns</p>\n",
       "</div>"
      ],
      "text/plain": [
       "              start_date            end_date  duration  distance  \\\n",
       "0    2022-02-24 08:25:56 2022-02-24 09:32:13  01:06:17     45.54   \n",
       "3    2022-02-24 18:00:42 2022-02-24 19:06:38  01:05:56     45.57   \n",
       "4    2022-02-26 09:50:22 2022-02-26 10:03:52  00:13:30      5.36   \n",
       "5    2022-02-26 10:04:49 2022-02-26 10:12:17  00:07:28      3.34   \n",
       "6    2022-02-26 10:28:40 2022-02-26 10:31:18  00:02:38      0.45   \n",
       "...                  ...                 ...       ...       ...   \n",
       "1085 2022-11-29 07:59:27 2022-11-29 08:25:02  00:25:35     17.60   \n",
       "1086 2022-11-29 15:38:54 2022-11-29 16:12:07  00:33:13     14.31   \n",
       "1087 2022-11-29 18:09:27 2022-11-29 18:58:13  00:48:46     33.47   \n",
       "1088 2022-11-30 08:17:23 2022-11-30 08:45:27  00:28:04     17.47   \n",
       "1089 2022-11-30 20:28:37 2022-11-30 21:03:52  00:35:15     18.87   \n",
       "\n",
       "      electricity_used    MPGe     mikWh  start_soc  end_soc   temp  \\\n",
       "0                12.64  121.44  3.602848     0.0000   0.0000  31.81   \n",
       "3                13.19  116.46  3.454890     0.5608   0.3216  36.96   \n",
       "4                 1.67  108.13  3.209581     0.7726   0.7451  30.52   \n",
       "5                 0.97  116.10  3.443299     0.7451   0.7294  28.45   \n",
       "6                 0.18   84.94  2.500000     0.7294   0.7216  28.40   \n",
       "...                ...     ...       ...        ...      ...    ...   \n",
       "1085              5.89  100.71  2.988115     1.0000   0.8980  35.67   \n",
       "1086              4.03  119.67  3.550868     0.8980   0.8392  39.10   \n",
       "1087              9.83  114.76  3.404883     0.8392   0.6706  35.00   \n",
       "1088              5.57  105.74  3.136445     1.0000   0.9058  41.45   \n",
       "1089              5.06  125.66  3.729249     0.9058   0.8235  45.73   \n",
       "\n",
       "      start_range   end_range  \n",
       "0        0.000000    0.000000  \n",
       "3      127.875155   73.332115  \n",
       "4      163.661662  157.836273  \n",
       "5      169.329736  165.761790  \n",
       "6      120.351000  119.064000  \n",
       "...           ...         ...  \n",
       "1085   197.215620  177.099626  \n",
       "1086   210.452873  196.672663  \n",
       "1087   188.586936  150.698760  \n",
       "1088   207.005386  187.505479  \n",
       "1089   222.944948  202.688413  \n",
       "\n",
       "[989 rows x 12 columns]"
      ]
     },
     "execution_count": 11,
     "metadata": {},
     "output_type": "execute_result"
    }
   ],
   "source": [
    "trips"
   ]
  },
  {
   "cell_type": "markdown",
   "id": "a0264cf5",
   "metadata": {},
   "source": [
    "## Data Summary"
   ]
  },
  {
   "cell_type": "code",
   "execution_count": 12,
   "id": "fa16db69",
   "metadata": {
    "scrolled": true
   },
   "outputs": [
    {
     "data": {
      "text/html": [
       "<div>\n",
       "<style scoped>\n",
       "    .dataframe tbody tr th:only-of-type {\n",
       "        vertical-align: middle;\n",
       "    }\n",
       "\n",
       "    .dataframe tbody tr th {\n",
       "        vertical-align: top;\n",
       "    }\n",
       "\n",
       "    .dataframe thead th {\n",
       "        text-align: right;\n",
       "    }\n",
       "</style>\n",
       "<table border=\"1\" class=\"dataframe\">\n",
       "  <thead>\n",
       "    <tr style=\"text-align: right;\">\n",
       "      <th></th>\n",
       "      <th>distance</th>\n",
       "      <th>electricity_used</th>\n",
       "      <th>MPGe</th>\n",
       "      <th>mikWh</th>\n",
       "      <th>start_soc</th>\n",
       "      <th>end_soc</th>\n",
       "      <th>temp</th>\n",
       "      <th>start_range</th>\n",
       "      <th>end_range</th>\n",
       "    </tr>\n",
       "  </thead>\n",
       "  <tbody>\n",
       "    <tr>\n",
       "      <th>count</th>\n",
       "      <td>989.000000</td>\n",
       "      <td>988.000000</td>\n",
       "      <td>989.000000</td>\n",
       "      <td>989.000000</td>\n",
       "      <td>989.000000</td>\n",
       "      <td>989.000000</td>\n",
       "      <td>836.000000</td>\n",
       "      <td>989.000000</td>\n",
       "      <td>989.000000</td>\n",
       "    </tr>\n",
       "    <tr>\n",
       "      <th>mean</th>\n",
       "      <td>16.041436</td>\n",
       "      <td>3.953360</td>\n",
       "      <td>150.096067</td>\n",
       "      <td>4.451305</td>\n",
       "      <td>0.724904</td>\n",
       "      <td>0.660718</td>\n",
       "      <td>63.728349</td>\n",
       "      <td>212.925295</td>\n",
       "      <td>195.673486</td>\n",
       "    </tr>\n",
       "    <tr>\n",
       "      <th>std</th>\n",
       "      <td>23.149422</td>\n",
       "      <td>5.637641</td>\n",
       "      <td>186.591402</td>\n",
       "      <td>5.522135</td>\n",
       "      <td>0.166861</td>\n",
       "      <td>0.188289</td>\n",
       "      <td>15.602551</td>\n",
       "      <td>277.482991</td>\n",
       "      <td>279.075408</td>\n",
       "    </tr>\n",
       "    <tr>\n",
       "      <th>min</th>\n",
       "      <td>0.010000</td>\n",
       "      <td>-0.030000</td>\n",
       "      <td>-407.000000</td>\n",
       "      <td>-12.000000</td>\n",
       "      <td>0.000000</td>\n",
       "      <td>0.000000</td>\n",
       "      <td>23.420000</td>\n",
       "      <td>-555.984000</td>\n",
       "      <td>-555.984000</td>\n",
       "    </tr>\n",
       "    <tr>\n",
       "      <th>25%</th>\n",
       "      <td>1.750000</td>\n",
       "      <td>0.410000</td>\n",
       "      <td>108.380000</td>\n",
       "      <td>3.215341</td>\n",
       "      <td>0.643200</td>\n",
       "      <td>0.560800</td>\n",
       "      <td>51.422500</td>\n",
       "      <td>139.164212</td>\n",
       "      <td>117.219106</td>\n",
       "    </tr>\n",
       "    <tr>\n",
       "      <th>50%</th>\n",
       "      <td>5.610000</td>\n",
       "      <td>1.350000</td>\n",
       "      <td>132.280000</td>\n",
       "      <td>3.933333</td>\n",
       "      <td>0.745100</td>\n",
       "      <td>0.686200</td>\n",
       "      <td>65.390000</td>\n",
       "      <td>190.430480</td>\n",
       "      <td>168.576384</td>\n",
       "    </tr>\n",
       "    <tr>\n",
       "      <th>75%</th>\n",
       "      <td>18.280000</td>\n",
       "      <td>5.355000</td>\n",
       "      <td>165.660000</td>\n",
       "      <td>4.914768</td>\n",
       "      <td>0.819600</td>\n",
       "      <td>0.764700</td>\n",
       "      <td>76.120000</td>\n",
       "      <td>250.611881</td>\n",
       "      <td>232.102812</td>\n",
       "    </tr>\n",
       "    <tr>\n",
       "      <th>max</th>\n",
       "      <td>177.480000</td>\n",
       "      <td>42.320000</td>\n",
       "      <td>5374.050000</td>\n",
       "      <td>159.000000</td>\n",
       "      <td>1.000000</td>\n",
       "      <td>1.000000</td>\n",
       "      <td>97.290000</td>\n",
       "      <td>7983.835200</td>\n",
       "      <td>7983.835200</td>\n",
       "    </tr>\n",
       "  </tbody>\n",
       "</table>\n",
       "</div>"
      ],
      "text/plain": [
       "         distance  electricity_used         MPGe       mikWh   start_soc  \\\n",
       "count  989.000000        988.000000   989.000000  989.000000  989.000000   \n",
       "mean    16.041436          3.953360   150.096067    4.451305    0.724904   \n",
       "std     23.149422          5.637641   186.591402    5.522135    0.166861   \n",
       "min      0.010000         -0.030000  -407.000000  -12.000000    0.000000   \n",
       "25%      1.750000          0.410000   108.380000    3.215341    0.643200   \n",
       "50%      5.610000          1.350000   132.280000    3.933333    0.745100   \n",
       "75%     18.280000          5.355000   165.660000    4.914768    0.819600   \n",
       "max    177.480000         42.320000  5374.050000  159.000000    1.000000   \n",
       "\n",
       "          end_soc        temp  start_range    end_range  \n",
       "count  989.000000  836.000000   989.000000   989.000000  \n",
       "mean     0.660718   63.728349   212.925295   195.673486  \n",
       "std      0.188289   15.602551   277.482991   279.075408  \n",
       "min      0.000000   23.420000  -555.984000  -555.984000  \n",
       "25%      0.560800   51.422500   139.164212   117.219106  \n",
       "50%      0.686200   65.390000   190.430480   168.576384  \n",
       "75%      0.764700   76.120000   250.611881   232.102812  \n",
       "max      1.000000   97.290000  7983.835200  7983.835200  "
      ]
     },
     "execution_count": 12,
     "metadata": {},
     "output_type": "execute_result"
    }
   ],
   "source": [
    "trips.describe()"
   ]
  },
  {
   "cell_type": "code",
   "execution_count": 13,
   "id": "65ac11d6",
   "metadata": {},
   "outputs": [],
   "source": [
    "# trips.loc[trips.Ambient Temperature (F) == 'NaN',:]"
   ]
  },
  {
   "cell_type": "code",
   "execution_count": null,
   "id": "54e36853",
   "metadata": {},
   "outputs": [],
   "source": []
  },
  {
   "cell_type": "markdown",
   "id": "7448411f",
   "metadata": {},
   "source": [
    "# QUICK NOTE DATA is SKEWED a little warmer because it does not have a FULL year of Data, I am missing December and January wwhich are COLDER months. "
   ]
  },
  {
   "cell_type": "markdown",
   "id": "e89b256d",
   "metadata": {},
   "source": [
    "## Initial Quick Analysis"
   ]
  },
  {
   "cell_type": "markdown",
   "id": "f09eb4cc",
   "metadata": {},
   "source": [
    "The data has XXX amount of trips taken. FILL IN ONCE FINAL DATA SETE IS TAKEN"
   ]
  },
  {
   "cell_type": "markdown",
   "id": "55831417",
   "metadata": {},
   "source": [
    "This data takes place in the <u>**temp range 23-97&deg;F**</u>"
   ]
  },
  {
   "cell_type": "code",
   "execution_count": 14,
   "id": "501c092a",
   "metadata": {},
   "outputs": [
    {
     "name": "stdout",
     "output_type": "stream",
     "text": [
      "23.42\n",
      "97.29\n"
     ]
    }
   ],
   "source": [
    "print(trips.temp.min())\n",
    "print(trips.temp.max())"
   ]
  },
  {
   "cell_type": "markdown",
   "id": "5fe21a58",
   "metadata": {},
   "source": [
    "Avg trip <u>**distance**</u> is 15.5 mi"
   ]
  },
  {
   "cell_type": "code",
   "execution_count": 15,
   "id": "131a9906",
   "metadata": {
    "scrolled": true
   },
   "outputs": [
    {
     "data": {
      "text/plain": [
       "16.041435793731043"
      ]
     },
     "execution_count": 15,
     "metadata": {},
     "output_type": "execute_result"
    }
   ],
   "source": [
    "trips.distance.mean()"
   ]
  },
  {
   "cell_type": "markdown",
   "id": "7bc19b1e",
   "metadata": {},
   "source": [
    "An average trip uses <u>**3.88 kWh of energy**</u>.\n",
    "\n",
    "This represents <u>**5.8%**</u> of the 66kWh Battery's capacity. \n",
    "\n",
    "This means if the battery is charged to 100%, on average a Chevy Bolt owner could get <u>**16 trips out of single charge.**</u> \n",
    "\n",
    "However, This is unrealistic because you shouldn't start a trip with less than 10%. In my dataset I started a trip with less than 10% <u>**2 times**</u> and ended a trip with less than 10% <u>**4 times**</u>. You also shouldn't really charge past 80% of the capcity. I did this <u>**109 times**</u>. ...Whoops.\n",
    "\n",
    "So following all the best practices you are looking at an AVG of 11 trips of 15.5mi(3.88 kWh) each per responsible Charge. "
   ]
  },
  {
   "cell_type": "code",
   "execution_count": 16,
   "id": "81c88c74",
   "metadata": {},
   "outputs": [
    {
     "name": "stdout",
     "output_type": "stream",
     "text": [
      "0.059899398846767316\n",
      "16.0\n",
      "11.0\n",
      "3\n",
      "8\n",
      "286\n"
     ]
    }
   ],
   "source": [
    "print(trips.electricity_used.mean()/66)\n",
    "print(66//trips.electricity_used.mean())\n",
    "print((66*.7)//trips.electricity_used.mean())\n",
    "print(trips.loc[trips['start_soc']<.10,'distance'].count()) # amount of times I started a trip with less than 10%\n",
    "print(trips.loc[trips['end_soc']<.10,'distance'].count()) # amount of times I ended a trip with less than 10%\n",
    "print(trips.loc[trips['start_soc']>.80,'distance'].count()) # amount of times I started a trip with more than 80%"
   ]
  },
  {
   "cell_type": "markdown",
   "id": "70dcb97f",
   "metadata": {},
   "source": [
    "11, 15 miles trips sounds suffecient to me, but there are definetly a lot of consumers that would feel that isn't enough \n",
    "\n",
    "***INSERT AVG USA TRIP DATA:\n",
    "AVG trip length\n",
    "etc.***"
   ]
  },
  {
   "cell_type": "markdown",
   "id": "72f611b3",
   "metadata": {},
   "source": [
    "However, the interesting thing to most consumers, is that this actually ***DOES NOT*** matter. \n",
    "\n",
    "The BIGGEST difference between gas and electric vehicles for me has nothing to do with a comparision of data points. It has to do with the fact that every time you pull into your driveway you have a \"Gas Station\" that you can \"Refuel\" at EVERY SINGLE DAY. \n",
    "\n",
    "This completely changes way drivers think about the chore of \"re-fueling\".\n",
    "\n",
    "I RARELY had to go out of my way to refuel this past year. \n",
    "\n",
    "Most drivers visit the gas station X amount of times a month, I have visited a charging station XXXX amount of times this year to charge outside of my garage.  \n",
    "\n",
    "****PROVE THIS WITH NATIONAL DATA ON VEHICLES/trips ETC.****"
   ]
  },
  {
   "cell_type": "code",
   "execution_count": null,
   "id": "8ca91a1d",
   "metadata": {},
   "outputs": [],
   "source": []
  },
  {
   "cell_type": "markdown",
   "id": "9ec08d57",
   "metadata": {},
   "source": [
    "Average starting <u>**State of Charge(SOC):**</u> is ***70%***, meaning I have followed good charging practices for the health of the battery and that the data is more realistic/representative towards reccomended best practices, and not idealistic numbers. "
   ]
  },
  {
   "cell_type": "code",
   "execution_count": 17,
   "id": "5138cb12",
   "metadata": {
    "scrolled": true
   },
   "outputs": [
    {
     "data": {
      "text/plain": [
       "0.7249043478260869"
      ]
     },
     "execution_count": 17,
     "metadata": {},
     "output_type": "execute_result"
    }
   ],
   "source": [
    "trips.start_soc.mean()"
   ]
  },
  {
   "cell_type": "markdown",
   "id": "b82286a2",
   "metadata": {},
   "source": [
    "****Calculating MPGe****\n",
    "\n",
    "In order to make any comparisions to gas vehicles we need some sort of conversion. The USA Environmental Protection Agency (EPA) has come up with a converstion to compare MPG to mi/kWh. It is called MPGe or \"Miles per gallon equivalent\"\n",
    "\n",
    "Without getting too much in the weeds, the basis behind the conversion is that both burning gasoline and using electricity generates heat. so MPGe is essentially the heat equivalent of MPG. \n",
    "\n",
    "1 gallon of gas = 115,000 BTUs = 33.7kWh"
   ]
  },
  {
   "cell_type": "markdown",
   "id": "732947dc",
   "metadata": {},
   "source": [
    "<u> The avg MPGe for my trip data is 149.5 </u>"
   ]
  },
  {
   "cell_type": "code",
   "execution_count": 18,
   "id": "2f67c369",
   "metadata": {},
   "outputs": [
    {
     "data": {
      "text/plain": [
       "150.09606673407484"
      ]
     },
     "execution_count": 18,
     "metadata": {},
     "output_type": "execute_result"
    }
   ],
   "source": [
    "trips.MPGe.mean()"
   ]
  },
  {
   "cell_type": "markdown",
   "id": "5fb46c8d",
   "metadata": {},
   "source": [
    "and an avg <u>trip effeciency: 4.49 mi/kWh</u>"
   ]
  },
  {
   "cell_type": "code",
   "execution_count": 19,
   "id": "6c65bbdc",
   "metadata": {},
   "outputs": [
    {
     "data": {
      "text/plain": [
       "4.451304722156943"
      ]
     },
     "execution_count": 19,
     "metadata": {},
     "output_type": "execute_result"
    }
   ],
   "source": [
    "trips.mikWh.mean()"
   ]
  },
  {
   "cell_type": "code",
   "execution_count": 20,
   "id": "17a7d133",
   "metadata": {},
   "outputs": [],
   "source": [
    "# def Kurt_it(x):\n",
    "#     return x.kurt()\n",
    "\n",
    "# def Skew_it(x):\n",
    "#     return x.skew()\n",
    "\n",
    "    \n",
    "# Trying to figure out how to apply kurt and skew to all columns and if its worth it"
   ]
  },
  {
   "cell_type": "code",
   "execution_count": 21,
   "id": "8370c864",
   "metadata": {},
   "outputs": [
    {
     "name": "stdout",
     "output_type": "stream",
     "text": [
      "Skewness: -0.2112426184873879\n",
      "Kurtosis: -0.7223701086451562\n"
     ]
    }
   ],
   "source": [
    "print(f\"Skewness: {trips[r'temp'].skew()}\")\n",
    "print(f\"Kurtosis: {trips[r'temp'].kurt()}\")"
   ]
  },
  {
   "cell_type": "markdown",
   "id": "f99aeae5",
   "metadata": {},
   "source": [
    "## NEXT thing idk"
   ]
  },
  {
   "cell_type": "code",
   "execution_count": 22,
   "id": "3cc83c09",
   "metadata": {},
   "outputs": [
    {
     "data": {
      "text/html": [
       "<div>\n",
       "<style scoped>\n",
       "    .dataframe tbody tr th:only-of-type {\n",
       "        vertical-align: middle;\n",
       "    }\n",
       "\n",
       "    .dataframe tbody tr th {\n",
       "        vertical-align: top;\n",
       "    }\n",
       "\n",
       "    .dataframe thead th {\n",
       "        text-align: right;\n",
       "    }\n",
       "</style>\n",
       "<table border=\"1\" class=\"dataframe\">\n",
       "  <thead>\n",
       "    <tr style=\"text-align: right;\">\n",
       "      <th></th>\n",
       "      <th>start_date</th>\n",
       "      <th>end_date</th>\n",
       "      <th>duration</th>\n",
       "      <th>distance</th>\n",
       "      <th>electricity_used</th>\n",
       "      <th>MPGe</th>\n",
       "      <th>mikWh</th>\n",
       "      <th>start_soc</th>\n",
       "      <th>end_soc</th>\n",
       "      <th>temp</th>\n",
       "      <th>start_range</th>\n",
       "      <th>end_range</th>\n",
       "    </tr>\n",
       "  </thead>\n",
       "  <tbody>\n",
       "    <tr>\n",
       "      <th>0</th>\n",
       "      <td>2022-02-24 08:25:56</td>\n",
       "      <td>2022-02-24 09:32:13</td>\n",
       "      <td>01:06:17</td>\n",
       "      <td>45.54</td>\n",
       "      <td>12.64</td>\n",
       "      <td>121.44</td>\n",
       "      <td>3.602848</td>\n",
       "      <td>0.0000</td>\n",
       "      <td>0.0000</td>\n",
       "      <td>31.81</td>\n",
       "      <td>0.000000</td>\n",
       "      <td>0.000000</td>\n",
       "    </tr>\n",
       "    <tr>\n",
       "      <th>3</th>\n",
       "      <td>2022-02-24 18:00:42</td>\n",
       "      <td>2022-02-24 19:06:38</td>\n",
       "      <td>01:05:56</td>\n",
       "      <td>45.57</td>\n",
       "      <td>13.19</td>\n",
       "      <td>116.46</td>\n",
       "      <td>3.454890</td>\n",
       "      <td>0.5608</td>\n",
       "      <td>0.3216</td>\n",
       "      <td>36.96</td>\n",
       "      <td>127.875155</td>\n",
       "      <td>73.332115</td>\n",
       "    </tr>\n",
       "    <tr>\n",
       "      <th>4</th>\n",
       "      <td>2022-02-26 09:50:22</td>\n",
       "      <td>2022-02-26 10:03:52</td>\n",
       "      <td>00:13:30</td>\n",
       "      <td>5.36</td>\n",
       "      <td>1.67</td>\n",
       "      <td>108.13</td>\n",
       "      <td>3.209581</td>\n",
       "      <td>0.7726</td>\n",
       "      <td>0.7451</td>\n",
       "      <td>30.52</td>\n",
       "      <td>163.661662</td>\n",
       "      <td>157.836273</td>\n",
       "    </tr>\n",
       "    <tr>\n",
       "      <th>5</th>\n",
       "      <td>2022-02-26 10:04:49</td>\n",
       "      <td>2022-02-26 10:12:17</td>\n",
       "      <td>00:07:28</td>\n",
       "      <td>3.34</td>\n",
       "      <td>0.97</td>\n",
       "      <td>116.10</td>\n",
       "      <td>3.443299</td>\n",
       "      <td>0.7451</td>\n",
       "      <td>0.7294</td>\n",
       "      <td>28.45</td>\n",
       "      <td>169.329736</td>\n",
       "      <td>165.761790</td>\n",
       "    </tr>\n",
       "    <tr>\n",
       "      <th>6</th>\n",
       "      <td>2022-02-26 10:28:40</td>\n",
       "      <td>2022-02-26 10:31:18</td>\n",
       "      <td>00:02:38</td>\n",
       "      <td>0.45</td>\n",
       "      <td>0.18</td>\n",
       "      <td>84.94</td>\n",
       "      <td>2.500000</td>\n",
       "      <td>0.7294</td>\n",
       "      <td>0.7216</td>\n",
       "      <td>28.40</td>\n",
       "      <td>120.351000</td>\n",
       "      <td>119.064000</td>\n",
       "    </tr>\n",
       "    <tr>\n",
       "      <th>...</th>\n",
       "      <td>...</td>\n",
       "      <td>...</td>\n",
       "      <td>...</td>\n",
       "      <td>...</td>\n",
       "      <td>...</td>\n",
       "      <td>...</td>\n",
       "      <td>...</td>\n",
       "      <td>...</td>\n",
       "      <td>...</td>\n",
       "      <td>...</td>\n",
       "      <td>...</td>\n",
       "      <td>...</td>\n",
       "    </tr>\n",
       "    <tr>\n",
       "      <th>1085</th>\n",
       "      <td>2022-11-29 07:59:27</td>\n",
       "      <td>2022-11-29 08:25:02</td>\n",
       "      <td>00:25:35</td>\n",
       "      <td>17.60</td>\n",
       "      <td>5.89</td>\n",
       "      <td>100.71</td>\n",
       "      <td>2.988115</td>\n",
       "      <td>1.0000</td>\n",
       "      <td>0.8980</td>\n",
       "      <td>35.67</td>\n",
       "      <td>197.215620</td>\n",
       "      <td>177.099626</td>\n",
       "    </tr>\n",
       "    <tr>\n",
       "      <th>1086</th>\n",
       "      <td>2022-11-29 15:38:54</td>\n",
       "      <td>2022-11-29 16:12:07</td>\n",
       "      <td>00:33:13</td>\n",
       "      <td>14.31</td>\n",
       "      <td>4.03</td>\n",
       "      <td>119.67</td>\n",
       "      <td>3.550868</td>\n",
       "      <td>0.8980</td>\n",
       "      <td>0.8392</td>\n",
       "      <td>39.10</td>\n",
       "      <td>210.452873</td>\n",
       "      <td>196.672663</td>\n",
       "    </tr>\n",
       "    <tr>\n",
       "      <th>1087</th>\n",
       "      <td>2022-11-29 18:09:27</td>\n",
       "      <td>2022-11-29 18:58:13</td>\n",
       "      <td>00:48:46</td>\n",
       "      <td>33.47</td>\n",
       "      <td>9.83</td>\n",
       "      <td>114.76</td>\n",
       "      <td>3.404883</td>\n",
       "      <td>0.8392</td>\n",
       "      <td>0.6706</td>\n",
       "      <td>35.00</td>\n",
       "      <td>188.586936</td>\n",
       "      <td>150.698760</td>\n",
       "    </tr>\n",
       "    <tr>\n",
       "      <th>1088</th>\n",
       "      <td>2022-11-30 08:17:23</td>\n",
       "      <td>2022-11-30 08:45:27</td>\n",
       "      <td>00:28:04</td>\n",
       "      <td>17.47</td>\n",
       "      <td>5.57</td>\n",
       "      <td>105.74</td>\n",
       "      <td>3.136445</td>\n",
       "      <td>1.0000</td>\n",
       "      <td>0.9058</td>\n",
       "      <td>41.45</td>\n",
       "      <td>207.005386</td>\n",
       "      <td>187.505479</td>\n",
       "    </tr>\n",
       "    <tr>\n",
       "      <th>1089</th>\n",
       "      <td>2022-11-30 20:28:37</td>\n",
       "      <td>2022-11-30 21:03:52</td>\n",
       "      <td>00:35:15</td>\n",
       "      <td>18.87</td>\n",
       "      <td>5.06</td>\n",
       "      <td>125.66</td>\n",
       "      <td>3.729249</td>\n",
       "      <td>0.9058</td>\n",
       "      <td>0.8235</td>\n",
       "      <td>45.73</td>\n",
       "      <td>222.944948</td>\n",
       "      <td>202.688413</td>\n",
       "    </tr>\n",
       "  </tbody>\n",
       "</table>\n",
       "<p>981 rows × 12 columns</p>\n",
       "</div>"
      ],
      "text/plain": [
       "              start_date            end_date  duration  distance  \\\n",
       "0    2022-02-24 08:25:56 2022-02-24 09:32:13  01:06:17     45.54   \n",
       "3    2022-02-24 18:00:42 2022-02-24 19:06:38  01:05:56     45.57   \n",
       "4    2022-02-26 09:50:22 2022-02-26 10:03:52  00:13:30      5.36   \n",
       "5    2022-02-26 10:04:49 2022-02-26 10:12:17  00:07:28      3.34   \n",
       "6    2022-02-26 10:28:40 2022-02-26 10:31:18  00:02:38      0.45   \n",
       "...                  ...                 ...       ...       ...   \n",
       "1085 2022-11-29 07:59:27 2022-11-29 08:25:02  00:25:35     17.60   \n",
       "1086 2022-11-29 15:38:54 2022-11-29 16:12:07  00:33:13     14.31   \n",
       "1087 2022-11-29 18:09:27 2022-11-29 18:58:13  00:48:46     33.47   \n",
       "1088 2022-11-30 08:17:23 2022-11-30 08:45:27  00:28:04     17.47   \n",
       "1089 2022-11-30 20:28:37 2022-11-30 21:03:52  00:35:15     18.87   \n",
       "\n",
       "      electricity_used    MPGe     mikWh  start_soc  end_soc   temp  \\\n",
       "0                12.64  121.44  3.602848     0.0000   0.0000  31.81   \n",
       "3                13.19  116.46  3.454890     0.5608   0.3216  36.96   \n",
       "4                 1.67  108.13  3.209581     0.7726   0.7451  30.52   \n",
       "5                 0.97  116.10  3.443299     0.7451   0.7294  28.45   \n",
       "6                 0.18   84.94  2.500000     0.7294   0.7216  28.40   \n",
       "...                ...     ...       ...        ...      ...    ...   \n",
       "1085              5.89  100.71  2.988115     1.0000   0.8980  35.67   \n",
       "1086              4.03  119.67  3.550868     0.8980   0.8392  39.10   \n",
       "1087              9.83  114.76  3.404883     0.8392   0.6706  35.00   \n",
       "1088              5.57  105.74  3.136445     1.0000   0.9058  41.45   \n",
       "1089              5.06  125.66  3.729249     0.9058   0.8235  45.73   \n",
       "\n",
       "      start_range   end_range  \n",
       "0        0.000000    0.000000  \n",
       "3      127.875155   73.332115  \n",
       "4      163.661662  157.836273  \n",
       "5      169.329736  165.761790  \n",
       "6      120.351000  119.064000  \n",
       "...           ...         ...  \n",
       "1085   197.215620  177.099626  \n",
       "1086   210.452873  196.672663  \n",
       "1087   188.586936  150.698760  \n",
       "1088   207.005386  187.505479  \n",
       "1089   222.944948  202.688413  \n",
       "\n",
       "[981 rows x 12 columns]"
      ]
     },
     "execution_count": 22,
     "metadata": {},
     "output_type": "execute_result"
    }
   ],
   "source": [
    "trips[trips[r'mikWh']<15]"
   ]
  },
  {
   "cell_type": "code",
   "execution_count": 23,
   "id": "d679ae5b",
   "metadata": {},
   "outputs": [],
   "source": [
    "# temp = trips[trips[r'mi/kWh']<15]\n",
    "# x = temp[r'mi/kWh']\n",
    "# y = temp[r'Ambient Temperature (F)']\n",
    "# a, b = np.polyfit(x, y, 1)"
   ]
  },
  {
   "cell_type": "code",
   "execution_count": 24,
   "id": "e78c7c21",
   "metadata": {},
   "outputs": [
    {
     "data": {
      "text/plain": [
       "<seaborn.axisgrid.FacetGrid at 0x7fa57811d0a0>"
      ]
     },
     "execution_count": 24,
     "metadata": {},
     "output_type": "execute_result"
    },
    {
     "data": {
      "image/png": "[encoded data removed]",
      "text/plain": [
       "<Figure size 360x360 with 1 Axes>"
      ]
     },
     "metadata": {},
     "output_type": "display_data"
    }
   ],
   "source": [
    "sns.lmplot(y = r'mikWh', x = r'temp', data = trips)\n"
   ]
  },
  {
   "cell_type": "code",
   "execution_count": 25,
   "id": "ca914942",
   "metadata": {},
   "outputs": [
    {
     "data": {
      "text/plain": [
       "<seaborn.axisgrid.JointGrid at 0x7fa5b99c0c40>"
      ]
     },
     "execution_count": 25,
     "metadata": {},
     "output_type": "execute_result"
    },
    {
     "data": {
      "image/png": "[encoded data removed]",
      "text/plain": [
       "<Figure size 864x432 with 2 Axes>"
      ]
     },
     "metadata": {},
     "output_type": "display_data"
    },
    {
     "data": {
      "image/png": "[encoded data removed]",
      "text/plain": [
       "<Figure size 360x360 with 1 Axes>"
      ]
     },
     "metadata": {},
     "output_type": "display_data"
    },
    {
     "data": {
      "image/png": "[encoded data removed]",
      "text/plain": [
       "<Figure size 432x432 with 3 Axes>"
      ]
     },
     "metadata": {},
     "output_type": "display_data"
    }
   ],
   "source": [
    "temp = trips[trips[r'mikWh']<10]\n",
    "temp.plot(r'mikWh', r'temp', kind = 'scatter',\\\n",
    "                                c = trips.loc[trips[r'mikWh']<10,:][r'temp'],\\\n",
    "                                colormap = 'coolwarm',  alpha = 1, sharex=False)\n",
    "\n",
    "\n",
    "sns.lmplot(x = r'mikWh', y = r'temp', data = temp)\n",
    "sns.jointplot(x = r'mikWh', y = r'temp', data = temp)\n",
    "# temp.plot(x, a*x+b) \n",
    "\n",
    "\n"
   ]
  },
  {
   "cell_type": "code",
   "execution_count": 26,
   "id": "0129955b",
   "metadata": {},
   "outputs": [],
   "source": [
    "# import numpy as np\n",
    "# import matplotlib.pyplot as plt\n",
    "\n",
    "# #define data\n",
    "# x = np.array([1, 2, 3, 4, 5, 6, 7, 8])\n",
    "# y = np.array([2, 5, 6, 7, 9, 12, 16, 19])\n",
    "\n",
    "# #find line of best fit\n",
    "# a, b = np.polyfit(x, y, 1)\n",
    "\n",
    "# #add points to plot\n",
    "# plt.scatter(x, y, color='purple')\n",
    "\n",
    "# #add line of best fit to plot\n",
    "# plt.plot(x, a*x+b, color='steelblue', linestyle='--', linewidth=2)\n",
    "\n",
    "# #add fitted regression equation to plot\n",
    "# plt.text(1, 17, 'y = ' + '{:.2f}'.format(b) + ' + {:.2f}'.format(a) + 'x', size=14)"
   ]
  },
  {
   "cell_type": "markdown",
   "id": "7ca7cdc1",
   "metadata": {},
   "source": [
    "# REMOVE 0.00 mile trips"
   ]
  },
  {
   "cell_type": "code",
   "execution_count": 27,
   "id": "0d46134a",
   "metadata": {},
   "outputs": [
    {
     "data": {
      "text/html": [
       "<div>\n",
       "<style scoped>\n",
       "    .dataframe tbody tr th:only-of-type {\n",
       "        vertical-align: middle;\n",
       "    }\n",
       "\n",
       "    .dataframe tbody tr th {\n",
       "        vertical-align: top;\n",
       "    }\n",
       "\n",
       "    .dataframe thead th {\n",
       "        text-align: right;\n",
       "    }\n",
       "</style>\n",
       "<table border=\"1\" class=\"dataframe\">\n",
       "  <thead>\n",
       "    <tr style=\"text-align: right;\">\n",
       "      <th></th>\n",
       "      <th>start_date</th>\n",
       "      <th>end_date</th>\n",
       "      <th>duration</th>\n",
       "      <th>distance</th>\n",
       "      <th>electricity_used</th>\n",
       "      <th>MPGe</th>\n",
       "      <th>mikWh</th>\n",
       "      <th>start_soc</th>\n",
       "      <th>end_soc</th>\n",
       "      <th>temp</th>\n",
       "      <th>start_range</th>\n",
       "      <th>end_range</th>\n",
       "    </tr>\n",
       "  </thead>\n",
       "  <tbody>\n",
       "    <tr>\n",
       "      <th>0</th>\n",
       "      <td>2022-02-24 08:25:56</td>\n",
       "      <td>2022-02-24 09:32:13</td>\n",
       "      <td>01:06:17</td>\n",
       "      <td>45.54</td>\n",
       "      <td>12.64</td>\n",
       "      <td>121.44</td>\n",
       "      <td>3.602848</td>\n",
       "      <td>0.0000</td>\n",
       "      <td>0.0000</td>\n",
       "      <td>31.81</td>\n",
       "      <td>0.000000</td>\n",
       "      <td>0.000000</td>\n",
       "    </tr>\n",
       "    <tr>\n",
       "      <th>3</th>\n",
       "      <td>2022-02-24 18:00:42</td>\n",
       "      <td>2022-02-24 19:06:38</td>\n",
       "      <td>01:05:56</td>\n",
       "      <td>45.57</td>\n",
       "      <td>13.19</td>\n",
       "      <td>116.46</td>\n",
       "      <td>3.454890</td>\n",
       "      <td>0.5608</td>\n",
       "      <td>0.3216</td>\n",
       "      <td>36.96</td>\n",
       "      <td>127.875155</td>\n",
       "      <td>73.332115</td>\n",
       "    </tr>\n",
       "    <tr>\n",
       "      <th>4</th>\n",
       "      <td>2022-02-26 09:50:22</td>\n",
       "      <td>2022-02-26 10:03:52</td>\n",
       "      <td>00:13:30</td>\n",
       "      <td>5.36</td>\n",
       "      <td>1.67</td>\n",
       "      <td>108.13</td>\n",
       "      <td>3.209581</td>\n",
       "      <td>0.7726</td>\n",
       "      <td>0.7451</td>\n",
       "      <td>30.52</td>\n",
       "      <td>163.661662</td>\n",
       "      <td>157.836273</td>\n",
       "    </tr>\n",
       "    <tr>\n",
       "      <th>5</th>\n",
       "      <td>2022-02-26 10:04:49</td>\n",
       "      <td>2022-02-26 10:12:17</td>\n",
       "      <td>00:07:28</td>\n",
       "      <td>3.34</td>\n",
       "      <td>0.97</td>\n",
       "      <td>116.10</td>\n",
       "      <td>3.443299</td>\n",
       "      <td>0.7451</td>\n",
       "      <td>0.7294</td>\n",
       "      <td>28.45</td>\n",
       "      <td>169.329736</td>\n",
       "      <td>165.761790</td>\n",
       "    </tr>\n",
       "    <tr>\n",
       "      <th>6</th>\n",
       "      <td>2022-02-26 10:28:40</td>\n",
       "      <td>2022-02-26 10:31:18</td>\n",
       "      <td>00:02:38</td>\n",
       "      <td>0.45</td>\n",
       "      <td>0.18</td>\n",
       "      <td>84.94</td>\n",
       "      <td>2.500000</td>\n",
       "      <td>0.7294</td>\n",
       "      <td>0.7216</td>\n",
       "      <td>28.40</td>\n",
       "      <td>120.351000</td>\n",
       "      <td>119.064000</td>\n",
       "    </tr>\n",
       "    <tr>\n",
       "      <th>...</th>\n",
       "      <td>...</td>\n",
       "      <td>...</td>\n",
       "      <td>...</td>\n",
       "      <td>...</td>\n",
       "      <td>...</td>\n",
       "      <td>...</td>\n",
       "      <td>...</td>\n",
       "      <td>...</td>\n",
       "      <td>...</td>\n",
       "      <td>...</td>\n",
       "      <td>...</td>\n",
       "      <td>...</td>\n",
       "    </tr>\n",
       "    <tr>\n",
       "      <th>1085</th>\n",
       "      <td>2022-11-29 07:59:27</td>\n",
       "      <td>2022-11-29 08:25:02</td>\n",
       "      <td>00:25:35</td>\n",
       "      <td>17.60</td>\n",
       "      <td>5.89</td>\n",
       "      <td>100.71</td>\n",
       "      <td>2.988115</td>\n",
       "      <td>1.0000</td>\n",
       "      <td>0.8980</td>\n",
       "      <td>35.67</td>\n",
       "      <td>197.215620</td>\n",
       "      <td>177.099626</td>\n",
       "    </tr>\n",
       "    <tr>\n",
       "      <th>1086</th>\n",
       "      <td>2022-11-29 15:38:54</td>\n",
       "      <td>2022-11-29 16:12:07</td>\n",
       "      <td>00:33:13</td>\n",
       "      <td>14.31</td>\n",
       "      <td>4.03</td>\n",
       "      <td>119.67</td>\n",
       "      <td>3.550868</td>\n",
       "      <td>0.8980</td>\n",
       "      <td>0.8392</td>\n",
       "      <td>39.10</td>\n",
       "      <td>210.452873</td>\n",
       "      <td>196.672663</td>\n",
       "    </tr>\n",
       "    <tr>\n",
       "      <th>1087</th>\n",
       "      <td>2022-11-29 18:09:27</td>\n",
       "      <td>2022-11-29 18:58:13</td>\n",
       "      <td>00:48:46</td>\n",
       "      <td>33.47</td>\n",
       "      <td>9.83</td>\n",
       "      <td>114.76</td>\n",
       "      <td>3.404883</td>\n",
       "      <td>0.8392</td>\n",
       "      <td>0.6706</td>\n",
       "      <td>35.00</td>\n",
       "      <td>188.586936</td>\n",
       "      <td>150.698760</td>\n",
       "    </tr>\n",
       "    <tr>\n",
       "      <th>1088</th>\n",
       "      <td>2022-11-30 08:17:23</td>\n",
       "      <td>2022-11-30 08:45:27</td>\n",
       "      <td>00:28:04</td>\n",
       "      <td>17.47</td>\n",
       "      <td>5.57</td>\n",
       "      <td>105.74</td>\n",
       "      <td>3.136445</td>\n",
       "      <td>1.0000</td>\n",
       "      <td>0.9058</td>\n",
       "      <td>41.45</td>\n",
       "      <td>207.005386</td>\n",
       "      <td>187.505479</td>\n",
       "    </tr>\n",
       "    <tr>\n",
       "      <th>1089</th>\n",
       "      <td>2022-11-30 20:28:37</td>\n",
       "      <td>2022-11-30 21:03:52</td>\n",
       "      <td>00:35:15</td>\n",
       "      <td>18.87</td>\n",
       "      <td>5.06</td>\n",
       "      <td>125.66</td>\n",
       "      <td>3.729249</td>\n",
       "      <td>0.9058</td>\n",
       "      <td>0.8235</td>\n",
       "      <td>45.73</td>\n",
       "      <td>222.944948</td>\n",
       "      <td>202.688413</td>\n",
       "    </tr>\n",
       "  </tbody>\n",
       "</table>\n",
       "<p>989 rows × 12 columns</p>\n",
       "</div>"
      ],
      "text/plain": [
       "              start_date            end_date  duration  distance  \\\n",
       "0    2022-02-24 08:25:56 2022-02-24 09:32:13  01:06:17     45.54   \n",
       "3    2022-02-24 18:00:42 2022-02-24 19:06:38  01:05:56     45.57   \n",
       "4    2022-02-26 09:50:22 2022-02-26 10:03:52  00:13:30      5.36   \n",
       "5    2022-02-26 10:04:49 2022-02-26 10:12:17  00:07:28      3.34   \n",
       "6    2022-02-26 10:28:40 2022-02-26 10:31:18  00:02:38      0.45   \n",
       "...                  ...                 ...       ...       ...   \n",
       "1085 2022-11-29 07:59:27 2022-11-29 08:25:02  00:25:35     17.60   \n",
       "1086 2022-11-29 15:38:54 2022-11-29 16:12:07  00:33:13     14.31   \n",
       "1087 2022-11-29 18:09:27 2022-11-29 18:58:13  00:48:46     33.47   \n",
       "1088 2022-11-30 08:17:23 2022-11-30 08:45:27  00:28:04     17.47   \n",
       "1089 2022-11-30 20:28:37 2022-11-30 21:03:52  00:35:15     18.87   \n",
       "\n",
       "      electricity_used    MPGe     mikWh  start_soc  end_soc   temp  \\\n",
       "0                12.64  121.44  3.602848     0.0000   0.0000  31.81   \n",
       "3                13.19  116.46  3.454890     0.5608   0.3216  36.96   \n",
       "4                 1.67  108.13  3.209581     0.7726   0.7451  30.52   \n",
       "5                 0.97  116.10  3.443299     0.7451   0.7294  28.45   \n",
       "6                 0.18   84.94  2.500000     0.7294   0.7216  28.40   \n",
       "...                ...     ...       ...        ...      ...    ...   \n",
       "1085              5.89  100.71  2.988115     1.0000   0.8980  35.67   \n",
       "1086              4.03  119.67  3.550868     0.8980   0.8392  39.10   \n",
       "1087              9.83  114.76  3.404883     0.8392   0.6706  35.00   \n",
       "1088              5.57  105.74  3.136445     1.0000   0.9058  41.45   \n",
       "1089              5.06  125.66  3.729249     0.9058   0.8235  45.73   \n",
       "\n",
       "      start_range   end_range  \n",
       "0        0.000000    0.000000  \n",
       "3      127.875155   73.332115  \n",
       "4      163.661662  157.836273  \n",
       "5      169.329736  165.761790  \n",
       "6      120.351000  119.064000  \n",
       "...           ...         ...  \n",
       "1085   197.215620  177.099626  \n",
       "1086   210.452873  196.672663  \n",
       "1087   188.586936  150.698760  \n",
       "1088   207.005386  187.505479  \n",
       "1089   222.944948  202.688413  \n",
       "\n",
       "[989 rows x 12 columns]"
      ]
     },
     "execution_count": 27,
     "metadata": {},
     "output_type": "execute_result"
    }
   ],
   "source": [
    "trips"
   ]
  },
  {
   "cell_type": "markdown",
   "id": "9d28e6e9",
   "metadata": {},
   "source": [
    "# NEED TO FIX DURATION dtype"
   ]
  },
  {
   "cell_type": "code",
   "execution_count": 28,
   "id": "1b2113a5",
   "metadata": {},
   "outputs": [],
   "source": [
    "\n",
    "\n",
    "\n",
    "# gas_prices['Duration'] = pd.datetime.time to_datetime(gas_prices['date'])\n",
    "# gas_prices.dtypes"
   ]
  },
  {
   "cell_type": "code",
   "execution_count": null,
   "id": "47ce85ff",
   "metadata": {},
   "outputs": [],
   "source": []
  },
  {
   "cell_type": "markdown",
   "id": "9ff0060f",
   "metadata": {},
   "source": [
    "### gas_prices"
   ]
  },
  {
   "cell_type": "code",
   "execution_count": 29,
   "id": "9d41e4cf",
   "metadata": {},
   "outputs": [
    {
     "data": {
      "text/html": [
       "<div>\n",
       "<style scoped>\n",
       "    .dataframe tbody tr th:only-of-type {\n",
       "        vertical-align: middle;\n",
       "    }\n",
       "\n",
       "    .dataframe tbody tr th {\n",
       "        vertical-align: top;\n",
       "    }\n",
       "\n",
       "    .dataframe thead th {\n",
       "        text-align: right;\n",
       "    }\n",
       "</style>\n",
       "<table border=\"1\" class=\"dataframe\">\n",
       "  <thead>\n",
       "    <tr style=\"text-align: right;\">\n",
       "      <th></th>\n",
       "      <th>date</th>\n",
       "      <th>price</th>\n",
       "    </tr>\n",
       "  </thead>\n",
       "  <tbody>\n",
       "    <tr>\n",
       "      <th>0</th>\n",
       "      <td>11/28/2022</td>\n",
       "      <td>3.663</td>\n",
       "    </tr>\n",
       "    <tr>\n",
       "      <th>1</th>\n",
       "      <td>11/21/2022</td>\n",
       "      <td>3.735</td>\n",
       "    </tr>\n",
       "    <tr>\n",
       "      <th>2</th>\n",
       "      <td>11/14/2022</td>\n",
       "      <td>3.808</td>\n",
       "    </tr>\n",
       "    <tr>\n",
       "      <th>3</th>\n",
       "      <td>11/7/2022</td>\n",
       "      <td>3.832</td>\n",
       "    </tr>\n",
       "    <tr>\n",
       "      <th>4</th>\n",
       "      <td>10/31/2022</td>\n",
       "      <td>3.741</td>\n",
       "    </tr>\n",
       "  </tbody>\n",
       "</table>\n",
       "</div>"
      ],
      "text/plain": [
       "         date  price\n",
       "0  11/28/2022  3.663\n",
       "1  11/21/2022  3.735\n",
       "2  11/14/2022  3.808\n",
       "3   11/7/2022  3.832\n",
       "4  10/31/2022  3.741"
      ]
     },
     "execution_count": 29,
     "metadata": {},
     "output_type": "execute_result"
    }
   ],
   "source": [
    "# Reading in NY State Weekly Gas Prices\n",
    "gas_prices = pd.read_csv('data/RAW-NY_Gas_prices_REGULAR_FORMULA_Weekly_Retail_Gasoline_and_Diesel_Prices.csv'\\\n",
    "                    , skiprows = 7, names = ['date','price'])\n",
    "# gas_prices.value_counts\n",
    "gas_prices.head()\n",
    "# gas_prices.describe()"
   ]
  },
  {
   "cell_type": "code",
   "execution_count": 30,
   "id": "279f2e41",
   "metadata": {},
   "outputs": [
    {
     "data": {
      "text/plain": [
       "date     datetime64[ns]\n",
       "price           float64\n",
       "dtype: object"
      ]
     },
     "execution_count": 30,
     "metadata": {},
     "output_type": "execute_result"
    }
   ],
   "source": [
    "# Converting column 'date' to datetime\n",
    "gas_prices['date'] = pd.to_datetime(gas_prices['date'])\n",
    "gas_prices.dtypes"
   ]
  },
  {
   "cell_type": "code",
   "execution_count": 31,
   "id": "befc07d2",
   "metadata": {
    "scrolled": true
   },
   "outputs": [
    {
     "data": {
      "text/html": [
       "<div>\n",
       "<style scoped>\n",
       "    .dataframe tbody tr th:only-of-type {\n",
       "        vertical-align: middle;\n",
       "    }\n",
       "\n",
       "    .dataframe tbody tr th {\n",
       "        vertical-align: top;\n",
       "    }\n",
       "\n",
       "    .dataframe thead th {\n",
       "        text-align: right;\n",
       "    }\n",
       "</style>\n",
       "<table border=\"1\" class=\"dataframe\">\n",
       "  <thead>\n",
       "    <tr style=\"text-align: right;\">\n",
       "      <th></th>\n",
       "      <th>date</th>\n",
       "      <th>price</th>\n",
       "    </tr>\n",
       "  </thead>\n",
       "  <tbody>\n",
       "    <tr>\n",
       "      <th>0</th>\n",
       "      <td>2022-11-28</td>\n",
       "      <td>3.663</td>\n",
       "    </tr>\n",
       "    <tr>\n",
       "      <th>1</th>\n",
       "      <td>2022-11-21</td>\n",
       "      <td>3.735</td>\n",
       "    </tr>\n",
       "    <tr>\n",
       "      <th>2</th>\n",
       "      <td>2022-11-14</td>\n",
       "      <td>3.808</td>\n",
       "    </tr>\n",
       "    <tr>\n",
       "      <th>3</th>\n",
       "      <td>2022-11-07</td>\n",
       "      <td>3.832</td>\n",
       "    </tr>\n",
       "    <tr>\n",
       "      <th>4</th>\n",
       "      <td>2022-10-31</td>\n",
       "      <td>3.741</td>\n",
       "    </tr>\n",
       "  </tbody>\n",
       "</table>\n",
       "</div>"
      ],
      "text/plain": [
       "        date  price\n",
       "0 2022-11-28  3.663\n",
       "1 2022-11-21  3.735\n",
       "2 2022-11-14  3.808\n",
       "3 2022-11-07  3.832\n",
       "4 2022-10-31  3.741"
      ]
     },
     "execution_count": 31,
     "metadata": {},
     "output_type": "execute_result"
    }
   ],
   "source": [
    "gas_prices = gas_prices[gas_prices['date'].dt.year == 2022]\n",
    "gas_prices.head()"
   ]
  },
  {
   "cell_type": "code",
   "execution_count": 32,
   "id": "9a23f8a8",
   "metadata": {},
   "outputs": [
    {
     "data": {
      "text/plain": [
       "<AxesSubplot:xlabel='date'>"
      ]
     },
     "execution_count": 32,
     "metadata": {},
     "output_type": "execute_result"
    },
    {
     "data": {
      "image/png": "[encoded data removed]",
      "text/plain": [
       "<Figure size 864x432 with 1 Axes>"
      ]
     },
     "metadata": {},
     "output_type": "display_data"
    }
   ],
   "source": [
    "x = gas_prices['date']\n",
    "y = gas_prices['price']\n",
    "\n",
    "gas_prices.plot(x = 'date', y ='price', kind = 'line')\n",
    "\n",
    "\n"
   ]
  },
  {
   "cell_type": "markdown",
   "id": "76cdb27c",
   "metadata": {},
   "source": [
    "# Fill in missing dates, and copy values"
   ]
  },
  {
   "cell_type": "code",
   "execution_count": 33,
   "id": "f88a6d78",
   "metadata": {},
   "outputs": [
    {
     "data": {
      "text/plain": [
       "2022-01-01    0\n",
       "2022-01-02    0\n",
       "2022-01-03    0\n",
       "2022-01-04    0\n",
       "2022-01-05    0\n",
       "             ..\n",
       "2022-11-24    0\n",
       "2022-11-25    0\n",
       "2022-11-26    0\n",
       "2022-11-27    0\n",
       "2022-11-28    0\n",
       "Freq: D, Length: 332, dtype: object"
      ]
     },
     "execution_count": 33,
     "metadata": {},
     "output_type": "execute_result"
    }
   ],
   "source": [
    "\n",
    "idx = pd.date_range('01-01-2022', '11-28-2022')\n",
    "\n",
    "s = pd.Series(gas_prices.to_dict)\n",
    "\n",
    "s.index = pd.DatetimeIndex(s.index)\n",
    "\n",
    "s = s.reindex(idx, fill_value=0)\n",
    "s"
   ]
  },
  {
   "cell_type": "markdown",
   "id": "2e671689",
   "metadata": {},
   "source": [
    "# boxplot: Gas vs electrc"
   ]
  },
  {
   "cell_type": "markdown",
   "id": "ab6d3fa4",
   "metadata": {},
   "source": [
    "Electricity Prices"
   ]
  },
  {
   "cell_type": "code",
   "execution_count": 34,
   "id": "840b30fc",
   "metadata": {},
   "outputs": [],
   "source": [
    "# #\n",
    "# supply_chrg = 9.7383 #/kwh\n",
    "# deliv_chrg = 13.9280 #/kwh\n",
    "# sys_ben_chrg = .5005 #/kwh\n",
    "# sales_tax = .07 # 7% over total"
   ]
  }
 ],
 "metadata": {
  "kernelspec": {
   "display_name": "Python 3 (ipykernel)",
   "language": "python",
   "name": "python3"
  },
  "language_info": {
   "codemirror_mode": {
    "name": "ipython",
    "version": 3
   },
   "file_extension": ".py",
   "mimetype": "text/x-python",
   "name": "python",
   "nbconvert_exporter": "python",
   "pygments_lexer": "ipython3",
   "version": "3.9.12"
  }
 },
 "nbformat": 4,
 "nbformat_minor": 5
}
