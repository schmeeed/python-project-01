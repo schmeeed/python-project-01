{
 "cells": [
  {
   "cell_type": "markdown",
   "id": "0fcae970",
   "metadata": {},
   "source": [
    "## Libraries and Settings"
   ]
  },
  {
   "cell_type": "code",
   "execution_count": 1,
   "id": "fda32cfc",
   "metadata": {},
   "outputs": [],
   "source": [
    "# data manipulation\n",
    "import numpy as np\n",
    "import pandas as pd\n",
    "import datetime\n",
    "from scipy import stats\n",
    "import PyPDF2\n",
    "import os\n",
    "import re\n",
    "\n",
    "# data viz\n",
    "from matplotlib import pyplot as plt\n",
    "from matplotlib import rcParams\n",
    "from matplotlib import ticker\n",
    "import seaborn as sns\n",
    "import matplotlib.dates as mdates\n",
    "\n",
    "\n",
    "#warnings\n",
    "import warnings\n",
    "warnings.simplefilter(action='ignore', category=FutureWarning)\n",
    "\n",
    "# Viz Styling\n",
    "plt.style.use('default')\n",
    "rcParams['figure.figsize'] = (12,  6)\n",
    "pd.set_option('display.max_columns',50)\n"
   ]
  },
  {
   "cell_type": "markdown",
   "id": "dfc9a372",
   "metadata": {},
   "source": [
    "## Import Data"
   ]
  },
  {
   "cell_type": "code",
   "execution_count": 2,
   "id": "0075d79b",
   "metadata": {
    "scrolled": true
   },
   "outputs": [
    {
     "data": {
      "text/html": [
       "<div>\n",
       "<style scoped>\n",
       "    .dataframe tbody tr th:only-of-type {\n",
       "        vertical-align: middle;\n",
       "    }\n",
       "\n",
       "    .dataframe tbody tr th {\n",
       "        vertical-align: top;\n",
       "    }\n",
       "\n",
       "    .dataframe thead th {\n",
       "        text-align: right;\n",
       "    }\n",
       "</style>\n",
       "<table border=\"1\" class=\"dataframe\">\n",
       "  <thead>\n",
       "    <tr style=\"text-align: right;\">\n",
       "      <th></th>\n",
       "      <th>Vehicle Model</th>\n",
       "      <th>Start Date</th>\n",
       "      <th>End Date</th>\n",
       "      <th>Duration</th>\n",
       "      <th>Distance (mi)</th>\n",
       "      <th>Gasoline Consumed (gal)</th>\n",
       "      <th>Electricity Consumed (kWh)</th>\n",
       "      <th>Fuel Efficiency Equivalent (MPGeq)</th>\n",
       "      <th>mi/kWh</th>\n",
       "      <th>Starting SOC (%)</th>\n",
       "      <th>Ending SOC (%)</th>\n",
       "      <th>Ambient Temperature (F)</th>\n",
       "      <th>Smooth Acceleration (%)</th>\n",
       "      <th>Smooth Braking (%)</th>\n",
       "    </tr>\n",
       "  </thead>\n",
       "  <tbody>\n",
       "    <tr>\n",
       "      <th>0</th>\n",
       "      <td>2019 Chevrolet Bolt EV</td>\n",
       "      <td>2022-06-25 20:18:33</td>\n",
       "      <td>2022-06-25 20:25:43</td>\n",
       "      <td>00:07:10</td>\n",
       "      <td>1.59</td>\n",
       "      <td>NaN</td>\n",
       "      <td>0.01</td>\n",
       "      <td>5374.05</td>\n",
       "      <td>159.000000</td>\n",
       "      <td>76.08</td>\n",
       "      <td>76.08</td>\n",
       "      <td>NaN</td>\n",
       "      <td>NaN</td>\n",
       "      <td>NaN</td>\n",
       "    </tr>\n",
       "    <tr>\n",
       "      <th>1</th>\n",
       "      <td>2019 Chevrolet Bolt EV</td>\n",
       "      <td>2022-07-16 20:43:47</td>\n",
       "      <td>2022-07-16 20:48:01</td>\n",
       "      <td>00:04:14</td>\n",
       "      <td>0.79</td>\n",
       "      <td>NaN</td>\n",
       "      <td>0.02</td>\n",
       "      <td>1327.81</td>\n",
       "      <td>39.500000</td>\n",
       "      <td>83.92</td>\n",
       "      <td>83.92</td>\n",
       "      <td>78.80</td>\n",
       "      <td>NaN</td>\n",
       "      <td>NaN</td>\n",
       "    </tr>\n",
       "    <tr>\n",
       "      <th>2</th>\n",
       "      <td>2019 Chevrolet Bolt EV</td>\n",
       "      <td>2022-07-26 16:16:48</td>\n",
       "      <td>2022-07-26 16:23:35</td>\n",
       "      <td>00:06:47</td>\n",
       "      <td>1.91</td>\n",
       "      <td>NaN</td>\n",
       "      <td>0.06</td>\n",
       "      <td>1072.65</td>\n",
       "      <td>31.833333</td>\n",
       "      <td>70.98</td>\n",
       "      <td>70.58</td>\n",
       "      <td>80.60</td>\n",
       "      <td>NaN</td>\n",
       "      <td>NaN</td>\n",
       "    </tr>\n",
       "    <tr>\n",
       "      <th>3</th>\n",
       "      <td>2019 Chevrolet Bolt EV</td>\n",
       "      <td>2022-05-18 20:33:28</td>\n",
       "      <td>2022-05-18 20:39:32</td>\n",
       "      <td>00:06:04</td>\n",
       "      <td>1.81</td>\n",
       "      <td>NaN</td>\n",
       "      <td>0.06</td>\n",
       "      <td>1016.80</td>\n",
       "      <td>30.166667</td>\n",
       "      <td>38.04</td>\n",
       "      <td>37.64</td>\n",
       "      <td>NaN</td>\n",
       "      <td>NaN</td>\n",
       "      <td>NaN</td>\n",
       "    </tr>\n",
       "    <tr>\n",
       "      <th>4</th>\n",
       "      <td>2019 Chevrolet Bolt EV</td>\n",
       "      <td>2022-11-03 16:38:58</td>\n",
       "      <td>2022-11-03 16:43:54</td>\n",
       "      <td>00:04:56</td>\n",
       "      <td>1.60</td>\n",
       "      <td>NaN</td>\n",
       "      <td>0.06</td>\n",
       "      <td>900.91</td>\n",
       "      <td>26.666667</td>\n",
       "      <td>68.24</td>\n",
       "      <td>67.84</td>\n",
       "      <td>65.73</td>\n",
       "      <td>NaN</td>\n",
       "      <td>NaN</td>\n",
       "    </tr>\n",
       "  </tbody>\n",
       "</table>\n",
       "</div>"
      ],
      "text/plain": [
       "            Vehicle Model          Start Date            End Date  Duration  \\\n",
       "0  2019 Chevrolet Bolt EV 2022-06-25 20:18:33 2022-06-25 20:25:43  00:07:10   \n",
       "1  2019 Chevrolet Bolt EV 2022-07-16 20:43:47 2022-07-16 20:48:01  00:04:14   \n",
       "2  2019 Chevrolet Bolt EV 2022-07-26 16:16:48 2022-07-26 16:23:35  00:06:47   \n",
       "3  2019 Chevrolet Bolt EV 2022-05-18 20:33:28 2022-05-18 20:39:32  00:06:04   \n",
       "4  2019 Chevrolet Bolt EV 2022-11-03 16:38:58 2022-11-03 16:43:54  00:04:56   \n",
       "\n",
       "   Distance (mi)  Gasoline Consumed (gal)  Electricity Consumed (kWh)  \\\n",
       "0           1.59                      NaN                        0.01   \n",
       "1           0.79                      NaN                        0.02   \n",
       "2           1.91                      NaN                        0.06   \n",
       "3           1.81                      NaN                        0.06   \n",
       "4           1.60                      NaN                        0.06   \n",
       "\n",
       "   Fuel Efficiency Equivalent (MPGeq)      mi/kWh  Starting SOC (%)  \\\n",
       "0                             5374.05  159.000000             76.08   \n",
       "1                             1327.81   39.500000             83.92   \n",
       "2                             1072.65   31.833333             70.98   \n",
       "3                             1016.80   30.166667             38.04   \n",
       "4                              900.91   26.666667             68.24   \n",
       "\n",
       "   Ending SOC (%)  Ambient Temperature (F)  Smooth Acceleration (%)  \\\n",
       "0           76.08                      NaN                      NaN   \n",
       "1           83.92                    78.80                      NaN   \n",
       "2           70.58                    80.60                      NaN   \n",
       "3           37.64                      NaN                      NaN   \n",
       "4           67.84                    65.73                      NaN   \n",
       "\n",
       "   Smooth Braking (%)  \n",
       "0                 NaN  \n",
       "1                 NaN  \n",
       "2                 NaN  \n",
       "3                 NaN  \n",
       "4                 NaN  "
      ]
     },
     "execution_count": 2,
     "metadata": {},
     "output_type": "execute_result"
    }
   ],
   "source": [
    "trips = pd.read_excel('data/RAW-2019-Chevy-Bolt-Trip-Data.xlsx')\n",
    "\n",
    "trips.head()"
   ]
  },
  {
   "cell_type": "code",
   "execution_count": 3,
   "id": "fd8a52c5",
   "metadata": {
    "scrolled": true
   },
   "outputs": [
    {
     "data": {
      "text/plain": [
       "Vehicle Model                         1201\n",
       "Start Date                            1201\n",
       "End Date                              1201\n",
       "Duration                              1201\n",
       "Distance (mi)                         1201\n",
       "Gasoline Consumed (gal)                  0\n",
       "Electricity Consumed (kWh)            1199\n",
       "Fuel Efficiency Equivalent (MPGeq)    1110\n",
       "mi/kWh                                1201\n",
       "Starting SOC (%)                      1201\n",
       "Ending SOC (%)                        1201\n",
       "Ambient Temperature (F)               1011\n",
       "Smooth Acceleration (%)                  0\n",
       "Smooth Braking (%)                       0\n",
       "dtype: int64"
      ]
     },
     "execution_count": 3,
     "metadata": {},
     "output_type": "execute_result"
    }
   ],
   "source": [
    "# Finding null columns\n",
    "np.sum(~trips.isnull())"
   ]
  },
  {
   "cell_type": "markdown",
   "id": "f4879b40",
   "metadata": {},
   "source": [
    "## Cleaning"
   ]
  },
  {
   "cell_type": "code",
   "execution_count": 4,
   "id": "037df696",
   "metadata": {},
   "outputs": [],
   "source": [
    "# Removing Null Columns and irrelivant columns\n",
    "trips.drop(labels = ['Vehicle Model', r'Gasoline Consumed (gal)'\\\n",
    "                     , r'Smooth Acceleration (%)', r'Smooth Braking (%)'], axis = 1, inplace = True)"
   ]
  },
  {
   "cell_type": "code",
   "execution_count": 5,
   "id": "58739adb",
   "metadata": {},
   "outputs": [],
   "source": [
    "# Removing 0.00 mile trips (i.e. I turned on the car for a minute, but didn't go anywhere)\n",
    "trips = trips.loc[trips[r'Distance (mi)'] != 0 ,:]\n",
    "\n",
    "# Removing negative electricity_consumed outliers.\n",
    "trips = trips.loc[trips[r'Electricity Consumed (kWh)'] >= 0,:]\n"
   ]
  },
  {
   "cell_type": "code",
   "execution_count": 6,
   "id": "5eb1bb87",
   "metadata": {},
   "outputs": [],
   "source": [
    "# converting SOC columns to decimal values (/100)\n",
    "trips[r'Starting SOC (%)'] = trips[r'Starting SOC (%)']/100\n",
    "trips[r'Ending SOC (%)'] = trips[r'Ending SOC (%)']/100"
   ]
  },
  {
   "cell_type": "code",
   "execution_count": 7,
   "id": "f2ba9ba3",
   "metadata": {},
   "outputs": [],
   "source": [
    "# Appending Columns to provide additional Analysis\n",
    "# Projected Mile Range at Star and end of trip\n",
    "# Using the formula (mi/kWh)*(SOC*battery size)\n",
    "# battery size is 66kWh\n",
    "battery_size = 66\n",
    "\n",
    "trips['start_range'] = trips['mi/kWh']*(trips[r'Starting SOC (%)']*battery_size)\n",
    "trips['end_range'] = trips['mi/kWh']*(trips[r'Ending SOC (%)']*battery_size)"
   ]
  },
  {
   "cell_type": "code",
   "execution_count": 8,
   "id": "c539eeda",
   "metadata": {},
   "outputs": [
    {
     "data": {
      "text/plain": [
       "Index(['Start Date', 'End Date', 'Duration', 'Distance (mi)',\n",
       "       'Electricity Consumed (kWh)', 'Fuel Efficiency Equivalent (MPGeq)',\n",
       "       'mi/kWh', 'Starting SOC (%)', 'Ending SOC (%)',\n",
       "       'Ambient Temperature (F)', 'start_range', 'end_range'],\n",
       "      dtype='object')"
      ]
     },
     "execution_count": 8,
     "metadata": {},
     "output_type": "execute_result"
    }
   ],
   "source": [
    "trips.columns"
   ]
  },
  {
   "cell_type": "code",
   "execution_count": 9,
   "id": "ae5ab431",
   "metadata": {},
   "outputs": [],
   "source": [
    "# Rename column names\n",
    "trips = trips.rename(columns = {r'Start Date' : 'start_date',\n",
    "           r'End Date' : 'end_date',\n",
    "           r'Duration' : 'duration',\n",
    "           r'Distance (mi)' : 'distance',\n",
    "           r'Electricity Consumed (kWh)' : 'electricity_used',\n",
    "           r'mi/kWh' : 'mikWh',\n",
    "           r'Fuel Efficiency Equivalent (MPGeq)' : 'MPGe',\n",
    "           r'Starting SOC (%)' : 'start_soc',\n",
    "           r'Ending SOC (%)' : 'end_soc',\n",
    "           r'Ambient Temperature (F)' : 'temp',\n",
    "          }\n",
    "         )"
   ]
  },
  {
   "cell_type": "code",
   "execution_count": 10,
   "id": "12cbdda8",
   "metadata": {},
   "outputs": [],
   "source": [
    "# trips['start_date'] = pd.to_datetime(trips['start_date']).dt.date\n",
    "# trips['start_time'] = pd.to_datetime(trips['start_date']).dt.time\n",
    "# trips['end_date'] = pd.to_datetime(trips['end_date']).dt.date\n",
    "# trips['end_time'] = pd.to_datetime(trips['end_date']).dt.time\n",
    "\n",
    "# trips"
   ]
  },
  {
   "cell_type": "markdown",
   "id": "5d47a85e",
   "metadata": {},
   "source": [
    "## Handling Missing Data"
   ]
  },
  {
   "cell_type": "code",
   "execution_count": 11,
   "id": "f05691d5",
   "metadata": {},
   "outputs": [
    {
     "data": {
      "text/plain": [
       "start_date          1092\n",
       "end_date            1092\n",
       "duration            1092\n",
       "distance            1092\n",
       "electricity_used    1092\n",
       "MPGe                1092\n",
       "mikWh               1092\n",
       "start_soc           1092\n",
       "end_soc             1092\n",
       "temp                 924\n",
       "start_range         1092\n",
       "end_range           1092\n",
       "dtype: int64"
      ]
     },
     "execution_count": 11,
     "metadata": {},
     "output_type": "execute_result"
    }
   ],
   "source": [
    "# Finding missing data\n",
    "np.sum(~trips.isnull())"
   ]
  },
  {
   "cell_type": "markdown",
   "id": "b453cb81",
   "metadata": {},
   "source": [
    "## Temperature NaN Values"
   ]
  },
  {
   "cell_type": "markdown",
   "id": "a8403872",
   "metadata": {},
   "source": [
    "There does not seem to be a pattern regarding the missing temperature data. \n",
    "\n",
    "There are 168 temperature data points missing, out of a total of 1092 data points. \n",
    "\n",
    "***13%*** of the temperature data points are missing. I have chosen to interpolate the missing data with a linear model. "
   ]
  },
  {
   "cell_type": "code",
   "execution_count": 12,
   "id": "7a8e59da",
   "metadata": {
    "scrolled": true
   },
   "outputs": [
    {
     "data": {
      "text/html": [
       "<div>\n",
       "<style scoped>\n",
       "    .dataframe tbody tr th:only-of-type {\n",
       "        vertical-align: middle;\n",
       "    }\n",
       "\n",
       "    .dataframe tbody tr th {\n",
       "        vertical-align: top;\n",
       "    }\n",
       "\n",
       "    .dataframe thead th {\n",
       "        text-align: right;\n",
       "    }\n",
       "</style>\n",
       "<table border=\"1\" class=\"dataframe\">\n",
       "  <thead>\n",
       "    <tr style=\"text-align: right;\">\n",
       "      <th></th>\n",
       "      <th>start_date</th>\n",
       "      <th>end_date</th>\n",
       "      <th>duration</th>\n",
       "      <th>distance</th>\n",
       "      <th>electricity_used</th>\n",
       "      <th>MPGe</th>\n",
       "      <th>mikWh</th>\n",
       "      <th>start_soc</th>\n",
       "      <th>end_soc</th>\n",
       "      <th>temp</th>\n",
       "      <th>start_range</th>\n",
       "      <th>end_range</th>\n",
       "    </tr>\n",
       "  </thead>\n",
       "  <tbody>\n",
       "    <tr>\n",
       "      <th>961</th>\n",
       "      <td>2022-03-05 15:51:54</td>\n",
       "      <td>2022-03-05 15:59:33</td>\n",
       "      <td>00:07:39</td>\n",
       "      <td>1.62</td>\n",
       "      <td>0.69</td>\n",
       "      <td>79.34</td>\n",
       "      <td>2.347826</td>\n",
       "      <td>0.7647</td>\n",
       "      <td>0.7568</td>\n",
       "      <td>NaN</td>\n",
       "      <td>118.495252</td>\n",
       "      <td>117.271096</td>\n",
       "    </tr>\n",
       "    <tr>\n",
       "      <th>527</th>\n",
       "      <td>2022-03-09 17:18:45</td>\n",
       "      <td>2022-03-09 17:20:06</td>\n",
       "      <td>00:01:21</td>\n",
       "      <td>0.12</td>\n",
       "      <td>0.03</td>\n",
       "      <td>136.13</td>\n",
       "      <td>4.000000</td>\n",
       "      <td>0.7058</td>\n",
       "      <td>0.7098</td>\n",
       "      <td>NaN</td>\n",
       "      <td>186.331200</td>\n",
       "      <td>187.387200</td>\n",
       "    </tr>\n",
       "    <tr>\n",
       "      <th>528</th>\n",
       "      <td>2022-03-11 00:54:56</td>\n",
       "      <td>2022-03-11 00:55:33</td>\n",
       "      <td>00:00:37</td>\n",
       "      <td>0.04</td>\n",
       "      <td>0.01</td>\n",
       "      <td>148.70</td>\n",
       "      <td>4.000000</td>\n",
       "      <td>0.3020</td>\n",
       "      <td>0.3020</td>\n",
       "      <td>NaN</td>\n",
       "      <td>79.728000</td>\n",
       "      <td>79.728000</td>\n",
       "    </tr>\n",
       "    <tr>\n",
       "      <th>1047</th>\n",
       "      <td>2022-03-12 07:59:54</td>\n",
       "      <td>2022-03-12 08:01:07</td>\n",
       "      <td>00:01:13</td>\n",
       "      <td>0.01</td>\n",
       "      <td>0.01</td>\n",
       "      <td>20.94</td>\n",
       "      <td>1.000000</td>\n",
       "      <td>0.4824</td>\n",
       "      <td>0.5333</td>\n",
       "      <td>NaN</td>\n",
       "      <td>31.838400</td>\n",
       "      <td>35.197800</td>\n",
       "    </tr>\n",
       "    <tr>\n",
       "      <th>367</th>\n",
       "      <td>2022-03-19 16:05:20</td>\n",
       "      <td>2022-03-19 16:09:49</td>\n",
       "      <td>00:04:29</td>\n",
       "      <td>0.72</td>\n",
       "      <td>0.16</td>\n",
       "      <td>150.92</td>\n",
       "      <td>4.500000</td>\n",
       "      <td>0.5804</td>\n",
       "      <td>0.6000</td>\n",
       "      <td>NaN</td>\n",
       "      <td>172.378800</td>\n",
       "      <td>178.200000</td>\n",
       "    </tr>\n",
       "    <tr>\n",
       "      <th>...</th>\n",
       "      <td>...</td>\n",
       "      <td>...</td>\n",
       "      <td>...</td>\n",
       "      <td>...</td>\n",
       "      <td>...</td>\n",
       "      <td>...</td>\n",
       "      <td>...</td>\n",
       "      <td>...</td>\n",
       "      <td>...</td>\n",
       "      <td>...</td>\n",
       "      <td>...</td>\n",
       "      <td>...</td>\n",
       "    </tr>\n",
       "    <tr>\n",
       "      <th>673</th>\n",
       "      <td>2022-11-19 15:25:29</td>\n",
       "      <td>2022-11-19 16:10:34</td>\n",
       "      <td>00:45:05</td>\n",
       "      <td>23.87</td>\n",
       "      <td>6.63</td>\n",
       "      <td>121.36</td>\n",
       "      <td>3.600302</td>\n",
       "      <td>0.8118</td>\n",
       "      <td>0.6941</td>\n",
       "      <td>NaN</td>\n",
       "      <td>192.899843</td>\n",
       "      <td>164.931979</td>\n",
       "    </tr>\n",
       "    <tr>\n",
       "      <th>5</th>\n",
       "      <td>2022-11-22 12:44:33</td>\n",
       "      <td>2022-11-22 12:49:55</td>\n",
       "      <td>00:05:22</td>\n",
       "      <td>1.60</td>\n",
       "      <td>0.06</td>\n",
       "      <td>899.52</td>\n",
       "      <td>26.666667</td>\n",
       "      <td>0.9137</td>\n",
       "      <td>0.9137</td>\n",
       "      <td>NaN</td>\n",
       "      <td>1608.112000</td>\n",
       "      <td>1608.112000</td>\n",
       "    </tr>\n",
       "    <tr>\n",
       "      <th>772</th>\n",
       "      <td>2022-11-25 08:21:56</td>\n",
       "      <td>2022-11-25 09:07:08</td>\n",
       "      <td>00:45:12</td>\n",
       "      <td>35.56</td>\n",
       "      <td>10.62</td>\n",
       "      <td>112.87</td>\n",
       "      <td>3.348399</td>\n",
       "      <td>0.5098</td>\n",
       "      <td>0.3255</td>\n",
       "      <td>NaN</td>\n",
       "      <td>112.662920</td>\n",
       "      <td>71.933661</td>\n",
       "    </tr>\n",
       "    <tr>\n",
       "      <th>740</th>\n",
       "      <td>2022-11-27 13:47:42</td>\n",
       "      <td>2022-11-27 13:49:15</td>\n",
       "      <td>00:01:33</td>\n",
       "      <td>0.24</td>\n",
       "      <td>0.07</td>\n",
       "      <td>115.19</td>\n",
       "      <td>3.428571</td>\n",
       "      <td>0.9882</td>\n",
       "      <td>0.9882</td>\n",
       "      <td>NaN</td>\n",
       "      <td>223.615543</td>\n",
       "      <td>223.615543</td>\n",
       "    </tr>\n",
       "    <tr>\n",
       "      <th>62</th>\n",
       "      <td>2022-11-27 18:24:23</td>\n",
       "      <td>2022-11-27 18:31:18</td>\n",
       "      <td>00:06:55</td>\n",
       "      <td>1.80</td>\n",
       "      <td>0.23</td>\n",
       "      <td>264.16</td>\n",
       "      <td>7.826087</td>\n",
       "      <td>0.9529</td>\n",
       "      <td>0.9490</td>\n",
       "      <td>NaN</td>\n",
       "      <td>492.193565</td>\n",
       "      <td>490.179130</td>\n",
       "    </tr>\n",
       "  </tbody>\n",
       "</table>\n",
       "<p>168 rows × 12 columns</p>\n",
       "</div>"
      ],
      "text/plain": [
       "              start_date            end_date  duration  distance  \\\n",
       "961  2022-03-05 15:51:54 2022-03-05 15:59:33  00:07:39      1.62   \n",
       "527  2022-03-09 17:18:45 2022-03-09 17:20:06  00:01:21      0.12   \n",
       "528  2022-03-11 00:54:56 2022-03-11 00:55:33  00:00:37      0.04   \n",
       "1047 2022-03-12 07:59:54 2022-03-12 08:01:07  00:01:13      0.01   \n",
       "367  2022-03-19 16:05:20 2022-03-19 16:09:49  00:04:29      0.72   \n",
       "...                  ...                 ...       ...       ...   \n",
       "673  2022-11-19 15:25:29 2022-11-19 16:10:34  00:45:05     23.87   \n",
       "5    2022-11-22 12:44:33 2022-11-22 12:49:55  00:05:22      1.60   \n",
       "772  2022-11-25 08:21:56 2022-11-25 09:07:08  00:45:12     35.56   \n",
       "740  2022-11-27 13:47:42 2022-11-27 13:49:15  00:01:33      0.24   \n",
       "62   2022-11-27 18:24:23 2022-11-27 18:31:18  00:06:55      1.80   \n",
       "\n",
       "      electricity_used    MPGe      mikWh  start_soc  end_soc  temp  \\\n",
       "961               0.69   79.34   2.347826     0.7647   0.7568   NaN   \n",
       "527               0.03  136.13   4.000000     0.7058   0.7098   NaN   \n",
       "528               0.01  148.70   4.000000     0.3020   0.3020   NaN   \n",
       "1047              0.01   20.94   1.000000     0.4824   0.5333   NaN   \n",
       "367               0.16  150.92   4.500000     0.5804   0.6000   NaN   \n",
       "...                ...     ...        ...        ...      ...   ...   \n",
       "673               6.63  121.36   3.600302     0.8118   0.6941   NaN   \n",
       "5                 0.06  899.52  26.666667     0.9137   0.9137   NaN   \n",
       "772              10.62  112.87   3.348399     0.5098   0.3255   NaN   \n",
       "740               0.07  115.19   3.428571     0.9882   0.9882   NaN   \n",
       "62                0.23  264.16   7.826087     0.9529   0.9490   NaN   \n",
       "\n",
       "      start_range    end_range  \n",
       "961    118.495252   117.271096  \n",
       "527    186.331200   187.387200  \n",
       "528     79.728000    79.728000  \n",
       "1047    31.838400    35.197800  \n",
       "367    172.378800   178.200000  \n",
       "...           ...          ...  \n",
       "673    192.899843   164.931979  \n",
       "5     1608.112000  1608.112000  \n",
       "772    112.662920    71.933661  \n",
       "740    223.615543   223.615543  \n",
       "62     492.193565   490.179130  \n",
       "\n",
       "[168 rows x 12 columns]"
      ]
     },
     "execution_count": 12,
     "metadata": {},
     "output_type": "execute_result"
    }
   ],
   "source": [
    "trips[trips.temp.isnull()].sort_values('start_date')#.describe()"
   ]
  },
  {
   "cell_type": "code",
   "execution_count": 13,
   "id": "1969311e",
   "metadata": {},
   "outputs": [
    {
     "data": {
      "text/plain": [
       "0"
      ]
     },
     "execution_count": 13,
     "metadata": {},
     "output_type": "execute_result"
    }
   ],
   "source": [
    "# SORT by date then Interpolate Missing data points based on recent days\n",
    "trips['temp'] = trips.sort_values('start_date').temp.interpolate(method = 'linear')\n",
    "\n",
    "# new 'temp' column missing data points\n",
    "np.sum(trips['temp'].isnull()) # 0"
   ]
  },
  {
   "cell_type": "markdown",
   "id": "0da4cbe1",
   "metadata": {},
   "source": [
    "## Write clean data to .csv"
   ]
  },
  {
   "cell_type": "code",
   "execution_count": 14,
   "id": "b9ad0f1a",
   "metadata": {},
   "outputs": [],
   "source": [
    "trips.to_csv('data/CLEAN-2019-Chevy-Bolt-Trip-Data.csv', sep=',', encoding='utf-8')"
   ]
  },
  {
   "cell_type": "markdown",
   "id": "a0264cf5",
   "metadata": {},
   "source": [
    "## Data Summary"
   ]
  },
  {
   "cell_type": "code",
   "execution_count": 15,
   "id": "fa16db69",
   "metadata": {
    "scrolled": true
   },
   "outputs": [
    {
     "data": {
      "text/html": [
       "<div>\n",
       "<style scoped>\n",
       "    .dataframe tbody tr th:only-of-type {\n",
       "        vertical-align: middle;\n",
       "    }\n",
       "\n",
       "    .dataframe tbody tr th {\n",
       "        vertical-align: top;\n",
       "    }\n",
       "\n",
       "    .dataframe thead th {\n",
       "        text-align: right;\n",
       "    }\n",
       "</style>\n",
       "<table border=\"1\" class=\"dataframe\">\n",
       "  <thead>\n",
       "    <tr style=\"text-align: right;\">\n",
       "      <th></th>\n",
       "      <th>distance</th>\n",
       "      <th>electricity_used</th>\n",
       "      <th>MPGe</th>\n",
       "      <th>mikWh</th>\n",
       "      <th>start_soc</th>\n",
       "      <th>end_soc</th>\n",
       "      <th>temp</th>\n",
       "      <th>start_range</th>\n",
       "      <th>end_range</th>\n",
       "    </tr>\n",
       "  </thead>\n",
       "  <tbody>\n",
       "    <tr>\n",
       "      <th>count</th>\n",
       "      <td>1092.000000</td>\n",
       "      <td>1092.000000</td>\n",
       "      <td>1092.000000</td>\n",
       "      <td>1092.000000</td>\n",
       "      <td>1092.000000</td>\n",
       "      <td>1092.000000</td>\n",
       "      <td>1092.000000</td>\n",
       "      <td>1092.000000</td>\n",
       "      <td>1092.000000</td>\n",
       "    </tr>\n",
       "    <tr>\n",
       "      <th>mean</th>\n",
       "      <td>15.934625</td>\n",
       "      <td>3.893306</td>\n",
       "      <td>152.240824</td>\n",
       "      <td>4.515056</td>\n",
       "      <td>0.726474</td>\n",
       "      <td>0.663368</td>\n",
       "      <td>65.677898</td>\n",
       "      <td>216.435830</td>\n",
       "      <td>199.327548</td>\n",
       "    </tr>\n",
       "    <tr>\n",
       "      <th>std</th>\n",
       "      <td>23.537214</td>\n",
       "      <td>5.667625</td>\n",
       "      <td>184.777458</td>\n",
       "      <td>5.470657</td>\n",
       "      <td>0.161817</td>\n",
       "      <td>0.184336</td>\n",
       "      <td>15.691951</td>\n",
       "      <td>275.939166</td>\n",
       "      <td>277.616239</td>\n",
       "    </tr>\n",
       "    <tr>\n",
       "      <th>min</th>\n",
       "      <td>0.010000</td>\n",
       "      <td>0.000000</td>\n",
       "      <td>0.000000</td>\n",
       "      <td>0.000000</td>\n",
       "      <td>0.000000</td>\n",
       "      <td>0.000000</td>\n",
       "      <td>23.420000</td>\n",
       "      <td>0.000000</td>\n",
       "      <td>0.000000</td>\n",
       "    </tr>\n",
       "    <tr>\n",
       "      <th>25%</th>\n",
       "      <td>1.707500</td>\n",
       "      <td>0.390000</td>\n",
       "      <td>107.897500</td>\n",
       "      <td>3.201098</td>\n",
       "      <td>0.653925</td>\n",
       "      <td>0.567625</td>\n",
       "      <td>53.570000</td>\n",
       "      <td>139.373270</td>\n",
       "      <td>117.428309</td>\n",
       "    </tr>\n",
       "    <tr>\n",
       "      <th>50%</th>\n",
       "      <td>5.290000</td>\n",
       "      <td>1.215000</td>\n",
       "      <td>132.995000</td>\n",
       "      <td>3.946428</td>\n",
       "      <td>0.749000</td>\n",
       "      <td>0.690200</td>\n",
       "      <td>67.725000</td>\n",
       "      <td>189.269131</td>\n",
       "      <td>168.324154</td>\n",
       "    </tr>\n",
       "    <tr>\n",
       "      <th>75%</th>\n",
       "      <td>18.500000</td>\n",
       "      <td>5.230000</td>\n",
       "      <td>165.630000</td>\n",
       "      <td>4.913897</td>\n",
       "      <td>0.815600</td>\n",
       "      <td>0.764700</td>\n",
       "      <td>78.800000</td>\n",
       "      <td>250.614535</td>\n",
       "      <td>231.463846</td>\n",
       "    </tr>\n",
       "    <tr>\n",
       "      <th>max</th>\n",
       "      <td>177.480000</td>\n",
       "      <td>42.320000</td>\n",
       "      <td>5374.050000</td>\n",
       "      <td>159.000000</td>\n",
       "      <td>1.000000</td>\n",
       "      <td>1.000000</td>\n",
       "      <td>99.540000</td>\n",
       "      <td>7983.835200</td>\n",
       "      <td>7983.835200</td>\n",
       "    </tr>\n",
       "  </tbody>\n",
       "</table>\n",
       "</div>"
      ],
      "text/plain": [
       "          distance  electricity_used         MPGe        mikWh    start_soc  \\\n",
       "count  1092.000000       1092.000000  1092.000000  1092.000000  1092.000000   \n",
       "mean     15.934625          3.893306   152.240824     4.515056     0.726474   \n",
       "std      23.537214          5.667625   184.777458     5.470657     0.161817   \n",
       "min       0.010000          0.000000     0.000000     0.000000     0.000000   \n",
       "25%       1.707500          0.390000   107.897500     3.201098     0.653925   \n",
       "50%       5.290000          1.215000   132.995000     3.946428     0.749000   \n",
       "75%      18.500000          5.230000   165.630000     4.913897     0.815600   \n",
       "max     177.480000         42.320000  5374.050000   159.000000     1.000000   \n",
       "\n",
       "           end_soc         temp  start_range    end_range  \n",
       "count  1092.000000  1092.000000  1092.000000  1092.000000  \n",
       "mean      0.663368    65.677898   216.435830   199.327548  \n",
       "std       0.184336    15.691951   275.939166   277.616239  \n",
       "min       0.000000    23.420000     0.000000     0.000000  \n",
       "25%       0.567625    53.570000   139.373270   117.428309  \n",
       "50%       0.690200    67.725000   189.269131   168.324154  \n",
       "75%       0.764700    78.800000   250.614535   231.463846  \n",
       "max       1.000000    99.540000  7983.835200  7983.835200  "
      ]
     },
     "execution_count": 15,
     "metadata": {},
     "output_type": "execute_result"
    }
   ],
   "source": [
    "trips.describe()"
   ]
  },
  {
   "cell_type": "markdown",
   "id": "0940fa8a",
   "metadata": {},
   "source": [
    "## Does Distance have an Effect on Effeciency?"
   ]
  },
  {
   "cell_type": "code",
   "execution_count": 16,
   "id": "e7a27cbc",
   "metadata": {},
   "outputs": [
    {
     "name": "stdout",
     "output_type": "stream",
     "text": [
      "419\n",
      "394\n",
      "279\n"
     ]
    }
   ],
   "source": [
    "# Quick Look at counts at different distances\n",
    "short_trips = trips.loc[trips.distance<3.3]\n",
    "med_trips = trips.loc[(trips.distance>=3.3) & (trips.distance<18)]\n",
    "long_trips = trips.loc[trips.distance>=18]\n",
    "print(short_trips.distance.count())\n",
    "print(med_trips.distance.count())\n",
    "print(long_trips.distance.count())"
   ]
  },
  {
   "cell_type": "code",
   "execution_count": 17,
   "id": "ca092731",
   "metadata": {},
   "outputs": [
    {
     "data": {
      "image/png": "[encoded data removed]",
      "text/plain": [
       "<Figure size 1200x600 with 1 Axes>"
      ]
     },
     "metadata": {},
     "output_type": "display_data"
    }
   ],
   "source": [
    "fig, ax = plt.subplots()\n",
    "ax.hist(trips.distance, bins = 200)\n",
    "ax.xaxis.set_major_locator(ticker.MultipleLocator(4));"
   ]
  },
  {
   "cell_type": "code",
   "execution_count": 18,
   "id": "04b2842e",
   "metadata": {},
   "outputs": [],
   "source": [
    "# creating quick function to append column with a category for how long the trip was\n",
    "def distance_describer(x):\n",
    "    if x['distance'] < 3.3:\n",
    "        return 'Short Trip'\n",
    "    if (x['distance'] >= 3.3) & (x['distance'] <18):\n",
    "        return 'Medium Trip'\n",
    "    if x['distance'] >= 18:\n",
    "        return 'Long Trip'"
   ]
  },
  {
   "cell_type": "code",
   "execution_count": 19,
   "id": "3816144b",
   "metadata": {},
   "outputs": [
    {
     "data": {
      "text/html": [
       "<div>\n",
       "<style scoped>\n",
       "    .dataframe tbody tr th:only-of-type {\n",
       "        vertical-align: middle;\n",
       "    }\n",
       "\n",
       "    .dataframe tbody tr th {\n",
       "        vertical-align: top;\n",
       "    }\n",
       "\n",
       "    .dataframe thead th {\n",
       "        text-align: right;\n",
       "    }\n",
       "</style>\n",
       "<table border=\"1\" class=\"dataframe\">\n",
       "  <thead>\n",
       "    <tr style=\"text-align: right;\">\n",
       "      <th></th>\n",
       "      <th>start_date</th>\n",
       "      <th>end_date</th>\n",
       "      <th>duration</th>\n",
       "      <th>distance</th>\n",
       "      <th>electricity_used</th>\n",
       "      <th>MPGe</th>\n",
       "      <th>mikWh</th>\n",
       "      <th>start_soc</th>\n",
       "      <th>end_soc</th>\n",
       "      <th>temp</th>\n",
       "      <th>start_range</th>\n",
       "      <th>end_range</th>\n",
       "      <th>distance_desc</th>\n",
       "    </tr>\n",
       "  </thead>\n",
       "  <tbody>\n",
       "    <tr>\n",
       "      <th>0</th>\n",
       "      <td>2022-06-25 20:18:33</td>\n",
       "      <td>2022-06-25 20:25:43</td>\n",
       "      <td>00:07:10</td>\n",
       "      <td>1.59</td>\n",
       "      <td>0.01</td>\n",
       "      <td>5374.05</td>\n",
       "      <td>159.000000</td>\n",
       "      <td>0.7608</td>\n",
       "      <td>0.7608</td>\n",
       "      <td>82.120000</td>\n",
       "      <td>7983.8352</td>\n",
       "      <td>7983.8352</td>\n",
       "      <td>Short Trip</td>\n",
       "    </tr>\n",
       "    <tr>\n",
       "      <th>1</th>\n",
       "      <td>2022-07-16 20:43:47</td>\n",
       "      <td>2022-07-16 20:48:01</td>\n",
       "      <td>00:04:14</td>\n",
       "      <td>0.79</td>\n",
       "      <td>0.02</td>\n",
       "      <td>1327.81</td>\n",
       "      <td>39.500000</td>\n",
       "      <td>0.8392</td>\n",
       "      <td>0.8392</td>\n",
       "      <td>78.800000</td>\n",
       "      <td>2187.7944</td>\n",
       "      <td>2187.7944</td>\n",
       "      <td>Short Trip</td>\n",
       "    </tr>\n",
       "    <tr>\n",
       "      <th>2</th>\n",
       "      <td>2022-07-26 16:16:48</td>\n",
       "      <td>2022-07-26 16:23:35</td>\n",
       "      <td>00:06:47</td>\n",
       "      <td>1.91</td>\n",
       "      <td>0.06</td>\n",
       "      <td>1072.65</td>\n",
       "      <td>31.833333</td>\n",
       "      <td>0.7098</td>\n",
       "      <td>0.7058</td>\n",
       "      <td>80.600000</td>\n",
       "      <td>1491.2898</td>\n",
       "      <td>1482.8858</td>\n",
       "      <td>Short Trip</td>\n",
       "    </tr>\n",
       "    <tr>\n",
       "      <th>3</th>\n",
       "      <td>2022-05-18 20:33:28</td>\n",
       "      <td>2022-05-18 20:39:32</td>\n",
       "      <td>00:06:04</td>\n",
       "      <td>1.81</td>\n",
       "      <td>0.06</td>\n",
       "      <td>1016.80</td>\n",
       "      <td>30.166667</td>\n",
       "      <td>0.3804</td>\n",
       "      <td>0.3764</td>\n",
       "      <td>61.855000</td>\n",
       "      <td>757.3764</td>\n",
       "      <td>749.4124</td>\n",
       "      <td>Short Trip</td>\n",
       "    </tr>\n",
       "    <tr>\n",
       "      <th>4</th>\n",
       "      <td>2022-11-03 16:38:58</td>\n",
       "      <td>2022-11-03 16:43:54</td>\n",
       "      <td>00:04:56</td>\n",
       "      <td>1.60</td>\n",
       "      <td>0.06</td>\n",
       "      <td>900.91</td>\n",
       "      <td>26.666667</td>\n",
       "      <td>0.6824</td>\n",
       "      <td>0.6784</td>\n",
       "      <td>65.730000</td>\n",
       "      <td>1201.0240</td>\n",
       "      <td>1193.9840</td>\n",
       "      <td>Short Trip</td>\n",
       "    </tr>\n",
       "    <tr>\n",
       "      <th>...</th>\n",
       "      <td>...</td>\n",
       "      <td>...</td>\n",
       "      <td>...</td>\n",
       "      <td>...</td>\n",
       "      <td>...</td>\n",
       "      <td>...</td>\n",
       "      <td>...</td>\n",
       "      <td>...</td>\n",
       "      <td>...</td>\n",
       "      <td>...</td>\n",
       "      <td>...</td>\n",
       "      <td>...</td>\n",
       "      <td>...</td>\n",
       "    </tr>\n",
       "    <tr>\n",
       "      <th>1161</th>\n",
       "      <td>2022-06-30 14:31:39</td>\n",
       "      <td>2022-06-30 14:32:00</td>\n",
       "      <td>00:00:21</td>\n",
       "      <td>0.01</td>\n",
       "      <td>0.00</td>\n",
       "      <td>0.00</td>\n",
       "      <td>0.000000</td>\n",
       "      <td>0.5882</td>\n",
       "      <td>0.5804</td>\n",
       "      <td>82.400000</td>\n",
       "      <td>0.0000</td>\n",
       "      <td>0.0000</td>\n",
       "      <td>Short Trip</td>\n",
       "    </tr>\n",
       "    <tr>\n",
       "      <th>1162</th>\n",
       "      <td>2022-07-03 08:20:48</td>\n",
       "      <td>2022-07-03 08:21:02</td>\n",
       "      <td>00:00:14</td>\n",
       "      <td>0.01</td>\n",
       "      <td>0.00</td>\n",
       "      <td>0.00</td>\n",
       "      <td>0.000000</td>\n",
       "      <td>0.6470</td>\n",
       "      <td>0.6470</td>\n",
       "      <td>66.200000</td>\n",
       "      <td>0.0000</td>\n",
       "      <td>0.0000</td>\n",
       "      <td>Short Trip</td>\n",
       "    </tr>\n",
       "    <tr>\n",
       "      <th>1168</th>\n",
       "      <td>2022-07-29 13:43:33</td>\n",
       "      <td>2022-07-29 13:43:53</td>\n",
       "      <td>00:00:20</td>\n",
       "      <td>0.01</td>\n",
       "      <td>0.00</td>\n",
       "      <td>0.00</td>\n",
       "      <td>0.000000</td>\n",
       "      <td>0.7568</td>\n",
       "      <td>0.7568</td>\n",
       "      <td>81.456667</td>\n",
       "      <td>0.0000</td>\n",
       "      <td>0.0000</td>\n",
       "      <td>Short Trip</td>\n",
       "    </tr>\n",
       "    <tr>\n",
       "      <th>1171</th>\n",
       "      <td>2022-08-15 12:30:25</td>\n",
       "      <td>2022-08-15 12:30:40</td>\n",
       "      <td>00:00:15</td>\n",
       "      <td>0.01</td>\n",
       "      <td>0.00</td>\n",
       "      <td>0.00</td>\n",
       "      <td>0.000000</td>\n",
       "      <td>0.6196</td>\n",
       "      <td>0.6196</td>\n",
       "      <td>83.545000</td>\n",
       "      <td>0.0000</td>\n",
       "      <td>0.0000</td>\n",
       "      <td>Short Trip</td>\n",
       "    </tr>\n",
       "    <tr>\n",
       "      <th>1182</th>\n",
       "      <td>2022-10-10 10:37:11</td>\n",
       "      <td>2022-10-10 10:37:19</td>\n",
       "      <td>00:00:08</td>\n",
       "      <td>0.01</td>\n",
       "      <td>0.00</td>\n",
       "      <td>0.00</td>\n",
       "      <td>0.000000</td>\n",
       "      <td>0.7568</td>\n",
       "      <td>0.7568</td>\n",
       "      <td>63.540000</td>\n",
       "      <td>0.0000</td>\n",
       "      <td>0.0000</td>\n",
       "      <td>Short Trip</td>\n",
       "    </tr>\n",
       "  </tbody>\n",
       "</table>\n",
       "<p>1092 rows × 13 columns</p>\n",
       "</div>"
      ],
      "text/plain": [
       "              start_date            end_date  duration  distance  \\\n",
       "0    2022-06-25 20:18:33 2022-06-25 20:25:43  00:07:10      1.59   \n",
       "1    2022-07-16 20:43:47 2022-07-16 20:48:01  00:04:14      0.79   \n",
       "2    2022-07-26 16:16:48 2022-07-26 16:23:35  00:06:47      1.91   \n",
       "3    2022-05-18 20:33:28 2022-05-18 20:39:32  00:06:04      1.81   \n",
       "4    2022-11-03 16:38:58 2022-11-03 16:43:54  00:04:56      1.60   \n",
       "...                  ...                 ...       ...       ...   \n",
       "1161 2022-06-30 14:31:39 2022-06-30 14:32:00  00:00:21      0.01   \n",
       "1162 2022-07-03 08:20:48 2022-07-03 08:21:02  00:00:14      0.01   \n",
       "1168 2022-07-29 13:43:33 2022-07-29 13:43:53  00:00:20      0.01   \n",
       "1171 2022-08-15 12:30:25 2022-08-15 12:30:40  00:00:15      0.01   \n",
       "1182 2022-10-10 10:37:11 2022-10-10 10:37:19  00:00:08      0.01   \n",
       "\n",
       "      electricity_used     MPGe       mikWh  start_soc  end_soc       temp  \\\n",
       "0                 0.01  5374.05  159.000000     0.7608   0.7608  82.120000   \n",
       "1                 0.02  1327.81   39.500000     0.8392   0.8392  78.800000   \n",
       "2                 0.06  1072.65   31.833333     0.7098   0.7058  80.600000   \n",
       "3                 0.06  1016.80   30.166667     0.3804   0.3764  61.855000   \n",
       "4                 0.06   900.91   26.666667     0.6824   0.6784  65.730000   \n",
       "...                ...      ...         ...        ...      ...        ...   \n",
       "1161              0.00     0.00    0.000000     0.5882   0.5804  82.400000   \n",
       "1162              0.00     0.00    0.000000     0.6470   0.6470  66.200000   \n",
       "1168              0.00     0.00    0.000000     0.7568   0.7568  81.456667   \n",
       "1171              0.00     0.00    0.000000     0.6196   0.6196  83.545000   \n",
       "1182              0.00     0.00    0.000000     0.7568   0.7568  63.540000   \n",
       "\n",
       "      start_range  end_range distance_desc  \n",
       "0       7983.8352  7983.8352    Short Trip  \n",
       "1       2187.7944  2187.7944    Short Trip  \n",
       "2       1491.2898  1482.8858    Short Trip  \n",
       "3        757.3764   749.4124    Short Trip  \n",
       "4       1201.0240  1193.9840    Short Trip  \n",
       "...           ...        ...           ...  \n",
       "1161       0.0000     0.0000    Short Trip  \n",
       "1162       0.0000     0.0000    Short Trip  \n",
       "1168       0.0000     0.0000    Short Trip  \n",
       "1171       0.0000     0.0000    Short Trip  \n",
       "1182       0.0000     0.0000    Short Trip  \n",
       "\n",
       "[1092 rows x 13 columns]"
      ]
     },
     "execution_count": 19,
     "metadata": {},
     "output_type": "execute_result"
    }
   ],
   "source": [
    "#appending Column to Dataframe describing if the trip was short, medium, or long\n",
    "trips['distance_desc'] = trips.apply(lambda x: distance_describer(x), axis = 1)\n",
    "trips"
   ]
  },
  {
   "cell_type": "code",
   "execution_count": 20,
   "id": "90fc94d1",
   "metadata": {},
   "outputs": [
    {
     "data": {
      "image/png": "[encoded data removed]",
      "text/plain": [
       "<Figure size 635x500 with 1 Axes>"
      ]
     },
     "metadata": {},
     "output_type": "display_data"
    }
   ],
   "source": [
    "sns.lmplot(x='distance', y='mikWh', data=trips[trips.mikWh<15], hue='distance_desc',\\\n",
    "           palette = ['green','blue', 'red'], scatter_kws={\"s\": 20, \"alpha\":.4})\n",
    "plt.title('Distance vs. mi/kWh');"
   ]
  },
  {
   "cell_type": "code",
   "execution_count": null,
   "id": "f9c6fa15",
   "metadata": {},
   "outputs": [],
   "source": []
  },
  {
   "cell_type": "code",
   "execution_count": 21,
   "id": "0a67ad43",
   "metadata": {},
   "outputs": [
    {
     "data": {
      "image/png": "[encoded data removed]",
      "text/plain": [
       "<Figure size 635x500 with 1 Axes>"
      ]
     },
     "metadata": {},
     "output_type": "display_data"
    }
   ],
   "source": [
    "g = sns.lmplot(x='distance', y='mikWh', data=trips[trips.mikWh<15],\\\n",
    "               hue='distance_desc', palette = ['green','blue', 'red'], scatter_kws={\"s\": 20, \"alpha\":.4})\n",
    "g.set(xscale=\"log\") \n",
    "plt.title('Log of Distance vs. mi/kWh')\n",
    "plt.grid(which='major');"
   ]
  },
  {
   "cell_type": "markdown",
   "id": "59fc4b54",
   "metadata": {},
   "source": [
    "## Does time of day have an Effect on Effeciency?"
   ]
  },
  {
   "cell_type": "code",
   "execution_count": 22,
   "id": "7d48857a",
   "metadata": {},
   "outputs": [],
   "source": [
    "def time_describe(x):\n",
    "    if (x >= 0) and (x < 6):\n",
    "        return 'wee hours'\n",
    "    elif (x >= 6) and (x < 12):\n",
    "        return 'Morning'\n",
    "    elif (x >= 12) and (x <= 18):\n",
    "        return'Afternoon'\n",
    "    elif (x >= 16) and (x < 24) :\n",
    "        return 'Night'"
   ]
  },
  {
   "cell_type": "code",
   "execution_count": 23,
   "id": "e89d234a",
   "metadata": {},
   "outputs": [
    {
     "data": {
      "text/html": [
       "<div>\n",
       "<style scoped>\n",
       "    .dataframe tbody tr th:only-of-type {\n",
       "        vertical-align: middle;\n",
       "    }\n",
       "\n",
       "    .dataframe tbody tr th {\n",
       "        vertical-align: top;\n",
       "    }\n",
       "\n",
       "    .dataframe thead th {\n",
       "        text-align: right;\n",
       "    }\n",
       "</style>\n",
       "<table border=\"1\" class=\"dataframe\">\n",
       "  <thead>\n",
       "    <tr style=\"text-align: right;\">\n",
       "      <th></th>\n",
       "      <th>start_date</th>\n",
       "      <th>end_date</th>\n",
       "      <th>duration</th>\n",
       "      <th>distance</th>\n",
       "      <th>electricity_used</th>\n",
       "      <th>MPGe</th>\n",
       "      <th>mikWh</th>\n",
       "      <th>start_soc</th>\n",
       "      <th>end_soc</th>\n",
       "      <th>temp</th>\n",
       "      <th>start_range</th>\n",
       "      <th>end_range</th>\n",
       "      <th>distance_desc</th>\n",
       "      <th>time_desc</th>\n",
       "    </tr>\n",
       "  </thead>\n",
       "  <tbody>\n",
       "    <tr>\n",
       "      <th>0</th>\n",
       "      <td>2022-06-25 20:18:33</td>\n",
       "      <td>2022-06-25 20:25:43</td>\n",
       "      <td>00:07:10</td>\n",
       "      <td>1.59</td>\n",
       "      <td>0.01</td>\n",
       "      <td>5374.05</td>\n",
       "      <td>159.000000</td>\n",
       "      <td>0.7608</td>\n",
       "      <td>0.7608</td>\n",
       "      <td>82.120000</td>\n",
       "      <td>7983.8352</td>\n",
       "      <td>7983.8352</td>\n",
       "      <td>Short Trip</td>\n",
       "      <td>Night</td>\n",
       "    </tr>\n",
       "    <tr>\n",
       "      <th>1</th>\n",
       "      <td>2022-07-16 20:43:47</td>\n",
       "      <td>2022-07-16 20:48:01</td>\n",
       "      <td>00:04:14</td>\n",
       "      <td>0.79</td>\n",
       "      <td>0.02</td>\n",
       "      <td>1327.81</td>\n",
       "      <td>39.500000</td>\n",
       "      <td>0.8392</td>\n",
       "      <td>0.8392</td>\n",
       "      <td>78.800000</td>\n",
       "      <td>2187.7944</td>\n",
       "      <td>2187.7944</td>\n",
       "      <td>Short Trip</td>\n",
       "      <td>Night</td>\n",
       "    </tr>\n",
       "    <tr>\n",
       "      <th>2</th>\n",
       "      <td>2022-07-26 16:16:48</td>\n",
       "      <td>2022-07-26 16:23:35</td>\n",
       "      <td>00:06:47</td>\n",
       "      <td>1.91</td>\n",
       "      <td>0.06</td>\n",
       "      <td>1072.65</td>\n",
       "      <td>31.833333</td>\n",
       "      <td>0.7098</td>\n",
       "      <td>0.7058</td>\n",
       "      <td>80.600000</td>\n",
       "      <td>1491.2898</td>\n",
       "      <td>1482.8858</td>\n",
       "      <td>Short Trip</td>\n",
       "      <td>Afternoon</td>\n",
       "    </tr>\n",
       "    <tr>\n",
       "      <th>3</th>\n",
       "      <td>2022-05-18 20:33:28</td>\n",
       "      <td>2022-05-18 20:39:32</td>\n",
       "      <td>00:06:04</td>\n",
       "      <td>1.81</td>\n",
       "      <td>0.06</td>\n",
       "      <td>1016.80</td>\n",
       "      <td>30.166667</td>\n",
       "      <td>0.3804</td>\n",
       "      <td>0.3764</td>\n",
       "      <td>61.855000</td>\n",
       "      <td>757.3764</td>\n",
       "      <td>749.4124</td>\n",
       "      <td>Short Trip</td>\n",
       "      <td>Night</td>\n",
       "    </tr>\n",
       "    <tr>\n",
       "      <th>4</th>\n",
       "      <td>2022-11-03 16:38:58</td>\n",
       "      <td>2022-11-03 16:43:54</td>\n",
       "      <td>00:04:56</td>\n",
       "      <td>1.60</td>\n",
       "      <td>0.06</td>\n",
       "      <td>900.91</td>\n",
       "      <td>26.666667</td>\n",
       "      <td>0.6824</td>\n",
       "      <td>0.6784</td>\n",
       "      <td>65.730000</td>\n",
       "      <td>1201.0240</td>\n",
       "      <td>1193.9840</td>\n",
       "      <td>Short Trip</td>\n",
       "      <td>Afternoon</td>\n",
       "    </tr>\n",
       "    <tr>\n",
       "      <th>...</th>\n",
       "      <td>...</td>\n",
       "      <td>...</td>\n",
       "      <td>...</td>\n",
       "      <td>...</td>\n",
       "      <td>...</td>\n",
       "      <td>...</td>\n",
       "      <td>...</td>\n",
       "      <td>...</td>\n",
       "      <td>...</td>\n",
       "      <td>...</td>\n",
       "      <td>...</td>\n",
       "      <td>...</td>\n",
       "      <td>...</td>\n",
       "      <td>...</td>\n",
       "    </tr>\n",
       "    <tr>\n",
       "      <th>1161</th>\n",
       "      <td>2022-06-30 14:31:39</td>\n",
       "      <td>2022-06-30 14:32:00</td>\n",
       "      <td>00:00:21</td>\n",
       "      <td>0.01</td>\n",
       "      <td>0.00</td>\n",
       "      <td>0.00</td>\n",
       "      <td>0.000000</td>\n",
       "      <td>0.5882</td>\n",
       "      <td>0.5804</td>\n",
       "      <td>82.400000</td>\n",
       "      <td>0.0000</td>\n",
       "      <td>0.0000</td>\n",
       "      <td>Short Trip</td>\n",
       "      <td>Afternoon</td>\n",
       "    </tr>\n",
       "    <tr>\n",
       "      <th>1162</th>\n",
       "      <td>2022-07-03 08:20:48</td>\n",
       "      <td>2022-07-03 08:21:02</td>\n",
       "      <td>00:00:14</td>\n",
       "      <td>0.01</td>\n",
       "      <td>0.00</td>\n",
       "      <td>0.00</td>\n",
       "      <td>0.000000</td>\n",
       "      <td>0.6470</td>\n",
       "      <td>0.6470</td>\n",
       "      <td>66.200000</td>\n",
       "      <td>0.0000</td>\n",
       "      <td>0.0000</td>\n",
       "      <td>Short Trip</td>\n",
       "      <td>Morning</td>\n",
       "    </tr>\n",
       "    <tr>\n",
       "      <th>1168</th>\n",
       "      <td>2022-07-29 13:43:33</td>\n",
       "      <td>2022-07-29 13:43:53</td>\n",
       "      <td>00:00:20</td>\n",
       "      <td>0.01</td>\n",
       "      <td>0.00</td>\n",
       "      <td>0.00</td>\n",
       "      <td>0.000000</td>\n",
       "      <td>0.7568</td>\n",
       "      <td>0.7568</td>\n",
       "      <td>81.456667</td>\n",
       "      <td>0.0000</td>\n",
       "      <td>0.0000</td>\n",
       "      <td>Short Trip</td>\n",
       "      <td>Afternoon</td>\n",
       "    </tr>\n",
       "    <tr>\n",
       "      <th>1171</th>\n",
       "      <td>2022-08-15 12:30:25</td>\n",
       "      <td>2022-08-15 12:30:40</td>\n",
       "      <td>00:00:15</td>\n",
       "      <td>0.01</td>\n",
       "      <td>0.00</td>\n",
       "      <td>0.00</td>\n",
       "      <td>0.000000</td>\n",
       "      <td>0.6196</td>\n",
       "      <td>0.6196</td>\n",
       "      <td>83.545000</td>\n",
       "      <td>0.0000</td>\n",
       "      <td>0.0000</td>\n",
       "      <td>Short Trip</td>\n",
       "      <td>Afternoon</td>\n",
       "    </tr>\n",
       "    <tr>\n",
       "      <th>1182</th>\n",
       "      <td>2022-10-10 10:37:11</td>\n",
       "      <td>2022-10-10 10:37:19</td>\n",
       "      <td>00:00:08</td>\n",
       "      <td>0.01</td>\n",
       "      <td>0.00</td>\n",
       "      <td>0.00</td>\n",
       "      <td>0.000000</td>\n",
       "      <td>0.7568</td>\n",
       "      <td>0.7568</td>\n",
       "      <td>63.540000</td>\n",
       "      <td>0.0000</td>\n",
       "      <td>0.0000</td>\n",
       "      <td>Short Trip</td>\n",
       "      <td>Morning</td>\n",
       "    </tr>\n",
       "  </tbody>\n",
       "</table>\n",
       "<p>1092 rows × 14 columns</p>\n",
       "</div>"
      ],
      "text/plain": [
       "              start_date            end_date  duration  distance  \\\n",
       "0    2022-06-25 20:18:33 2022-06-25 20:25:43  00:07:10      1.59   \n",
       "1    2022-07-16 20:43:47 2022-07-16 20:48:01  00:04:14      0.79   \n",
       "2    2022-07-26 16:16:48 2022-07-26 16:23:35  00:06:47      1.91   \n",
       "3    2022-05-18 20:33:28 2022-05-18 20:39:32  00:06:04      1.81   \n",
       "4    2022-11-03 16:38:58 2022-11-03 16:43:54  00:04:56      1.60   \n",
       "...                  ...                 ...       ...       ...   \n",
       "1161 2022-06-30 14:31:39 2022-06-30 14:32:00  00:00:21      0.01   \n",
       "1162 2022-07-03 08:20:48 2022-07-03 08:21:02  00:00:14      0.01   \n",
       "1168 2022-07-29 13:43:33 2022-07-29 13:43:53  00:00:20      0.01   \n",
       "1171 2022-08-15 12:30:25 2022-08-15 12:30:40  00:00:15      0.01   \n",
       "1182 2022-10-10 10:37:11 2022-10-10 10:37:19  00:00:08      0.01   \n",
       "\n",
       "      electricity_used     MPGe       mikWh  start_soc  end_soc       temp  \\\n",
       "0                 0.01  5374.05  159.000000     0.7608   0.7608  82.120000   \n",
       "1                 0.02  1327.81   39.500000     0.8392   0.8392  78.800000   \n",
       "2                 0.06  1072.65   31.833333     0.7098   0.7058  80.600000   \n",
       "3                 0.06  1016.80   30.166667     0.3804   0.3764  61.855000   \n",
       "4                 0.06   900.91   26.666667     0.6824   0.6784  65.730000   \n",
       "...                ...      ...         ...        ...      ...        ...   \n",
       "1161              0.00     0.00    0.000000     0.5882   0.5804  82.400000   \n",
       "1162              0.00     0.00    0.000000     0.6470   0.6470  66.200000   \n",
       "1168              0.00     0.00    0.000000     0.7568   0.7568  81.456667   \n",
       "1171              0.00     0.00    0.000000     0.6196   0.6196  83.545000   \n",
       "1182              0.00     0.00    0.000000     0.7568   0.7568  63.540000   \n",
       "\n",
       "      start_range  end_range distance_desc  time_desc  \n",
       "0       7983.8352  7983.8352    Short Trip      Night  \n",
       "1       2187.7944  2187.7944    Short Trip      Night  \n",
       "2       1491.2898  1482.8858    Short Trip  Afternoon  \n",
       "3        757.3764   749.4124    Short Trip      Night  \n",
       "4       1201.0240  1193.9840    Short Trip  Afternoon  \n",
       "...           ...        ...           ...        ...  \n",
       "1161       0.0000     0.0000    Short Trip  Afternoon  \n",
       "1162       0.0000     0.0000    Short Trip    Morning  \n",
       "1168       0.0000     0.0000    Short Trip  Afternoon  \n",
       "1171       0.0000     0.0000    Short Trip  Afternoon  \n",
       "1182       0.0000     0.0000    Short Trip    Morning  \n",
       "\n",
       "[1092 rows x 14 columns]"
      ]
     },
     "execution_count": 23,
     "metadata": {},
     "output_type": "execute_result"
    }
   ],
   "source": [
    "trips['time_desc'] = trips.start_date.dt.hour.apply(time_describe)\n",
    "trips"
   ]
  },
  {
   "cell_type": "code",
   "execution_count": 24,
   "id": "52ed0efa",
   "metadata": {},
   "outputs": [
    {
     "data": {
      "text/plain": [
       "time_desc\n",
       "Afternoon    4.558081\n",
       "Morning      4.031660\n",
       "Night        5.319164\n",
       "wee hours    3.465224\n",
       "Name: mikWh, dtype: float64"
      ]
     },
     "execution_count": 24,
     "metadata": {},
     "output_type": "execute_result"
    }
   ],
   "source": [
    "time_group = trips.groupby('time_desc')\n",
    "time_group.mikWh.mean()"
   ]
  },
  {
   "cell_type": "code",
   "execution_count": 25,
   "id": "d04f6b50",
   "metadata": {},
   "outputs": [
    {
     "data": {
      "image/png": "[encoded data removed]",
      "text/plain": [
       "<Figure size 1200x600 with 1 Axes>"
      ]
     },
     "metadata": {},
     "output_type": "display_data"
    }
   ],
   "source": [
    "# fig, ax = plt.subplots()\n",
    "\n",
    "y = trips.mikWh\n",
    "x = trips.time_desc\n",
    "\n",
    "\n",
    "sns.boxplot(x=x, y=y, data=trips, showfliers = False);"
   ]
  },
  {
   "cell_type": "markdown",
   "id": "e89b256d",
   "metadata": {},
   "source": [
    "# Column Analysis"
   ]
  },
  {
   "cell_type": "markdown",
   "id": "178f710f",
   "metadata": {},
   "source": [
    "## Skewness and Kurtosis\n",
    "\n",
    "<img src=\"images/skewness.png\" width=\"500\" align = \"left\"/>"
   ]
  },
  {
   "cell_type": "markdown",
   "id": "6104c1e8",
   "metadata": {},
   "source": [
    "<img src=\"images/kurtosis.jpg\" width=\"400\" align = \"left\"/>"
   ]
  },
  {
   "cell_type": "code",
   "execution_count": 26,
   "id": "8370c864",
   "metadata": {},
   "outputs": [
    {
     "name": "stdout",
     "output_type": "stream",
     "text": [
      "Skewness: -0.3164235937086513\n",
      "Kurtosis: -0.7083586398754513\n"
     ]
    }
   ],
   "source": [
    "# Skewness: asymmetry from the norm\n",
    "print(f\"Skewness: {trips[r'temp'].skew()}\")\n",
    "print(f\"Kurtosis: {trips[r'temp'].kurt()}\")"
   ]
  },
  {
   "cell_type": "code",
   "execution_count": null,
   "id": "aab352a1",
   "metadata": {},
   "outputs": [],
   "source": [
    "trips_facet = trips.iloc[:,3:12]\n",
    "\n",
    "f, axes = plt.subplots(3, 3, figsize=(10, 10), sharex=False)\n",
    "sns.distplot(trips_facet.iloc[:,0], ax=axes[0,0])\n",
    "sns.distplot(trips_facet.iloc[:,1], ax=axes[0,1])\n",
    "sns.distplot(trips_facet.iloc[:,2], ax=axes[0,2])\n",
    "sns.distplot(trips_facet.iloc[:,3], ax=axes[1,0])\n",
    "sns.distplot(trips_facet.iloc[:,4], ax=axes[1,1])\n",
    "sns.distplot(trips_facet.iloc[:,5], ax=axes[1,2])\n",
    "sns.distplot(trips_facet.iloc[:,6], ax=axes[2,0])\n",
    "sns.distplot(trips_facet.iloc[:,7], ax=axes[2,1])\n",
    "sns.distplot(trips_facet.iloc[:,8], ax=axes[2,2])\n",
    "\n",
    "for i, ax in enumerate(axes.reshape(-1)):\n",
    "    ax.text(x=0.97, y=0.97, transform=ax.transAxes, s=\"Skewness: %f\" % trips_facet.iloc[:,i].skew(),\\\n",
    "        fontweight='demibold', fontsize=7, verticalalignment='top', horizontalalignment='right',\\\n",
    "        backgroundcolor='white', color='xkcd:poo brown')\n",
    "    ax.text(x=0.97, y=0.91, transform=ax.transAxes, s=\"Kurtosis: %f\" % trips_facet.iloc[:,i].kurt(),\\\n",
    "        fontweight='demibold', fontsize=7, verticalalignment='top', horizontalalignment='right',\\\n",
    "        backgroundcolor='white', color='xkcd:dried blood')\n",
    "    ax.text(x=0.97, y=0.85, transform=ax.transAxes, s=\"Mean: %f\" % trips_facet.iloc[:,i].mean(),\\\n",
    "        fontweight='demibold', fontsize=7, verticalalignment='top', horizontalalignment='right',\\\n",
    "        backgroundcolor='white', color='teal')\n",
    "plt.tight_layout();\n",
    "\n"
   ]
  },
  {
   "cell_type": "markdown",
   "id": "f09eb4cc",
   "metadata": {},
   "source": [
    "-------------------------------------\n",
    "\n",
    "The data has a total of ***1092*** observations."
   ]
  },
  {
   "cell_type": "markdown",
   "id": "55831417",
   "metadata": {},
   "source": [
    "This data takes place in the <u>**temp range 23-100&deg;F**</u>"
   ]
  },
  {
   "cell_type": "code",
   "execution_count": null,
   "id": "501c092a",
   "metadata": {},
   "outputs": [],
   "source": [
    "print(trips.temp.min())\n",
    "print(trips.temp.max())"
   ]
  },
  {
   "cell_type": "markdown",
   "id": "5fe21a58",
   "metadata": {},
   "source": [
    "## distance \n",
    "Avg trip <u>**distance**</u> is 15.9 mi"
   ]
  },
  {
   "cell_type": "code",
   "execution_count": null,
   "id": "131a9906",
   "metadata": {
    "scrolled": true
   },
   "outputs": [],
   "source": [
    "trips.distance.mean()"
   ]
  },
  {
   "cell_type": "code",
   "execution_count": null,
   "id": "49c0c912",
   "metadata": {
    "scrolled": false
   },
   "outputs": [],
   "source": [
    "# distance\n",
    "\n",
    "fig, ax = plt.subplots()\n",
    "x = trips['distance']\n",
    "\n",
    "plt.hist(x, bins = 20)\n",
    "ax.xaxis.set_major_locator(ticker.LinearLocator(numticks=23))\n",
    "ax.text(x=0.97, y=0.97, transform=ax.transAxes, s=\"Skewness: %f\" % x.skew(),\\\n",
    "    fontweight='demibold', fontsize=7, verticalalignment='top', horizontalalignment='right',\\\n",
    "    backgroundcolor='white', color='xkcd:poo brown')\n",
    "ax.text(x=0.97, y=0.91, transform=ax.transAxes, s=\"Kurtosis: %f\" % x.kurt(),\\\n",
    "    fontweight='demibold', fontsize=7, verticalalignment='top', horizontalalignment='right',\\\n",
    "    backgroundcolor='white', color='xkcd:dried blood')\n",
    "ax.text(x=0.97, y=0.85, transform=ax.transAxes, s=\"Mean: %f\" % x.mean(),\\\n",
    "    fontweight='demibold', fontsize=7, verticalalignment='top', horizontalalignment='right',\\\n",
    "    backgroundcolor='white', color='teal')\n",
    "plt.tight_layout(); \n",
    "\n",
    "# fix x axis tickers BIN CUTS it's called. "
   ]
  },
  {
   "cell_type": "markdown",
   "id": "79edfa7d",
   "metadata": {},
   "source": [
    "### Short trips < 3.3 mi\n",
    "The distance series is very skewed  to the left (3.19) toward shorter trips. \n",
    "\n",
    "Because the data is skewed so much that way, I want to take a look at these shorter trips and see if they are properly distributed and verify the quality of the data.  "
   ]
  },
  {
   "cell_type": "code",
   "execution_count": null,
   "id": "3d5c4d93",
   "metadata": {},
   "outputs": [],
   "source": [
    "fig, ax = plt.subplots()\n",
    "x = short_trips.distance\n",
    "sns.distplot(x)\n",
    "\n",
    "\n",
    "ax.text(x=0.97, y=0.97, transform=ax.transAxes, s=\"Skewness: %f\" % x.skew(),\\\n",
    "    fontweight='demibold', fontsize=7, verticalalignment='top', horizontalalignment='right',\\\n",
    "    backgroundcolor='white', color='xkcd:poo brown')\n",
    "ax.text(x=0.97, y=0.91, transform=ax.transAxes, s=\"Kurtosis: %f\" % x.kurt(),\\\n",
    "    fontweight='demibold', fontsize=7, verticalalignment='top', horizontalalignment='right',\\\n",
    "    backgroundcolor='white', color='xkcd:dried blood')\n",
    "ax.text(x=0.97, y=0.85, transform=ax.transAxes, s=\"Mean: %f\" % x.mean(),\\\n",
    "    fontweight='demibold', fontsize=7, verticalalignment='top', horizontalalignment='right',\\\n",
    "    backgroundcolor='white', color='teal')\n",
    "plt.tight_layout();\n"
   ]
  },
  {
   "cell_type": "markdown",
   "id": "403edbea",
   "metadata": {},
   "source": [
    "## electricity_used"
   ]
  },
  {
   "cell_type": "markdown",
   "id": "7bc19b1e",
   "metadata": {},
   "source": [
    "An average trip uses <u>**3.89 kWh of energy**</u>.\n",
    "\n",
    "This represents <u>**5.9%**</u> of the 66kWh Battery's capacity. \n",
    "\n",
    "This means if the battery is charged to 100%, on average a Chevy Bolt owner could get <u>**16 trips out of single charge.**</u> \n",
    "\n",
    "However, This is unrealistic because you shouldn't start a trip with less than 10%. In my dataset I started a trip with less than 10% <u>**2 times**</u> and ended a trip with less than 10% <u>**7 times**</u>. You also shouldn't really charge past 80% of the capcity. I did this <u>**305 times**</u>. ...Whoops.\n",
    "\n",
    "So following all the best practices you are looking at an AVG of 11 trips of 15.5mi(3.88 kWh) each per responsible Charge. "
   ]
  },
  {
   "cell_type": "code",
   "execution_count": null,
   "id": "81c88c74",
   "metadata": {},
   "outputs": [],
   "source": [
    "print(trips.electricity_used.mean()/66)\n",
    "print(66//trips.electricity_used.mean())\n",
    "print((66*.7)//trips.electricity_used.mean())\n",
    "print(trips.loc[trips['start_soc']<.10,'distance'].count()) # amount of times I started a trip with less than 10%\n",
    "print(trips.loc[trips['end_soc']<.10,'distance'].count()) # amount of times I ended a trip with less than 10%\n",
    "print(trips.loc[trips['start_soc']>.80,'distance'].count()) # amount of times I started a trip with more than 80%"
   ]
  },
  {
   "cell_type": "markdown",
   "id": "70dcb97f",
   "metadata": {},
   "source": [
    "11 trips, averaging 15 miles each sounds suffecient to me, but there are consumers that feel this isn't enough. And rightly fully so, considering that the US Federal Highway Administration shows that the average daily miles driven is ***36.9 miles*** * meaning that you could expect to get roughly two days out of the Chevy Bolt before you need to chargeup.\n",
    "\n",
    "*https://www.fhwa.dot.gov/ohim/onh00/bar8.htm\n",
    "\n"
   ]
  },
  {
   "cell_type": "code",
   "execution_count": null,
   "id": "58f3008f",
   "metadata": {},
   "outputs": [],
   "source": [
    "13476/365\n",
    "(66*.7)//36.9"
   ]
  },
  {
   "cell_type": "markdown",
   "id": "72f611b3",
   "metadata": {},
   "source": [
    "However, the interesting thing that most consumer's do not understand, is that the biggest benefit to an electric vehicle is that you have a \"Gas Station\" in your own home. Every day you come home, you can plug in your vehicle and it's back to full by the next day.\n",
    "\n",
    "This completely changes way drivers think about the chore of \"re-fueling\".I RARELY have to go out of my way to refuel this past year. \n",
    "\n",
    "Most drivers visit the gas station 2-4 amount of times a month.\n",
    "\n",
    "I have visited a charging station 12 times this year to charge out of neccesity outside of my garage.  "
   ]
  },
  {
   "cell_type": "markdown",
   "id": "9ec08d57",
   "metadata": {},
   "source": [
    "Average starting <u>**State of Charge(SOC):**</u> is ***70%***, meaning I have followed good charging practices for the health of the battery and that the data is more realistic/representative towards reccomended best practices, and not idealistic numbers. "
   ]
  },
  {
   "cell_type": "code",
   "execution_count": null,
   "id": "5138cb12",
   "metadata": {
    "scrolled": true
   },
   "outputs": [],
   "source": [
    "trips.start_soc.mean()"
   ]
  },
  {
   "cell_type": "markdown",
   "id": "b82286a2",
   "metadata": {},
   "source": [
    "****Calculating MPGe****\n",
    "\n",
    "In order to make any comparisions to gas vehicles we need some sort of conversion. The USA Environmental Protection Agency (EPA) has come up with a converstion to compare MPG to mi/kWh. It is called MPGe or \"Miles per gallon equivalent\"\n",
    "\n",
    "Without getting too much in the weeds, the basis behind the conversion is that both burning gasoline and using electricity generates heat. so MPGe is essentially the heat equivalent of MPG. \n",
    "\n",
    "1 gallon of gas = 115,000 BTUs = 33.7kWh"
   ]
  },
  {
   "cell_type": "markdown",
   "id": "732947dc",
   "metadata": {},
   "source": [
    "<u> The avg MPGe for my trip data is 149.5 </u>"
   ]
  },
  {
   "cell_type": "code",
   "execution_count": null,
   "id": "2f67c369",
   "metadata": {},
   "outputs": [],
   "source": [
    "trips.MPGe.mean()"
   ]
  },
  {
   "cell_type": "markdown",
   "id": "5fb46c8d",
   "metadata": {},
   "source": [
    "and an avg <u>trip effeciency: 4.49 mi/kWh</u>"
   ]
  },
  {
   "cell_type": "code",
   "execution_count": null,
   "id": "6c65bbdc",
   "metadata": {},
   "outputs": [],
   "source": [
    "trips.mikWh.mean()"
   ]
  },
  {
   "cell_type": "markdown",
   "id": "787ec3d2",
   "metadata": {},
   "source": [
    "# What do I do with Extreme mikWh values?\n",
    "it's messing up the visuals and data?\n"
   ]
  },
  {
   "cell_type": "code",
   "execution_count": null,
   "id": "310898ac",
   "metadata": {},
   "outputs": [],
   "source": [
    "trips.sort_values('MPGe', ascending = False)"
   ]
  },
  {
   "cell_type": "code",
   "execution_count": null,
   "id": "af207191",
   "metadata": {},
   "outputs": [],
   "source": []
  },
  {
   "cell_type": "code",
   "execution_count": null,
   "id": "bbca6d6c",
   "metadata": {},
   "outputs": [],
   "source": [
    "# electricity_used\n",
    "x = trips['start_date']\n",
    "y = trips['electricity_used']\n",
    "plt.hist(y, bins = 20);\n"
   ]
  },
  {
   "cell_type": "code",
   "execution_count": null,
   "id": "7f358c8a",
   "metadata": {},
   "outputs": [],
   "source": [
    "# MPGe\n",
    "y = trips['MPGe']\n",
    "\n",
    "plt.hist(y,bins=10);"
   ]
  },
  {
   "cell_type": "code",
   "execution_count": null,
   "id": "3af39cb7",
   "metadata": {},
   "outputs": [],
   "source": [
    "# mikWh\n",
    "y = trips['mikWh']\n",
    "plt.hist(y,bins=40);"
   ]
  },
  {
   "cell_type": "code",
   "execution_count": null,
   "id": "50a0740e",
   "metadata": {},
   "outputs": [],
   "source": [
    "# start_soc\n",
    "y = trips['start_soc']\n",
    "plt.hist(y,bins=25);"
   ]
  },
  {
   "cell_type": "code",
   "execution_count": null,
   "id": "24b6e255",
   "metadata": {},
   "outputs": [],
   "source": [
    "# end_soc\n",
    "y = trips['end_soc']\n",
    "plt.hist(y,bins=25);"
   ]
  },
  {
   "cell_type": "code",
   "execution_count": null,
   "id": "e39eb97b",
   "metadata": {},
   "outputs": [],
   "source": [
    "my_fmt = mdates.DateFormatter('%m')\n",
    "\n",
    "def fahr_format(x, pos):\n",
    "    \"\"\"The two arguments are the value and tick position.\"\"\"\n",
    "    return '{:3.0f}°F'.format(x)\n",
    "\n",
    "\n",
    "x = trips['start_date']\n",
    "y = trips['temp']\n",
    "\n",
    "fig, ax = plt.subplots()\n",
    "ax.scatter(x,y,c = trips.loc[:,'temp'], cmap = 'coolwarm')\n",
    "\n",
    "ax.set_title('Climate Range')\n",
    "\n",
    "ax.xaxis.set_major_formatter(\n",
    "    mdates.ConciseDateFormatter(ax.xaxis.get_major_locator()))\n",
    "ax.yaxis.set_major_formatter(fahr_format)\n",
    "# ax.ticklabel_format(axis='y',) FormatStrFormatter('%°f')\n",
    "\n",
    "# ax.set_yticklabels(['{:,\\d}'.format(x) for x in ax])\n"
   ]
  },
  {
   "cell_type": "code",
   "execution_count": null,
   "id": "3cad0bc0",
   "metadata": {},
   "outputs": [],
   "source": [
    "# temp\n",
    "# my_fmt = mdates.DateFormatter('%d')\n",
    "# months = mdates.MonthLocator()  # every month\n",
    "\n",
    "x = trips['start_date']\n",
    "y = trips['temp']\n",
    "plt.scatter(x,y, c = trips.loc[:,'temp'], cmap = 'coolwarm')\n",
    "plt.title(\"Driving Conditions\")\n",
    "\n",
    "# ax.xaxis.set_major_formatter(my_fmt);"
   ]
  },
  {
   "cell_type": "code",
   "execution_count": null,
   "id": "3706b42a",
   "metadata": {},
   "outputs": [],
   "source": [
    "# start_range\n",
    "y = trips['start_range']\n",
    "plt.hist(y,bins=20);"
   ]
  },
  {
   "cell_type": "code",
   "execution_count": null,
   "id": "b7927c4a",
   "metadata": {},
   "outputs": [],
   "source": [
    "# end_range\n",
    "y = trips['end_range']\n",
    "plt.hist(y,bins=20);"
   ]
  },
  {
   "cell_type": "code",
   "execution_count": null,
   "id": "3cc83c09",
   "metadata": {},
   "outputs": [],
   "source": [
    "trips[trips[r'mikWh']<15]"
   ]
  },
  {
   "cell_type": "code",
   "execution_count": null,
   "id": "d679ae5b",
   "metadata": {},
   "outputs": [],
   "source": [
    "# temp = trips[trips[r'mi/kWh']<15]\n",
    "# x = temp[r'mi/kWh']\n",
    "# y = temp[r'Ambient Temperature (F)']\n",
    "# a, b = np.polyfit(x, y, 1)"
   ]
  },
  {
   "cell_type": "code",
   "execution_count": null,
   "id": "e78c7c21",
   "metadata": {},
   "outputs": [],
   "source": [
    "sns.lmplot(y = r'mikWh', x = r'temp', data = trips)\n"
   ]
  },
  {
   "cell_type": "code",
   "execution_count": null,
   "id": "ca914942",
   "metadata": {},
   "outputs": [],
   "source": [
    "temp = trips[trips[r'mikWh']<10]\n",
    "temp.plot(r'mikWh', r'temp', kind = 'scatter',\\\n",
    "                                c = trips.loc[trips[r'mikWh']<10,:][r'temp'],\\\n",
    "                                colormap = 'coolwarm',  alpha = 1, sharex=False)\n",
    "\n",
    "\n",
    "sns.lmplot(x = r'mikWh', y = r'temp', data = temp)\n",
    "sns.jointplot(x = r'mikWh', y = r'temp', data = temp)\n",
    "# temp.plot(x, a*x+b) \n",
    "\n",
    "\n"
   ]
  },
  {
   "cell_type": "code",
   "execution_count": null,
   "id": "0129955b",
   "metadata": {},
   "outputs": [],
   "source": [
    "# import numpy as np\n",
    "# import matplotlib.pyplot as plt\n",
    "\n",
    "# #define data\n",
    "# x = np.array([1, 2, 3, 4, 5, 6, 7, 8])\n",
    "# y = np.array([2, 5, 6, 7, 9, 12, 16, 19])\n",
    "\n",
    "# #find line of best fit\n",
    "# a, b = np.polyfit(x, y, 1)\n",
    "\n",
    "# #add points to plot\n",
    "# plt.scatter(x, y, color='purple')\n",
    "\n",
    "# #add line of best fit to plot\n",
    "# plt.plot(x, a*x+b, color='steelblue', linestyle='--', linewidth=2)\n",
    "\n",
    "# #add fitted regression equation to plot\n",
    "# plt.text(1, 17, 'y = ' + '{:.2f}'.format(b) + ' + {:.2f}'.format(a) + 'x', size=14)"
   ]
  },
  {
   "cell_type": "markdown",
   "id": "9d28e6e9",
   "metadata": {},
   "source": [
    "# NEED TO FIX DURATION dtype"
   ]
  },
  {
   "cell_type": "code",
   "execution_count": null,
   "id": "1b2113a5",
   "metadata": {},
   "outputs": [],
   "source": [
    "\n",
    "\n",
    "\n",
    "# gas_prices['Duration'] = pd.datetime.time to_datetime(gas_prices['date'])\n",
    "# gas_prices.dtypes"
   ]
  },
  {
   "cell_type": "code",
   "execution_count": null,
   "id": "47ce85ff",
   "metadata": {},
   "outputs": [],
   "source": []
  },
  {
   "cell_type": "markdown",
   "id": "9ff0060f",
   "metadata": {},
   "source": [
    "## gas_prices\n",
    "NY Regular grade gasoline averages per week dating back to year 2000"
   ]
  },
  {
   "cell_type": "code",
   "execution_count": null,
   "id": "9d41e4cf",
   "metadata": {},
   "outputs": [],
   "source": [
    "# Skipping first 7 rows of data because it's the def section\n",
    "\n",
    "weekly_gas_prices = pd.read_csv('data/RAW-NY_Gas_prices_REGULAR_FORMULA_Weekly_Retail_Gasoline_and_Diesel_Prices.csv'\\\n",
    "                    , skiprows = 7, names = ['date','price'])\n",
    "\n",
    "weekly_gas_prices.head()"
   ]
  },
  {
   "cell_type": "code",
   "execution_count": null,
   "id": "279f2e41",
   "metadata": {},
   "outputs": [],
   "source": [
    "# Converting column 'date' to datetime\n",
    "weekly_gas_prices['date'] = pd.to_datetime(weekly_gas_prices['date'])\n",
    "weekly_gas_prices = weekly_gas_prices.rename(columns = {'date':'gas_price_date','price':'gas_price'})\n",
    "weekly_gas_prices"
   ]
  },
  {
   "cell_type": "code",
   "execution_count": null,
   "id": "befc07d2",
   "metadata": {
    "scrolled": true
   },
   "outputs": [],
   "source": [
    "# limiting data to 2022\n",
    "weekly_gas_prices = weekly_gas_prices[weekly_gas_prices['gas_price_date'].dt.year == 2022]\n",
    "weekly_gas_prices"
   ]
  },
  {
   "cell_type": "code",
   "execution_count": null,
   "id": "9a23f8a8",
   "metadata": {},
   "outputs": [],
   "source": [
    "x = weekly_gas_prices.gas_price_date\n",
    "y = weekly_gas_prices.gas_price\n",
    "\n",
    "fig, ax = plt.subplots()\n",
    "ax.plot(x, y)\n",
    "\n",
    "\n",
    "\n",
    "def dollar_format(x, pos):\n",
    "    \"\"\"The two arguments are the value and tick position.\"\"\"\n",
    "    return '${:1.2f}'.format(x)\n",
    "\n",
    "# Labeling\n",
    "plt.title('NY Avg Gas Prices')\n",
    "ax.xaxis.set_major_locator(mdates.AutoDateLocator(minticks=12, maxticks=20))\n",
    "ax.yaxis.set_major_formatter(dollar_format);\n",
    "\n",
    "\n"
   ]
  },
  {
   "cell_type": "markdown",
   "id": "76cdb27c",
   "metadata": {},
   "source": [
    "# Fill in missing dates, and copy values"
   ]
  },
  {
   "cell_type": "code",
   "execution_count": null,
   "id": "d7b46954",
   "metadata": {},
   "outputs": [],
   "source": [
    "# creating a range of dates, DataFrame\n",
    "raw_dates = pd.DataFrame({'gas_price_date':pd.date_range('01-01-2022', '12-17-2022')})\n",
    "\n",
    "# matching weekly gas prices to every single day\n",
    "daily_gas_prices = pd.merge(raw_dates, weekly_gas_prices, how = 'outer',\\\n",
    "                            on = 'gas_price_date')\n",
    "\n",
    "# .fillna to makesure every day of the week is filled, not just the one that matched previously.\n",
    "daily_gas_prices = daily_gas_prices.fillna(method = 'ffill', inplace = False)\n",
    "\n",
    "# I now have a weekly average that I can compare to a daily dataset.\n",
    "daily_gas_prices\n"
   ]
  },
  {
   "cell_type": "markdown",
   "id": "2ac82ff0",
   "metadata": {},
   "source": [
    "## Append Gas Data cost to trips"
   ]
  },
  {
   "cell_type": "code",
   "execution_count": null,
   "id": "62d349df",
   "metadata": {},
   "outputs": [],
   "source": [
    "# temporary create new column to easily merge on date data (avoid complicatino of merging datetime to date)\n",
    "trips['start_date_iso'] = pd.to_datetime(trips.start_date.dt.date)\n",
    "\n",
    "# merge gas prices on trips DataFrame\n",
    "trips = pd.merge(trips, daily_gas_prices, left_on = 'start_date_iso', right_on = 'gas_price_date')\n",
    "\n",
    "# drop temp column and redundent gas_price_date\n",
    "trips.drop(columns = ['start_date_iso','gas_price_date'], inplace = True)\n",
    "\n",
    "\n",
    "trips\n"
   ]
  },
  {
   "cell_type": "code",
   "execution_count": null,
   "id": "c804d6af",
   "metadata": {},
   "outputs": [],
   "source": [
    "# Our other car is a 2005 Toyota Corolla and gets 32/41 mpg, it's an old car so let's assume it's mpg is on the lower end\n",
    "trips['gas_used_eq'] = trips.distance/32\n",
    "trips['trip_cost_gas_car_eq'] = trips.gas_used_eq * trips.gas_price\n",
    "\n",
    "trips.sort_values('distance', ascending = False)"
   ]
  },
  {
   "cell_type": "markdown",
   "id": "51570abe",
   "metadata": {},
   "source": [
    "## Scraping utility bill .pdfs for electricity prices"
   ]
  },
  {
   "cell_type": "code",
   "execution_count": null,
   "id": "48dc0e4d",
   "metadata": {},
   "outputs": [],
   "source": [
    "directory = 'data/utility_bills'\n",
    "\n",
    "# lists to populate\n",
    "bill_dates = []\n",
    "supply_charge_rate = []\n",
    "delivery_charge_rate = []\n",
    "\n",
    "# iterate over utility bill .pdfs in directory\n",
    "for filename in os.listdir(directory):\n",
    "    f = os.path.join(directory, filename)\n",
    "    \n",
    "    if os.path.isfile(f): # checking if it is a file\n",
    "        with open(f,'rb') as file:\n",
    "            reader = PyPDF2.PdfReader(f)\n",
    "            page = reader.pages[1].extract_text() # 2nd page and extracted text\n",
    "        \n",
    "        bill_dates.append(re.findall('Electric Meter Detail - billing period from (\\w+ \\w+, \\w+)  to (\\w+ \\w+, \\w+)', page))\n",
    "        supply_charge_rate.append(re.findall('Supply \\d{0,2},*\\d{2,5} \\s{0,1}kWh @(\\d{1,2}.\\d{1,5})', page))\n",
    "        delivery_charge_rate.append(re.findall('Delivery \\d{0,2},*\\d{2,5} kWh @(\\d{1,2}.\\d{1,5})', page))\n",
    "       \n",
    "    \n",
    "print(bill_dates)\n",
    "print('-'*56)\n",
    "print(supply_charge_rate)\n",
    "print('-'*56)\n",
    "print(delivery_charge_rate)\n",
    "\n"
   ]
  },
  {
   "cell_type": "code",
   "execution_count": null,
   "id": "7e6dba67",
   "metadata": {},
   "outputs": [],
   "source": [
    "# flatten out list of lists\n",
    "bill_dates_flat = [num for sublist in bill_dates for num in sublist]\n",
    "supply_charge_rate_flat = [num for sublist in supply_charge_rate for num in sublist]\n",
    "delivery_charge_rate_flat = [num for sublist in delivery_charge_rate for num in sublist]\n",
    "\n",
    "# unpack tuples\n",
    "bill_start = []\n",
    "bill_end = []\n",
    "for i in bill_dates_flat:\n",
    "    bill_start.append(i[0])\n",
    "    bill_end.append(i[1])\n",
    "\n",
    "\n",
    "print(bill_start)\n",
    "print('-'*56)\n",
    "print(bill_end)\n",
    "print('-'*56)\n",
    "print(supply_charge_rate_flat)\n",
    "print('-'*56)\n",
    "print(delivery_charge_rate_flat)"
   ]
  },
  {
   "cell_type": "code",
   "execution_count": null,
   "id": "e0b7f40a",
   "metadata": {
    "scrolled": false
   },
   "outputs": [],
   "source": [
    "# creating dataframe from extracted data\n",
    "utility_bill = pd.DataFrame({'bill_start': bill_start,\n",
    "              'bill_end' : bill_end,\n",
    "              'supply_charge_rate': supply_charge_rate_flat,\n",
    "              'delivery_charge_rate' : delivery_charge_rate_flat\n",
    "             })\n",
    "# converting text dates, to datetime\n",
    "utility_bill['bill_start'] = pd.to_datetime(utility_bill['bill_start'])\n",
    "utility_bill['bill_end'] = pd.to_datetime(utility_bill['bill_end'])\n",
    "\n",
    "# converting str to floats\n",
    "utility_bill = utility_bill.astype({'supply_charge_rate': 'float', 'delivery_charge_rate': 'float'})\n",
    "\n",
    "# adding up all fees to one combined electricity rate column\n",
    "utility_bill['electric_price'] = (utility_bill.supply_charge_rate/100)+ (utility_bill.delivery_charge_rate/100)\n",
    "\n",
    "# dropping the other rate columns\n",
    "utility_bill.drop(columns = ['supply_charge_rate','delivery_charge_rate'], inplace = True)\n",
    "\n",
    "# filtering to only 2022\n",
    "utility_bill = utility_bill[utility_bill.bill_start.dt.year == 2022]\n",
    "\n",
    "# creating a range of dates, DataFrame\n",
    "raw_dates = pd.DataFrame({'bill_start':pd.date_range('01-01-2022', '12-17-2022')})\n",
    "\n",
    "# matching weekly gas prices to every single day\n",
    "daily_electric_prices = pd.merge(raw_dates, utility_bill, how = 'outer',\\\n",
    "                            on = 'bill_start')\n",
    "\n",
    "# .fillna to makesure every day of the week is filled, not just the one that matched previously.\n",
    "daily_electric_prices = daily_electric_prices.fillna(method = 'ffill', inplace = False)\n",
    "\n",
    "# filtering to trips date range\n",
    "daily_electric_prices = daily_electric_prices[daily_electric_prices.bill_start >= '2022-02-24']\n",
    "\n",
    "# dropping bill_end date and renaming bill start\n",
    "daily_electric_prices = daily_electric_prices.drop(columns = 'bill_end')\n",
    "daily_electric_prices = daily_electric_prices.rename(columns = {'bill_start':'electric_price_date'})\n",
    "\n",
    "\n",
    "# I now have a weekly average that I can compare to a daily dataset.\n",
    "daily_electric_prices\n"
   ]
  },
  {
   "cell_type": "markdown",
   "id": "e6a28bbe",
   "metadata": {},
   "source": [
    "## Write Electric Prices to .csv"
   ]
  },
  {
   "cell_type": "code",
   "execution_count": null,
   "id": "50928c87",
   "metadata": {},
   "outputs": [],
   "source": [
    "daily_electric_prices.to_csv('data/CLEAN-Scraped-utility-electricity-prices.csv', sep=',', encoding='utf-8')"
   ]
  },
  {
   "cell_type": "markdown",
   "id": "34e7b316",
   "metadata": {},
   "source": [
    "## Append Electric Prices to Trips Dataset"
   ]
  },
  {
   "cell_type": "code",
   "execution_count": null,
   "id": "04e1c490",
   "metadata": {
    "scrolled": true
   },
   "outputs": [],
   "source": [
    "# temporary create new column to easily merge on date data (avoid complicatino of merging datetime to date)\n",
    "trips['start_date_iso'] = pd.to_datetime(trips.start_date.dt.date)\n",
    "\n",
    "# merge electric prices on trips DataFrame\n",
    "trips = pd.merge(trips, daily_electric_prices, left_on = 'start_date_iso', right_on = 'electric_price_date')\n",
    "\n",
    "# drop temp column and redundent electric_price_date\n",
    "trips.drop(columns = ['start_date_iso','electric_price_date'], inplace = True)\n",
    "\n",
    "\n",
    "trips"
   ]
  },
  {
   "cell_type": "code",
   "execution_count": null,
   "id": "17da68e0",
   "metadata": {},
   "outputs": [],
   "source": [
    "# adding column for cost of electricity per trips\n",
    "\n",
    "trips['trip_cost'] = trips.electricity_used * trips.electric_price\n",
    "trips.sort_values('distance', ascending = False)"
   ]
  },
  {
   "cell_type": "markdown",
   "id": "2e671689",
   "metadata": {},
   "source": [
    "## Gas vs electric: Cost Comparision"
   ]
  },
  {
   "cell_type": "code",
   "execution_count": null,
   "id": "3c530fc5",
   "metadata": {},
   "outputs": [],
   "source": [
    "fig, ax = plt.subplots()\n",
    "\n",
    "x = trips.distance\n",
    "y1 = trips.trip_cost\n",
    "y2 = trips.trip_cost_gas_car_eq\n",
    "\n",
    "def dollar_format(x, pos):\n",
    "    \"\"\"The two arguments are the value and tick position.\"\"\"\n",
    "    return '${:1.2f}'.format(x)\n",
    "\n",
    "plt.scatter(x,y1, color = '#8D0206', alpha = .3, s = 40)#red electric car\n",
    "plt.scatter(x,y2, color = '#F2BE50', alpha = .3, s = 40)#champagne gas car\n",
    "\n",
    "\n",
    "\n",
    "\n",
    "# labelling \n",
    "\n",
    "ax.text(x=0.97, y=0.55, transform=ax.transAxes, s = \"Electric Avg Cost: $%1.2f\" % y1.mean(),\\\n",
    "    fontweight='demibold', fontsize=12, verticalalignment='top', horizontalalignment='right',\\\n",
    "    backgroundcolor='white', color='#8D0206')\n",
    "\n",
    "ax.text(x=0.97, y=0.61, transform=ax.transAxes, s=\"Gas Avg Cost: $%1.2f\" % y2.mean(),\\\n",
    "    fontweight='demibold', fontsize=12, verticalalignment='top', horizontalalignment='right',\\\n",
    "    backgroundcolor='white', color='#F2BE50')\n",
    "\n",
    "plt.title('Cost Per Trip', fontsize = 25)\n",
    "ax.set_xlabel('Trip Distance')\n",
    "ax.set_ylabel('Trip Cost') \n",
    "ax.yaxis.set_major_formatter(dollar_format);"
   ]
  },
  {
   "cell_type": "markdown",
   "id": "7933a5d4",
   "metadata": {},
   "source": [
    "## Money Saved this year"
   ]
  },
  {
   "cell_type": "code",
   "execution_count": null,
   "id": "0d0bfaa0",
   "metadata": {},
   "outputs": [],
   "source": [
    "trips.trip_cost_gas_car_eq.sum()-trips.trip_cost.sum()"
   ]
  }
 ],
 "metadata": {
  "kernelspec": {
   "display_name": "Python 3 (ipykernel)",
   "language": "python",
   "name": "python3"
  },
  "language_info": {
   "codemirror_mode": {
    "name": "ipython",
    "version": 3
   },
   "file_extension": ".py",
   "mimetype": "text/x-python",
   "name": "python",
   "nbconvert_exporter": "python",
   "pygments_lexer": "ipython3",
   "version": "3.9.12"
  }
 },
 "nbformat": 4,
 "nbformat_minor": 5
}
