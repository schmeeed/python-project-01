{
 "cells": [
  {
   "cell_type": "markdown",
   "id": "0fcae970",
   "metadata": {},
   "source": [
    "## Libraries and Settings"
   ]
  },
  {
   "cell_type": "code",
   "execution_count": 1,
   "id": "fda32cfc",
   "metadata": {},
   "outputs": [],
   "source": [
    "# data manipulation\n",
    "import numpy as np\n",
    "import pandas as pd\n",
    "import datetime\n",
    "from scipy import stats\n",
    "import PyPDF2\n",
    "import os\n",
    "import re\n",
    "\n",
    "# data viz\n",
    "from matplotlib import pyplot as plt\n",
    "from matplotlib import rcParams\n",
    "from matplotlib import ticker\n",
    "import seaborn as sns\n",
    "import matplotlib.dates as mdates\n",
    "\n",
    "\n",
    "#warnings\n",
    "import warnings\n",
    "warnings.simplefilter(action='ignore', category=FutureWarning)\n",
    "\n",
    "# Viz Styling\n",
    "plt.style.use('default')\n",
    "rcParams['figure.figsize'] = (12,  6)\n",
    "pd.set_option('display.max_columns',50)\n"
   ]
  },
  {
   "cell_type": "markdown",
   "id": "dfc9a372",
   "metadata": {},
   "source": [
    "## Import Data"
   ]
  },
  {
   "cell_type": "code",
   "execution_count": 2,
   "id": "0075d79b",
   "metadata": {
    "scrolled": true
   },
   "outputs": [
    {
     "data": {
      "text/html": [
       "<div>\n",
       "<style scoped>\n",
       "    .dataframe tbody tr th:only-of-type {\n",
       "        vertical-align: middle;\n",
       "    }\n",
       "\n",
       "    .dataframe tbody tr th {\n",
       "        vertical-align: top;\n",
       "    }\n",
       "\n",
       "    .dataframe thead th {\n",
       "        text-align: right;\n",
       "    }\n",
       "</style>\n",
       "<table border=\"1\" class=\"dataframe\">\n",
       "  <thead>\n",
       "    <tr style=\"text-align: right;\">\n",
       "      <th></th>\n",
       "      <th>Vehicle Model</th>\n",
       "      <th>Start Date</th>\n",
       "      <th>End Date</th>\n",
       "      <th>Duration</th>\n",
       "      <th>Distance (mi)</th>\n",
       "      <th>Gasoline Consumed (gal)</th>\n",
       "      <th>Electricity Consumed (kWh)</th>\n",
       "      <th>Fuel Efficiency Equivalent (MPGeq)</th>\n",
       "      <th>mi/kWh</th>\n",
       "      <th>Starting SOC (%)</th>\n",
       "      <th>Ending SOC (%)</th>\n",
       "      <th>Ambient Temperature (F)</th>\n",
       "      <th>Smooth Acceleration (%)</th>\n",
       "      <th>Smooth Braking (%)</th>\n",
       "    </tr>\n",
       "  </thead>\n",
       "  <tbody>\n",
       "    <tr>\n",
       "      <th>1196</th>\n",
       "      <td>2019 Chevrolet Bolt EV</td>\n",
       "      <td>2022-11-29 07:59:27</td>\n",
       "      <td>2022-11-29 08:25:02</td>\n",
       "      <td>00:25:35</td>\n",
       "      <td>17.60</td>\n",
       "      <td>NaN</td>\n",
       "      <td>5.89</td>\n",
       "      <td>100.71</td>\n",
       "      <td>2.988115</td>\n",
       "      <td>100.00</td>\n",
       "      <td>89.80</td>\n",
       "      <td>35.67</td>\n",
       "      <td>NaN</td>\n",
       "      <td>NaN</td>\n",
       "    </tr>\n",
       "    <tr>\n",
       "      <th>1197</th>\n",
       "      <td>2019 Chevrolet Bolt EV</td>\n",
       "      <td>2022-11-29 15:38:54</td>\n",
       "      <td>2022-11-29 16:12:07</td>\n",
       "      <td>00:33:13</td>\n",
       "      <td>14.31</td>\n",
       "      <td>NaN</td>\n",
       "      <td>4.03</td>\n",
       "      <td>119.67</td>\n",
       "      <td>3.550868</td>\n",
       "      <td>89.80</td>\n",
       "      <td>83.92</td>\n",
       "      <td>39.10</td>\n",
       "      <td>NaN</td>\n",
       "      <td>NaN</td>\n",
       "    </tr>\n",
       "    <tr>\n",
       "      <th>1198</th>\n",
       "      <td>2019 Chevrolet Bolt EV</td>\n",
       "      <td>2022-11-29 18:09:27</td>\n",
       "      <td>2022-11-29 18:58:13</td>\n",
       "      <td>00:48:46</td>\n",
       "      <td>33.47</td>\n",
       "      <td>NaN</td>\n",
       "      <td>9.83</td>\n",
       "      <td>114.76</td>\n",
       "      <td>3.404883</td>\n",
       "      <td>83.92</td>\n",
       "      <td>67.06</td>\n",
       "      <td>35.00</td>\n",
       "      <td>NaN</td>\n",
       "      <td>NaN</td>\n",
       "    </tr>\n",
       "    <tr>\n",
       "      <th>1199</th>\n",
       "      <td>2019 Chevrolet Bolt EV</td>\n",
       "      <td>2022-11-30 08:17:23</td>\n",
       "      <td>2022-11-30 08:45:27</td>\n",
       "      <td>00:28:04</td>\n",
       "      <td>17.47</td>\n",
       "      <td>NaN</td>\n",
       "      <td>5.57</td>\n",
       "      <td>105.74</td>\n",
       "      <td>3.136445</td>\n",
       "      <td>100.00</td>\n",
       "      <td>90.58</td>\n",
       "      <td>41.45</td>\n",
       "      <td>NaN</td>\n",
       "      <td>NaN</td>\n",
       "    </tr>\n",
       "    <tr>\n",
       "      <th>1200</th>\n",
       "      <td>2019 Chevrolet Bolt EV</td>\n",
       "      <td>2022-11-30 20:28:37</td>\n",
       "      <td>2022-11-30 21:03:52</td>\n",
       "      <td>00:35:15</td>\n",
       "      <td>18.87</td>\n",
       "      <td>NaN</td>\n",
       "      <td>5.06</td>\n",
       "      <td>125.66</td>\n",
       "      <td>3.729249</td>\n",
       "      <td>90.58</td>\n",
       "      <td>82.35</td>\n",
       "      <td>45.73</td>\n",
       "      <td>NaN</td>\n",
       "      <td>NaN</td>\n",
       "    </tr>\n",
       "  </tbody>\n",
       "</table>\n",
       "</div>"
      ],
      "text/plain": [
       "               Vehicle Model          Start Date            End Date  \\\n",
       "1196  2019 Chevrolet Bolt EV 2022-11-29 07:59:27 2022-11-29 08:25:02   \n",
       "1197  2019 Chevrolet Bolt EV 2022-11-29 15:38:54 2022-11-29 16:12:07   \n",
       "1198  2019 Chevrolet Bolt EV 2022-11-29 18:09:27 2022-11-29 18:58:13   \n",
       "1199  2019 Chevrolet Bolt EV 2022-11-30 08:17:23 2022-11-30 08:45:27   \n",
       "1200  2019 Chevrolet Bolt EV 2022-11-30 20:28:37 2022-11-30 21:03:52   \n",
       "\n",
       "      Duration  Distance (mi)  Gasoline Consumed (gal)  \\\n",
       "1196  00:25:35          17.60                      NaN   \n",
       "1197  00:33:13          14.31                      NaN   \n",
       "1198  00:48:46          33.47                      NaN   \n",
       "1199  00:28:04          17.47                      NaN   \n",
       "1200  00:35:15          18.87                      NaN   \n",
       "\n",
       "      Electricity Consumed (kWh)  Fuel Efficiency Equivalent (MPGeq)  \\\n",
       "1196                        5.89                              100.71   \n",
       "1197                        4.03                              119.67   \n",
       "1198                        9.83                              114.76   \n",
       "1199                        5.57                              105.74   \n",
       "1200                        5.06                              125.66   \n",
       "\n",
       "        mi/kWh  Starting SOC (%)  Ending SOC (%)  Ambient Temperature (F)  \\\n",
       "1196  2.988115            100.00           89.80                    35.67   \n",
       "1197  3.550868             89.80           83.92                    39.10   \n",
       "1198  3.404883             83.92           67.06                    35.00   \n",
       "1199  3.136445            100.00           90.58                    41.45   \n",
       "1200  3.729249             90.58           82.35                    45.73   \n",
       "\n",
       "      Smooth Acceleration (%)  Smooth Braking (%)  \n",
       "1196                      NaN                 NaN  \n",
       "1197                      NaN                 NaN  \n",
       "1198                      NaN                 NaN  \n",
       "1199                      NaN                 NaN  \n",
       "1200                      NaN                 NaN  "
      ]
     },
     "execution_count": 2,
     "metadata": {},
     "output_type": "execute_result"
    }
   ],
   "source": [
    "trips = pd.read_excel('data/RAW-2019-Chevy-Bolt-Trip-Data.xlsx')\n",
    "\n",
    "trips.sort_values('Start Date').tail()\n"
   ]
  },
  {
   "cell_type": "code",
   "execution_count": 3,
   "id": "fd8a52c5",
   "metadata": {
    "scrolled": true
   },
   "outputs": [
    {
     "data": {
      "text/plain": [
       "Vehicle Model                         1201\n",
       "Start Date                            1201\n",
       "End Date                              1201\n",
       "Duration                              1201\n",
       "Distance (mi)                         1201\n",
       "Gasoline Consumed (gal)                  0\n",
       "Electricity Consumed (kWh)            1199\n",
       "Fuel Efficiency Equivalent (MPGeq)    1110\n",
       "mi/kWh                                1201\n",
       "Starting SOC (%)                      1201\n",
       "Ending SOC (%)                        1201\n",
       "Ambient Temperature (F)               1011\n",
       "Smooth Acceleration (%)                  0\n",
       "Smooth Braking (%)                       0\n",
       "dtype: int64"
      ]
     },
     "execution_count": 3,
     "metadata": {},
     "output_type": "execute_result"
    }
   ],
   "source": [
    "# Finding null columns\n",
    "np.sum(~trips.isnull())"
   ]
  },
  {
   "cell_type": "markdown",
   "id": "f4879b40",
   "metadata": {},
   "source": [
    "## Cleaning"
   ]
  },
  {
   "cell_type": "code",
   "execution_count": 4,
   "id": "037df696",
   "metadata": {},
   "outputs": [],
   "source": [
    "# Removing Null Columns and irrelivant columns\n",
    "trips.drop(labels = ['Vehicle Model', r'Gasoline Consumed (gal)'\\\n",
    "                     , r'Smooth Acceleration (%)', r'Smooth Braking (%)'], axis = 1, inplace = True)"
   ]
  },
  {
   "cell_type": "code",
   "execution_count": 5,
   "id": "58739adb",
   "metadata": {},
   "outputs": [],
   "source": [
    "# Removing 0.00 mile trips (i.e. I turned on the car for a minute, but didn't go anywhere)\n",
    "trips = trips.loc[trips[r'Distance (mi)'] != 0 ,:]\n",
    "\n",
    "# Removing negative electricity_consumed outliers.\n",
    "trips = trips.loc[trips[r'Electricity Consumed (kWh)'] >= 0,:]\n"
   ]
  },
  {
   "cell_type": "code",
   "execution_count": 6,
   "id": "5eb1bb87",
   "metadata": {},
   "outputs": [],
   "source": [
    "# converting SOC columns to decimal values (/100)\n",
    "trips[r'Starting SOC (%)'] = trips[r'Starting SOC (%)']/100\n",
    "trips[r'Ending SOC (%)'] = trips[r'Ending SOC (%)']/100"
   ]
  },
  {
   "cell_type": "code",
   "execution_count": 7,
   "id": "f2ba9ba3",
   "metadata": {},
   "outputs": [],
   "source": [
    "# Appending Columns to provide additional Analysis\n",
    "# Projected Mile Range at Start and end of trip\n",
    "# Using the formula (mi/kWh)*(SOC*battery size): battery size is 66kWh\n",
    "battery_size = 66\n",
    "\n",
    "trips['start_range'] = trips['mi/kWh']*(trips[r'Starting SOC (%)']*battery_size)\n",
    "trips['end_range'] = trips['mi/kWh']*(trips[r'Ending SOC (%)']*battery_size)"
   ]
  },
  {
   "cell_type": "code",
   "execution_count": 8,
   "id": "c539eeda",
   "metadata": {},
   "outputs": [
    {
     "data": {
      "text/plain": [
       "Index(['Start Date', 'End Date', 'Duration', 'Distance (mi)',\n",
       "       'Electricity Consumed (kWh)', 'Fuel Efficiency Equivalent (MPGeq)',\n",
       "       'mi/kWh', 'Starting SOC (%)', 'Ending SOC (%)',\n",
       "       'Ambient Temperature (F)', 'start_range', 'end_range'],\n",
       "      dtype='object')"
      ]
     },
     "execution_count": 8,
     "metadata": {},
     "output_type": "execute_result"
    }
   ],
   "source": [
    "trips.columns"
   ]
  },
  {
   "cell_type": "code",
   "execution_count": 9,
   "id": "ae5ab431",
   "metadata": {},
   "outputs": [],
   "source": [
    "# Rename column names\n",
    "trips = trips.rename(columns = {r'Start Date' : 'start_date',\n",
    "           r'End Date' : 'end_date',\n",
    "           r'Duration' : 'duration',\n",
    "           r'Distance (mi)' : 'distance',\n",
    "           r'Electricity Consumed (kWh)' : 'electricity_used',\n",
    "           r'mi/kWh' : 'mikWh',\n",
    "           r'Fuel Efficiency Equivalent (MPGeq)' : 'MPGe',\n",
    "           r'Starting SOC (%)' : 'start_soc',\n",
    "           r'Ending SOC (%)' : 'end_soc',\n",
    "           r'Ambient Temperature (F)' : 'temp',\n",
    "          }\n",
    "         )"
   ]
  },
  {
   "cell_type": "code",
   "execution_count": 10,
   "id": "12cbdda8",
   "metadata": {},
   "outputs": [],
   "source": [
    "# trips['start_date'] = pd.to_datetime(trips['start_date']).dt.date\n",
    "# trips['start_time'] = pd.to_datetime(trips['start_date']).dt.time\n",
    "# trips['end_date'] = pd.to_datetime(trips['end_date']).dt.date\n",
    "# trips['end_time'] = pd.to_datetime(trips['end_date']).dt.time\n",
    "\n",
    "# trips"
   ]
  },
  {
   "cell_type": "code",
   "execution_count": 11,
   "id": "4898e23b",
   "metadata": {},
   "outputs": [
    {
     "data": {
      "text/html": [
       "<div>\n",
       "<style scoped>\n",
       "    .dataframe tbody tr th:only-of-type {\n",
       "        vertical-align: middle;\n",
       "    }\n",
       "\n",
       "    .dataframe tbody tr th {\n",
       "        vertical-align: top;\n",
       "    }\n",
       "\n",
       "    .dataframe thead th {\n",
       "        text-align: right;\n",
       "    }\n",
       "</style>\n",
       "<table border=\"1\" class=\"dataframe\">\n",
       "  <thead>\n",
       "    <tr style=\"text-align: right;\">\n",
       "      <th></th>\n",
       "      <th>start_date</th>\n",
       "      <th>end_date</th>\n",
       "      <th>duration</th>\n",
       "      <th>distance</th>\n",
       "      <th>electricity_used</th>\n",
       "      <th>MPGe</th>\n",
       "      <th>mikWh</th>\n",
       "      <th>start_soc</th>\n",
       "      <th>end_soc</th>\n",
       "      <th>temp</th>\n",
       "      <th>start_range</th>\n",
       "      <th>end_range</th>\n",
       "    </tr>\n",
       "  </thead>\n",
       "  <tbody>\n",
       "    <tr>\n",
       "      <th>0</th>\n",
       "      <td>2022-02-24 08:25:56</td>\n",
       "      <td>2022-02-24 09:32:13</td>\n",
       "      <td>01:06:17</td>\n",
       "      <td>45.54</td>\n",
       "      <td>12.64</td>\n",
       "      <td>121.44</td>\n",
       "      <td>3.602848</td>\n",
       "      <td>0.0000</td>\n",
       "      <td>0.0000</td>\n",
       "      <td>31.81</td>\n",
       "      <td>0.000000</td>\n",
       "      <td>0.000000</td>\n",
       "    </tr>\n",
       "    <tr>\n",
       "      <th>3</th>\n",
       "      <td>2022-02-24 18:00:42</td>\n",
       "      <td>2022-02-24 19:06:38</td>\n",
       "      <td>01:05:56</td>\n",
       "      <td>45.57</td>\n",
       "      <td>13.19</td>\n",
       "      <td>116.46</td>\n",
       "      <td>3.454890</td>\n",
       "      <td>0.5608</td>\n",
       "      <td>0.3216</td>\n",
       "      <td>36.96</td>\n",
       "      <td>127.875155</td>\n",
       "      <td>73.332115</td>\n",
       "    </tr>\n",
       "    <tr>\n",
       "      <th>4</th>\n",
       "      <td>2022-02-26 09:50:22</td>\n",
       "      <td>2022-02-26 10:03:52</td>\n",
       "      <td>00:13:30</td>\n",
       "      <td>5.36</td>\n",
       "      <td>1.67</td>\n",
       "      <td>108.13</td>\n",
       "      <td>3.209581</td>\n",
       "      <td>0.7726</td>\n",
       "      <td>0.7451</td>\n",
       "      <td>30.52</td>\n",
       "      <td>163.661662</td>\n",
       "      <td>157.836273</td>\n",
       "    </tr>\n",
       "    <tr>\n",
       "      <th>5</th>\n",
       "      <td>2022-02-26 10:04:49</td>\n",
       "      <td>2022-02-26 10:12:17</td>\n",
       "      <td>00:07:28</td>\n",
       "      <td>3.34</td>\n",
       "      <td>0.97</td>\n",
       "      <td>116.10</td>\n",
       "      <td>3.443299</td>\n",
       "      <td>0.7451</td>\n",
       "      <td>0.7294</td>\n",
       "      <td>28.45</td>\n",
       "      <td>169.329736</td>\n",
       "      <td>165.761790</td>\n",
       "    </tr>\n",
       "    <tr>\n",
       "      <th>6</th>\n",
       "      <td>2022-02-26 10:28:40</td>\n",
       "      <td>2022-02-26 10:31:18</td>\n",
       "      <td>00:02:38</td>\n",
       "      <td>0.45</td>\n",
       "      <td>0.18</td>\n",
       "      <td>84.94</td>\n",
       "      <td>2.500000</td>\n",
       "      <td>0.7294</td>\n",
       "      <td>0.7216</td>\n",
       "      <td>28.40</td>\n",
       "      <td>120.351000</td>\n",
       "      <td>119.064000</td>\n",
       "    </tr>\n",
       "    <tr>\n",
       "      <th>...</th>\n",
       "      <td>...</td>\n",
       "      <td>...</td>\n",
       "      <td>...</td>\n",
       "      <td>...</td>\n",
       "      <td>...</td>\n",
       "      <td>...</td>\n",
       "      <td>...</td>\n",
       "      <td>...</td>\n",
       "      <td>...</td>\n",
       "      <td>...</td>\n",
       "      <td>...</td>\n",
       "      <td>...</td>\n",
       "    </tr>\n",
       "    <tr>\n",
       "      <th>1196</th>\n",
       "      <td>2022-11-29 07:59:27</td>\n",
       "      <td>2022-11-29 08:25:02</td>\n",
       "      <td>00:25:35</td>\n",
       "      <td>17.60</td>\n",
       "      <td>5.89</td>\n",
       "      <td>100.71</td>\n",
       "      <td>2.988115</td>\n",
       "      <td>1.0000</td>\n",
       "      <td>0.8980</td>\n",
       "      <td>35.67</td>\n",
       "      <td>197.215620</td>\n",
       "      <td>177.099626</td>\n",
       "    </tr>\n",
       "    <tr>\n",
       "      <th>1197</th>\n",
       "      <td>2022-11-29 15:38:54</td>\n",
       "      <td>2022-11-29 16:12:07</td>\n",
       "      <td>00:33:13</td>\n",
       "      <td>14.31</td>\n",
       "      <td>4.03</td>\n",
       "      <td>119.67</td>\n",
       "      <td>3.550868</td>\n",
       "      <td>0.8980</td>\n",
       "      <td>0.8392</td>\n",
       "      <td>39.10</td>\n",
       "      <td>210.452873</td>\n",
       "      <td>196.672663</td>\n",
       "    </tr>\n",
       "    <tr>\n",
       "      <th>1198</th>\n",
       "      <td>2022-11-29 18:09:27</td>\n",
       "      <td>2022-11-29 18:58:13</td>\n",
       "      <td>00:48:46</td>\n",
       "      <td>33.47</td>\n",
       "      <td>9.83</td>\n",
       "      <td>114.76</td>\n",
       "      <td>3.404883</td>\n",
       "      <td>0.8392</td>\n",
       "      <td>0.6706</td>\n",
       "      <td>35.00</td>\n",
       "      <td>188.586936</td>\n",
       "      <td>150.698760</td>\n",
       "    </tr>\n",
       "    <tr>\n",
       "      <th>1199</th>\n",
       "      <td>2022-11-30 08:17:23</td>\n",
       "      <td>2022-11-30 08:45:27</td>\n",
       "      <td>00:28:04</td>\n",
       "      <td>17.47</td>\n",
       "      <td>5.57</td>\n",
       "      <td>105.74</td>\n",
       "      <td>3.136445</td>\n",
       "      <td>1.0000</td>\n",
       "      <td>0.9058</td>\n",
       "      <td>41.45</td>\n",
       "      <td>207.005386</td>\n",
       "      <td>187.505479</td>\n",
       "    </tr>\n",
       "    <tr>\n",
       "      <th>1200</th>\n",
       "      <td>2022-11-30 20:28:37</td>\n",
       "      <td>2022-11-30 21:03:52</td>\n",
       "      <td>00:35:15</td>\n",
       "      <td>18.87</td>\n",
       "      <td>5.06</td>\n",
       "      <td>125.66</td>\n",
       "      <td>3.729249</td>\n",
       "      <td>0.9058</td>\n",
       "      <td>0.8235</td>\n",
       "      <td>45.73</td>\n",
       "      <td>222.944948</td>\n",
       "      <td>202.688413</td>\n",
       "    </tr>\n",
       "  </tbody>\n",
       "</table>\n",
       "<p>1092 rows × 12 columns</p>\n",
       "</div>"
      ],
      "text/plain": [
       "              start_date            end_date  duration  distance  \\\n",
       "0    2022-02-24 08:25:56 2022-02-24 09:32:13  01:06:17     45.54   \n",
       "3    2022-02-24 18:00:42 2022-02-24 19:06:38  01:05:56     45.57   \n",
       "4    2022-02-26 09:50:22 2022-02-26 10:03:52  00:13:30      5.36   \n",
       "5    2022-02-26 10:04:49 2022-02-26 10:12:17  00:07:28      3.34   \n",
       "6    2022-02-26 10:28:40 2022-02-26 10:31:18  00:02:38      0.45   \n",
       "...                  ...                 ...       ...       ...   \n",
       "1196 2022-11-29 07:59:27 2022-11-29 08:25:02  00:25:35     17.60   \n",
       "1197 2022-11-29 15:38:54 2022-11-29 16:12:07  00:33:13     14.31   \n",
       "1198 2022-11-29 18:09:27 2022-11-29 18:58:13  00:48:46     33.47   \n",
       "1199 2022-11-30 08:17:23 2022-11-30 08:45:27  00:28:04     17.47   \n",
       "1200 2022-11-30 20:28:37 2022-11-30 21:03:52  00:35:15     18.87   \n",
       "\n",
       "      electricity_used    MPGe     mikWh  start_soc  end_soc   temp  \\\n",
       "0                12.64  121.44  3.602848     0.0000   0.0000  31.81   \n",
       "3                13.19  116.46  3.454890     0.5608   0.3216  36.96   \n",
       "4                 1.67  108.13  3.209581     0.7726   0.7451  30.52   \n",
       "5                 0.97  116.10  3.443299     0.7451   0.7294  28.45   \n",
       "6                 0.18   84.94  2.500000     0.7294   0.7216  28.40   \n",
       "...                ...     ...       ...        ...      ...    ...   \n",
       "1196              5.89  100.71  2.988115     1.0000   0.8980  35.67   \n",
       "1197              4.03  119.67  3.550868     0.8980   0.8392  39.10   \n",
       "1198              9.83  114.76  3.404883     0.8392   0.6706  35.00   \n",
       "1199              5.57  105.74  3.136445     1.0000   0.9058  41.45   \n",
       "1200              5.06  125.66  3.729249     0.9058   0.8235  45.73   \n",
       "\n",
       "      start_range   end_range  \n",
       "0        0.000000    0.000000  \n",
       "3      127.875155   73.332115  \n",
       "4      163.661662  157.836273  \n",
       "5      169.329736  165.761790  \n",
       "6      120.351000  119.064000  \n",
       "...           ...         ...  \n",
       "1196   197.215620  177.099626  \n",
       "1197   210.452873  196.672663  \n",
       "1198   188.586936  150.698760  \n",
       "1199   207.005386  187.505479  \n",
       "1200   222.944948  202.688413  \n",
       "\n",
       "[1092 rows x 12 columns]"
      ]
     },
     "execution_count": 11,
     "metadata": {},
     "output_type": "execute_result"
    }
   ],
   "source": [
    "trips"
   ]
  },
  {
   "cell_type": "markdown",
   "id": "5d47a85e",
   "metadata": {},
   "source": [
    "## Handling Missing Data"
   ]
  },
  {
   "cell_type": "code",
   "execution_count": 12,
   "id": "f05691d5",
   "metadata": {},
   "outputs": [
    {
     "data": {
      "text/plain": [
       "start_date          1092\n",
       "end_date            1092\n",
       "duration            1092\n",
       "distance            1092\n",
       "electricity_used    1092\n",
       "MPGe                1092\n",
       "mikWh               1092\n",
       "start_soc           1092\n",
       "end_soc             1092\n",
       "temp                 924\n",
       "start_range         1092\n",
       "end_range           1092\n",
       "dtype: int64"
      ]
     },
     "execution_count": 12,
     "metadata": {},
     "output_type": "execute_result"
    }
   ],
   "source": [
    "# Finding missing data\n",
    "np.sum(~trips.isnull())"
   ]
  },
  {
   "cell_type": "markdown",
   "id": "b453cb81",
   "metadata": {},
   "source": [
    "## Temperature NaN Values"
   ]
  },
  {
   "cell_type": "markdown",
   "id": "a8403872",
   "metadata": {},
   "source": [
    "There does not seem to be a pattern regarding the missing temperature data. \n",
    "\n",
    "There are 168 temperature data points missing, out of a total of 1092 data points. \n",
    "\n",
    "***13%*** of the temperature data points are missing. I have chosen to interpolate the missing data with a linear model. "
   ]
  },
  {
   "cell_type": "code",
   "execution_count": 13,
   "id": "7a8e59da",
   "metadata": {
    "scrolled": true
   },
   "outputs": [
    {
     "data": {
      "text/html": [
       "<div>\n",
       "<style scoped>\n",
       "    .dataframe tbody tr th:only-of-type {\n",
       "        vertical-align: middle;\n",
       "    }\n",
       "\n",
       "    .dataframe tbody tr th {\n",
       "        vertical-align: top;\n",
       "    }\n",
       "\n",
       "    .dataframe thead th {\n",
       "        text-align: right;\n",
       "    }\n",
       "</style>\n",
       "<table border=\"1\" class=\"dataframe\">\n",
       "  <thead>\n",
       "    <tr style=\"text-align: right;\">\n",
       "      <th></th>\n",
       "      <th>start_date</th>\n",
       "      <th>end_date</th>\n",
       "      <th>duration</th>\n",
       "      <th>distance</th>\n",
       "      <th>electricity_used</th>\n",
       "      <th>MPGe</th>\n",
       "      <th>mikWh</th>\n",
       "      <th>start_soc</th>\n",
       "      <th>end_soc</th>\n",
       "      <th>temp</th>\n",
       "      <th>start_range</th>\n",
       "      <th>end_range</th>\n",
       "    </tr>\n",
       "  </thead>\n",
       "  <tbody>\n",
       "    <tr>\n",
       "      <th>33</th>\n",
       "      <td>2022-03-05 15:51:54</td>\n",
       "      <td>2022-03-05 15:59:33</td>\n",
       "      <td>00:07:39</td>\n",
       "      <td>1.62</td>\n",
       "      <td>0.69</td>\n",
       "      <td>79.34</td>\n",
       "      <td>2.347826</td>\n",
       "      <td>0.7647</td>\n",
       "      <td>0.7568</td>\n",
       "      <td>NaN</td>\n",
       "      <td>118.495252</td>\n",
       "      <td>117.271096</td>\n",
       "    </tr>\n",
       "    <tr>\n",
       "      <th>51</th>\n",
       "      <td>2022-03-09 17:18:45</td>\n",
       "      <td>2022-03-09 17:20:06</td>\n",
       "      <td>00:01:21</td>\n",
       "      <td>0.12</td>\n",
       "      <td>0.03</td>\n",
       "      <td>136.13</td>\n",
       "      <td>4.000000</td>\n",
       "      <td>0.7058</td>\n",
       "      <td>0.7098</td>\n",
       "      <td>NaN</td>\n",
       "      <td>186.331200</td>\n",
       "      <td>187.387200</td>\n",
       "    </tr>\n",
       "    <tr>\n",
       "      <th>58</th>\n",
       "      <td>2022-03-11 00:54:56</td>\n",
       "      <td>2022-03-11 00:55:33</td>\n",
       "      <td>00:00:37</td>\n",
       "      <td>0.04</td>\n",
       "      <td>0.01</td>\n",
       "      <td>148.70</td>\n",
       "      <td>4.000000</td>\n",
       "      <td>0.3020</td>\n",
       "      <td>0.3020</td>\n",
       "      <td>NaN</td>\n",
       "      <td>79.728000</td>\n",
       "      <td>79.728000</td>\n",
       "    </tr>\n",
       "    <tr>\n",
       "      <th>62</th>\n",
       "      <td>2022-03-12 07:59:54</td>\n",
       "      <td>2022-03-12 08:01:07</td>\n",
       "      <td>00:01:13</td>\n",
       "      <td>0.01</td>\n",
       "      <td>0.01</td>\n",
       "      <td>20.94</td>\n",
       "      <td>1.000000</td>\n",
       "      <td>0.4824</td>\n",
       "      <td>0.5333</td>\n",
       "      <td>NaN</td>\n",
       "      <td>31.838400</td>\n",
       "      <td>35.197800</td>\n",
       "    </tr>\n",
       "    <tr>\n",
       "      <th>97</th>\n",
       "      <td>2022-03-19 16:05:20</td>\n",
       "      <td>2022-03-19 16:09:49</td>\n",
       "      <td>00:04:29</td>\n",
       "      <td>0.72</td>\n",
       "      <td>0.16</td>\n",
       "      <td>150.92</td>\n",
       "      <td>4.500000</td>\n",
       "      <td>0.5804</td>\n",
       "      <td>0.6000</td>\n",
       "      <td>NaN</td>\n",
       "      <td>172.378800</td>\n",
       "      <td>178.200000</td>\n",
       "    </tr>\n",
       "    <tr>\n",
       "      <th>...</th>\n",
       "      <td>...</td>\n",
       "      <td>...</td>\n",
       "      <td>...</td>\n",
       "      <td>...</td>\n",
       "      <td>...</td>\n",
       "      <td>...</td>\n",
       "      <td>...</td>\n",
       "      <td>...</td>\n",
       "      <td>...</td>\n",
       "      <td>...</td>\n",
       "      <td>...</td>\n",
       "      <td>...</td>\n",
       "    </tr>\n",
       "    <tr>\n",
       "      <th>1162</th>\n",
       "      <td>2022-11-19 15:25:29</td>\n",
       "      <td>2022-11-19 16:10:34</td>\n",
       "      <td>00:45:05</td>\n",
       "      <td>23.87</td>\n",
       "      <td>6.63</td>\n",
       "      <td>121.36</td>\n",
       "      <td>3.600302</td>\n",
       "      <td>0.8118</td>\n",
       "      <td>0.6941</td>\n",
       "      <td>NaN</td>\n",
       "      <td>192.899843</td>\n",
       "      <td>164.931979</td>\n",
       "    </tr>\n",
       "    <tr>\n",
       "      <th>1170</th>\n",
       "      <td>2022-11-22 12:44:33</td>\n",
       "      <td>2022-11-22 12:49:55</td>\n",
       "      <td>00:05:22</td>\n",
       "      <td>1.60</td>\n",
       "      <td>0.06</td>\n",
       "      <td>899.52</td>\n",
       "      <td>26.666667</td>\n",
       "      <td>0.9137</td>\n",
       "      <td>0.9137</td>\n",
       "      <td>NaN</td>\n",
       "      <td>1608.112000</td>\n",
       "      <td>1608.112000</td>\n",
       "    </tr>\n",
       "    <tr>\n",
       "      <th>1180</th>\n",
       "      <td>2022-11-25 08:21:56</td>\n",
       "      <td>2022-11-25 09:07:08</td>\n",
       "      <td>00:45:12</td>\n",
       "      <td>35.56</td>\n",
       "      <td>10.62</td>\n",
       "      <td>112.87</td>\n",
       "      <td>3.348399</td>\n",
       "      <td>0.5098</td>\n",
       "      <td>0.3255</td>\n",
       "      <td>NaN</td>\n",
       "      <td>112.662920</td>\n",
       "      <td>71.933661</td>\n",
       "    </tr>\n",
       "    <tr>\n",
       "      <th>1189</th>\n",
       "      <td>2022-11-27 13:47:42</td>\n",
       "      <td>2022-11-27 13:49:15</td>\n",
       "      <td>00:01:33</td>\n",
       "      <td>0.24</td>\n",
       "      <td>0.07</td>\n",
       "      <td>115.19</td>\n",
       "      <td>3.428571</td>\n",
       "      <td>0.9882</td>\n",
       "      <td>0.9882</td>\n",
       "      <td>NaN</td>\n",
       "      <td>223.615543</td>\n",
       "      <td>223.615543</td>\n",
       "    </tr>\n",
       "    <tr>\n",
       "      <th>1192</th>\n",
       "      <td>2022-11-27 18:24:23</td>\n",
       "      <td>2022-11-27 18:31:18</td>\n",
       "      <td>00:06:55</td>\n",
       "      <td>1.80</td>\n",
       "      <td>0.23</td>\n",
       "      <td>264.16</td>\n",
       "      <td>7.826087</td>\n",
       "      <td>0.9529</td>\n",
       "      <td>0.9490</td>\n",
       "      <td>NaN</td>\n",
       "      <td>492.193565</td>\n",
       "      <td>490.179130</td>\n",
       "    </tr>\n",
       "  </tbody>\n",
       "</table>\n",
       "<p>168 rows × 12 columns</p>\n",
       "</div>"
      ],
      "text/plain": [
       "              start_date            end_date  duration  distance  \\\n",
       "33   2022-03-05 15:51:54 2022-03-05 15:59:33  00:07:39      1.62   \n",
       "51   2022-03-09 17:18:45 2022-03-09 17:20:06  00:01:21      0.12   \n",
       "58   2022-03-11 00:54:56 2022-03-11 00:55:33  00:00:37      0.04   \n",
       "62   2022-03-12 07:59:54 2022-03-12 08:01:07  00:01:13      0.01   \n",
       "97   2022-03-19 16:05:20 2022-03-19 16:09:49  00:04:29      0.72   \n",
       "...                  ...                 ...       ...       ...   \n",
       "1162 2022-11-19 15:25:29 2022-11-19 16:10:34  00:45:05     23.87   \n",
       "1170 2022-11-22 12:44:33 2022-11-22 12:49:55  00:05:22      1.60   \n",
       "1180 2022-11-25 08:21:56 2022-11-25 09:07:08  00:45:12     35.56   \n",
       "1189 2022-11-27 13:47:42 2022-11-27 13:49:15  00:01:33      0.24   \n",
       "1192 2022-11-27 18:24:23 2022-11-27 18:31:18  00:06:55      1.80   \n",
       "\n",
       "      electricity_used    MPGe      mikWh  start_soc  end_soc  temp  \\\n",
       "33                0.69   79.34   2.347826     0.7647   0.7568   NaN   \n",
       "51                0.03  136.13   4.000000     0.7058   0.7098   NaN   \n",
       "58                0.01  148.70   4.000000     0.3020   0.3020   NaN   \n",
       "62                0.01   20.94   1.000000     0.4824   0.5333   NaN   \n",
       "97                0.16  150.92   4.500000     0.5804   0.6000   NaN   \n",
       "...                ...     ...        ...        ...      ...   ...   \n",
       "1162              6.63  121.36   3.600302     0.8118   0.6941   NaN   \n",
       "1170              0.06  899.52  26.666667     0.9137   0.9137   NaN   \n",
       "1180             10.62  112.87   3.348399     0.5098   0.3255   NaN   \n",
       "1189              0.07  115.19   3.428571     0.9882   0.9882   NaN   \n",
       "1192              0.23  264.16   7.826087     0.9529   0.9490   NaN   \n",
       "\n",
       "      start_range    end_range  \n",
       "33     118.495252   117.271096  \n",
       "51     186.331200   187.387200  \n",
       "58      79.728000    79.728000  \n",
       "62      31.838400    35.197800  \n",
       "97     172.378800   178.200000  \n",
       "...           ...          ...  \n",
       "1162   192.899843   164.931979  \n",
       "1170  1608.112000  1608.112000  \n",
       "1180   112.662920    71.933661  \n",
       "1189   223.615543   223.615543  \n",
       "1192   492.193565   490.179130  \n",
       "\n",
       "[168 rows x 12 columns]"
      ]
     },
     "execution_count": 13,
     "metadata": {},
     "output_type": "execute_result"
    }
   ],
   "source": [
    "trips[trips.temp.isnull()].sort_values('start_date')#.describe()"
   ]
  },
  {
   "cell_type": "code",
   "execution_count": 14,
   "id": "1969311e",
   "metadata": {},
   "outputs": [
    {
     "data": {
      "text/plain": [
       "0"
      ]
     },
     "execution_count": 14,
     "metadata": {},
     "output_type": "execute_result"
    }
   ],
   "source": [
    "# SORT by date then Interpolate Missing data points based on recent days\n",
    "trips['temp'] = trips.sort_values('start_date').temp.interpolate(method = 'linear')\n",
    "\n",
    "# new 'temp' column missing data points\n",
    "np.sum(trips['temp'].isnull()) # 0"
   ]
  },
  {
   "cell_type": "markdown",
   "id": "0da4cbe1",
   "metadata": {},
   "source": [
    "## Write clean data to .csv"
   ]
  },
  {
   "cell_type": "code",
   "execution_count": 15,
   "id": "b9ad0f1a",
   "metadata": {},
   "outputs": [],
   "source": [
    "trips.to_csv('data/CLEAN-2019-Chevy-Bolt-Trip-Data.csv', sep=',', encoding='utf-8')"
   ]
  },
  {
   "cell_type": "markdown",
   "id": "a0264cf5",
   "metadata": {},
   "source": [
    "## Data Summary"
   ]
  },
  {
   "cell_type": "code",
   "execution_count": 16,
   "id": "fa16db69",
   "metadata": {
    "scrolled": true
   },
   "outputs": [
    {
     "data": {
      "text/html": [
       "<div>\n",
       "<style scoped>\n",
       "    .dataframe tbody tr th:only-of-type {\n",
       "        vertical-align: middle;\n",
       "    }\n",
       "\n",
       "    .dataframe tbody tr th {\n",
       "        vertical-align: top;\n",
       "    }\n",
       "\n",
       "    .dataframe thead th {\n",
       "        text-align: right;\n",
       "    }\n",
       "</style>\n",
       "<table border=\"1\" class=\"dataframe\">\n",
       "  <thead>\n",
       "    <tr style=\"text-align: right;\">\n",
       "      <th></th>\n",
       "      <th>distance</th>\n",
       "      <th>electricity_used</th>\n",
       "      <th>MPGe</th>\n",
       "      <th>mikWh</th>\n",
       "      <th>start_soc</th>\n",
       "      <th>end_soc</th>\n",
       "      <th>temp</th>\n",
       "      <th>start_range</th>\n",
       "      <th>end_range</th>\n",
       "    </tr>\n",
       "  </thead>\n",
       "  <tbody>\n",
       "    <tr>\n",
       "      <th>count</th>\n",
       "      <td>1092.000000</td>\n",
       "      <td>1092.000000</td>\n",
       "      <td>1092.000000</td>\n",
       "      <td>1092.000000</td>\n",
       "      <td>1092.000000</td>\n",
       "      <td>1092.000000</td>\n",
       "      <td>1092.000000</td>\n",
       "      <td>1092.000000</td>\n",
       "      <td>1092.000000</td>\n",
       "    </tr>\n",
       "    <tr>\n",
       "      <th>mean</th>\n",
       "      <td>15.934625</td>\n",
       "      <td>3.893306</td>\n",
       "      <td>152.240824</td>\n",
       "      <td>4.515056</td>\n",
       "      <td>0.726474</td>\n",
       "      <td>0.663368</td>\n",
       "      <td>65.677898</td>\n",
       "      <td>216.435830</td>\n",
       "      <td>199.327548</td>\n",
       "    </tr>\n",
       "    <tr>\n",
       "      <th>std</th>\n",
       "      <td>23.537214</td>\n",
       "      <td>5.667625</td>\n",
       "      <td>184.777458</td>\n",
       "      <td>5.470657</td>\n",
       "      <td>0.161817</td>\n",
       "      <td>0.184336</td>\n",
       "      <td>15.691951</td>\n",
       "      <td>275.939166</td>\n",
       "      <td>277.616239</td>\n",
       "    </tr>\n",
       "    <tr>\n",
       "      <th>min</th>\n",
       "      <td>0.010000</td>\n",
       "      <td>0.000000</td>\n",
       "      <td>0.000000</td>\n",
       "      <td>0.000000</td>\n",
       "      <td>0.000000</td>\n",
       "      <td>0.000000</td>\n",
       "      <td>23.420000</td>\n",
       "      <td>0.000000</td>\n",
       "      <td>0.000000</td>\n",
       "    </tr>\n",
       "    <tr>\n",
       "      <th>25%</th>\n",
       "      <td>1.707500</td>\n",
       "      <td>0.390000</td>\n",
       "      <td>107.897500</td>\n",
       "      <td>3.201098</td>\n",
       "      <td>0.653925</td>\n",
       "      <td>0.567625</td>\n",
       "      <td>53.570000</td>\n",
       "      <td>139.373270</td>\n",
       "      <td>117.428309</td>\n",
       "    </tr>\n",
       "    <tr>\n",
       "      <th>50%</th>\n",
       "      <td>5.290000</td>\n",
       "      <td>1.215000</td>\n",
       "      <td>132.995000</td>\n",
       "      <td>3.946428</td>\n",
       "      <td>0.749000</td>\n",
       "      <td>0.690200</td>\n",
       "      <td>67.725000</td>\n",
       "      <td>189.269131</td>\n",
       "      <td>168.324154</td>\n",
       "    </tr>\n",
       "    <tr>\n",
       "      <th>75%</th>\n",
       "      <td>18.500000</td>\n",
       "      <td>5.230000</td>\n",
       "      <td>165.630000</td>\n",
       "      <td>4.913897</td>\n",
       "      <td>0.815600</td>\n",
       "      <td>0.764700</td>\n",
       "      <td>78.800000</td>\n",
       "      <td>250.614535</td>\n",
       "      <td>231.463846</td>\n",
       "    </tr>\n",
       "    <tr>\n",
       "      <th>max</th>\n",
       "      <td>177.480000</td>\n",
       "      <td>42.320000</td>\n",
       "      <td>5374.050000</td>\n",
       "      <td>159.000000</td>\n",
       "      <td>1.000000</td>\n",
       "      <td>1.000000</td>\n",
       "      <td>99.540000</td>\n",
       "      <td>7983.835200</td>\n",
       "      <td>7983.835200</td>\n",
       "    </tr>\n",
       "  </tbody>\n",
       "</table>\n",
       "</div>"
      ],
      "text/plain": [
       "          distance  electricity_used         MPGe        mikWh    start_soc  \\\n",
       "count  1092.000000       1092.000000  1092.000000  1092.000000  1092.000000   \n",
       "mean     15.934625          3.893306   152.240824     4.515056     0.726474   \n",
       "std      23.537214          5.667625   184.777458     5.470657     0.161817   \n",
       "min       0.010000          0.000000     0.000000     0.000000     0.000000   \n",
       "25%       1.707500          0.390000   107.897500     3.201098     0.653925   \n",
       "50%       5.290000          1.215000   132.995000     3.946428     0.749000   \n",
       "75%      18.500000          5.230000   165.630000     4.913897     0.815600   \n",
       "max     177.480000         42.320000  5374.050000   159.000000     1.000000   \n",
       "\n",
       "           end_soc         temp  start_range    end_range  \n",
       "count  1092.000000  1092.000000  1092.000000  1092.000000  \n",
       "mean      0.663368    65.677898   216.435830   199.327548  \n",
       "std       0.184336    15.691951   275.939166   277.616239  \n",
       "min       0.000000    23.420000     0.000000     0.000000  \n",
       "25%       0.567625    53.570000   139.373270   117.428309  \n",
       "50%       0.690200    67.725000   189.269131   168.324154  \n",
       "75%       0.764700    78.800000   250.614535   231.463846  \n",
       "max       1.000000    99.540000  7983.835200  7983.835200  "
      ]
     },
     "execution_count": 16,
     "metadata": {},
     "output_type": "execute_result"
    }
   ],
   "source": [
    "trips.describe()"
   ]
  },
  {
   "cell_type": "code",
   "execution_count": 17,
   "id": "fde87ddc",
   "metadata": {},
   "outputs": [
    {
     "data": {
      "text/plain": [
       "0.5628122399055951"
      ]
     },
     "execution_count": 17,
     "metadata": {},
     "output_type": "execute_result"
    }
   ],
   "source": [
    "trips[trips.distance>18].corr().temp.mikWh"
   ]
  },
  {
   "cell_type": "code",
   "execution_count": 18,
   "id": "fe136517",
   "metadata": {},
   "outputs": [
    {
     "data": {
      "text/plain": [
       "4251.490000000001"
      ]
     },
     "execution_count": 18,
     "metadata": {},
     "output_type": "execute_result"
    }
   ],
   "source": [
    "trips.electricity_used.sum()\n"
   ]
  },
  {
   "cell_type": "code",
   "execution_count": 19,
   "id": "7255d2a7",
   "metadata": {},
   "outputs": [
    {
     "data": {
      "text/plain": [
       "1062.8725000000002"
      ]
     },
     "execution_count": 19,
     "metadata": {},
     "output_type": "execute_result"
    }
   ],
   "source": [
    "trips.electricity_used.sum()/4"
   ]
  },
  {
   "cell_type": "code",
   "execution_count": 20,
   "id": "7c2a0607",
   "metadata": {},
   "outputs": [
    {
     "data": {
      "text/plain": [
       "17400.61"
      ]
     },
     "execution_count": 20,
     "metadata": {},
     "output_type": "execute_result"
    }
   ],
   "source": [
    "trips.distance.sum()"
   ]
  },
  {
   "cell_type": "code",
   "execution_count": null,
   "id": "62bc65ad",
   "metadata": {},
   "outputs": [],
   "source": []
  },
  {
   "cell_type": "markdown",
   "id": "0940fa8a",
   "metadata": {},
   "source": [
    "## Does Distance have an Effect on Effeciency?"
   ]
  },
  {
   "cell_type": "code",
   "execution_count": 21,
   "id": "e7a27cbc",
   "metadata": {},
   "outputs": [
    {
     "name": "stdout",
     "output_type": "stream",
     "text": [
      "419\n",
      "394\n",
      "279\n"
     ]
    }
   ],
   "source": [
    "# Quick Look at counts at different distances\n",
    "short_trips = trips.loc[trips.distance<3.3]\n",
    "med_trips = trips.loc[(trips.distance>=3.3) & (trips.distance<18)]\n",
    "long_trips = trips.loc[trips.distance>=18]\n",
    "print(short_trips.distance.count())\n",
    "print(med_trips.distance.count())\n",
    "print(long_trips.distance.count())"
   ]
  },
  {
   "cell_type": "code",
   "execution_count": 22,
   "id": "ca092731",
   "metadata": {},
   "outputs": [
    {
     "data": {
      "image/png": "[encoded data removed]",
      "text/plain": [
       "<Figure size 1200x600 with 1 Axes>"
      ]
     },
     "metadata": {},
     "output_type": "display_data"
    }
   ],
   "source": [
    "fig, ax = plt.subplots()\n",
    "ax.hist(trips.distance, bins = 200)\n",
    "ax.xaxis.set_major_locator(ticker.MultipleLocator(4));"
   ]
  },
  {
   "cell_type": "code",
   "execution_count": 23,
   "id": "04b2842e",
   "metadata": {},
   "outputs": [],
   "source": [
    "# creating quick function to append column with a category for how long the trip was\n",
    "def distance_describer(x):\n",
    "    if x['distance'] < 3.3:\n",
    "        return 'Short Trip'\n",
    "    if (x['distance'] >= 3.3) & (x['distance'] <18):\n",
    "        return 'Medium Trip'\n",
    "    if x['distance'] >= 18:\n",
    "        return 'Long Trip'"
   ]
  },
  {
   "cell_type": "code",
   "execution_count": 24,
   "id": "3816144b",
   "metadata": {},
   "outputs": [
    {
     "data": {
      "text/html": [
       "<div>\n",
       "<style scoped>\n",
       "    .dataframe tbody tr th:only-of-type {\n",
       "        vertical-align: middle;\n",
       "    }\n",
       "\n",
       "    .dataframe tbody tr th {\n",
       "        vertical-align: top;\n",
       "    }\n",
       "\n",
       "    .dataframe thead th {\n",
       "        text-align: right;\n",
       "    }\n",
       "</style>\n",
       "<table border=\"1\" class=\"dataframe\">\n",
       "  <thead>\n",
       "    <tr style=\"text-align: right;\">\n",
       "      <th></th>\n",
       "      <th>start_date</th>\n",
       "      <th>end_date</th>\n",
       "      <th>duration</th>\n",
       "      <th>distance</th>\n",
       "      <th>electricity_used</th>\n",
       "      <th>MPGe</th>\n",
       "      <th>mikWh</th>\n",
       "      <th>start_soc</th>\n",
       "      <th>end_soc</th>\n",
       "      <th>temp</th>\n",
       "      <th>start_range</th>\n",
       "      <th>end_range</th>\n",
       "      <th>distance_desc</th>\n",
       "    </tr>\n",
       "  </thead>\n",
       "  <tbody>\n",
       "    <tr>\n",
       "      <th>0</th>\n",
       "      <td>2022-02-24 08:25:56</td>\n",
       "      <td>2022-02-24 09:32:13</td>\n",
       "      <td>01:06:17</td>\n",
       "      <td>45.54</td>\n",
       "      <td>12.64</td>\n",
       "      <td>121.44</td>\n",
       "      <td>3.602848</td>\n",
       "      <td>0.0000</td>\n",
       "      <td>0.0000</td>\n",
       "      <td>31.81</td>\n",
       "      <td>0.000000</td>\n",
       "      <td>0.000000</td>\n",
       "      <td>Long Trip</td>\n",
       "    </tr>\n",
       "    <tr>\n",
       "      <th>3</th>\n",
       "      <td>2022-02-24 18:00:42</td>\n",
       "      <td>2022-02-24 19:06:38</td>\n",
       "      <td>01:05:56</td>\n",
       "      <td>45.57</td>\n",
       "      <td>13.19</td>\n",
       "      <td>116.46</td>\n",
       "      <td>3.454890</td>\n",
       "      <td>0.5608</td>\n",
       "      <td>0.3216</td>\n",
       "      <td>36.96</td>\n",
       "      <td>127.875155</td>\n",
       "      <td>73.332115</td>\n",
       "      <td>Long Trip</td>\n",
       "    </tr>\n",
       "    <tr>\n",
       "      <th>4</th>\n",
       "      <td>2022-02-26 09:50:22</td>\n",
       "      <td>2022-02-26 10:03:52</td>\n",
       "      <td>00:13:30</td>\n",
       "      <td>5.36</td>\n",
       "      <td>1.67</td>\n",
       "      <td>108.13</td>\n",
       "      <td>3.209581</td>\n",
       "      <td>0.7726</td>\n",
       "      <td>0.7451</td>\n",
       "      <td>30.52</td>\n",
       "      <td>163.661662</td>\n",
       "      <td>157.836273</td>\n",
       "      <td>Medium Trip</td>\n",
       "    </tr>\n",
       "    <tr>\n",
       "      <th>5</th>\n",
       "      <td>2022-02-26 10:04:49</td>\n",
       "      <td>2022-02-26 10:12:17</td>\n",
       "      <td>00:07:28</td>\n",
       "      <td>3.34</td>\n",
       "      <td>0.97</td>\n",
       "      <td>116.10</td>\n",
       "      <td>3.443299</td>\n",
       "      <td>0.7451</td>\n",
       "      <td>0.7294</td>\n",
       "      <td>28.45</td>\n",
       "      <td>169.329736</td>\n",
       "      <td>165.761790</td>\n",
       "      <td>Medium Trip</td>\n",
       "    </tr>\n",
       "    <tr>\n",
       "      <th>6</th>\n",
       "      <td>2022-02-26 10:28:40</td>\n",
       "      <td>2022-02-26 10:31:18</td>\n",
       "      <td>00:02:38</td>\n",
       "      <td>0.45</td>\n",
       "      <td>0.18</td>\n",
       "      <td>84.94</td>\n",
       "      <td>2.500000</td>\n",
       "      <td>0.7294</td>\n",
       "      <td>0.7216</td>\n",
       "      <td>28.40</td>\n",
       "      <td>120.351000</td>\n",
       "      <td>119.064000</td>\n",
       "      <td>Short Trip</td>\n",
       "    </tr>\n",
       "    <tr>\n",
       "      <th>...</th>\n",
       "      <td>...</td>\n",
       "      <td>...</td>\n",
       "      <td>...</td>\n",
       "      <td>...</td>\n",
       "      <td>...</td>\n",
       "      <td>...</td>\n",
       "      <td>...</td>\n",
       "      <td>...</td>\n",
       "      <td>...</td>\n",
       "      <td>...</td>\n",
       "      <td>...</td>\n",
       "      <td>...</td>\n",
       "      <td>...</td>\n",
       "    </tr>\n",
       "    <tr>\n",
       "      <th>1196</th>\n",
       "      <td>2022-11-29 07:59:27</td>\n",
       "      <td>2022-11-29 08:25:02</td>\n",
       "      <td>00:25:35</td>\n",
       "      <td>17.60</td>\n",
       "      <td>5.89</td>\n",
       "      <td>100.71</td>\n",
       "      <td>2.988115</td>\n",
       "      <td>1.0000</td>\n",
       "      <td>0.8980</td>\n",
       "      <td>35.67</td>\n",
       "      <td>197.215620</td>\n",
       "      <td>177.099626</td>\n",
       "      <td>Medium Trip</td>\n",
       "    </tr>\n",
       "    <tr>\n",
       "      <th>1197</th>\n",
       "      <td>2022-11-29 15:38:54</td>\n",
       "      <td>2022-11-29 16:12:07</td>\n",
       "      <td>00:33:13</td>\n",
       "      <td>14.31</td>\n",
       "      <td>4.03</td>\n",
       "      <td>119.67</td>\n",
       "      <td>3.550868</td>\n",
       "      <td>0.8980</td>\n",
       "      <td>0.8392</td>\n",
       "      <td>39.10</td>\n",
       "      <td>210.452873</td>\n",
       "      <td>196.672663</td>\n",
       "      <td>Medium Trip</td>\n",
       "    </tr>\n",
       "    <tr>\n",
       "      <th>1198</th>\n",
       "      <td>2022-11-29 18:09:27</td>\n",
       "      <td>2022-11-29 18:58:13</td>\n",
       "      <td>00:48:46</td>\n",
       "      <td>33.47</td>\n",
       "      <td>9.83</td>\n",
       "      <td>114.76</td>\n",
       "      <td>3.404883</td>\n",
       "      <td>0.8392</td>\n",
       "      <td>0.6706</td>\n",
       "      <td>35.00</td>\n",
       "      <td>188.586936</td>\n",
       "      <td>150.698760</td>\n",
       "      <td>Long Trip</td>\n",
       "    </tr>\n",
       "    <tr>\n",
       "      <th>1199</th>\n",
       "      <td>2022-11-30 08:17:23</td>\n",
       "      <td>2022-11-30 08:45:27</td>\n",
       "      <td>00:28:04</td>\n",
       "      <td>17.47</td>\n",
       "      <td>5.57</td>\n",
       "      <td>105.74</td>\n",
       "      <td>3.136445</td>\n",
       "      <td>1.0000</td>\n",
       "      <td>0.9058</td>\n",
       "      <td>41.45</td>\n",
       "      <td>207.005386</td>\n",
       "      <td>187.505479</td>\n",
       "      <td>Medium Trip</td>\n",
       "    </tr>\n",
       "    <tr>\n",
       "      <th>1200</th>\n",
       "      <td>2022-11-30 20:28:37</td>\n",
       "      <td>2022-11-30 21:03:52</td>\n",
       "      <td>00:35:15</td>\n",
       "      <td>18.87</td>\n",
       "      <td>5.06</td>\n",
       "      <td>125.66</td>\n",
       "      <td>3.729249</td>\n",
       "      <td>0.9058</td>\n",
       "      <td>0.8235</td>\n",
       "      <td>45.73</td>\n",
       "      <td>222.944948</td>\n",
       "      <td>202.688413</td>\n",
       "      <td>Long Trip</td>\n",
       "    </tr>\n",
       "  </tbody>\n",
       "</table>\n",
       "<p>1092 rows × 13 columns</p>\n",
       "</div>"
      ],
      "text/plain": [
       "              start_date            end_date  duration  distance  \\\n",
       "0    2022-02-24 08:25:56 2022-02-24 09:32:13  01:06:17     45.54   \n",
       "3    2022-02-24 18:00:42 2022-02-24 19:06:38  01:05:56     45.57   \n",
       "4    2022-02-26 09:50:22 2022-02-26 10:03:52  00:13:30      5.36   \n",
       "5    2022-02-26 10:04:49 2022-02-26 10:12:17  00:07:28      3.34   \n",
       "6    2022-02-26 10:28:40 2022-02-26 10:31:18  00:02:38      0.45   \n",
       "...                  ...                 ...       ...       ...   \n",
       "1196 2022-11-29 07:59:27 2022-11-29 08:25:02  00:25:35     17.60   \n",
       "1197 2022-11-29 15:38:54 2022-11-29 16:12:07  00:33:13     14.31   \n",
       "1198 2022-11-29 18:09:27 2022-11-29 18:58:13  00:48:46     33.47   \n",
       "1199 2022-11-30 08:17:23 2022-11-30 08:45:27  00:28:04     17.47   \n",
       "1200 2022-11-30 20:28:37 2022-11-30 21:03:52  00:35:15     18.87   \n",
       "\n",
       "      electricity_used    MPGe     mikWh  start_soc  end_soc   temp  \\\n",
       "0                12.64  121.44  3.602848     0.0000   0.0000  31.81   \n",
       "3                13.19  116.46  3.454890     0.5608   0.3216  36.96   \n",
       "4                 1.67  108.13  3.209581     0.7726   0.7451  30.52   \n",
       "5                 0.97  116.10  3.443299     0.7451   0.7294  28.45   \n",
       "6                 0.18   84.94  2.500000     0.7294   0.7216  28.40   \n",
       "...                ...     ...       ...        ...      ...    ...   \n",
       "1196              5.89  100.71  2.988115     1.0000   0.8980  35.67   \n",
       "1197              4.03  119.67  3.550868     0.8980   0.8392  39.10   \n",
       "1198              9.83  114.76  3.404883     0.8392   0.6706  35.00   \n",
       "1199              5.57  105.74  3.136445     1.0000   0.9058  41.45   \n",
       "1200              5.06  125.66  3.729249     0.9058   0.8235  45.73   \n",
       "\n",
       "      start_range   end_range distance_desc  \n",
       "0        0.000000    0.000000     Long Trip  \n",
       "3      127.875155   73.332115     Long Trip  \n",
       "4      163.661662  157.836273   Medium Trip  \n",
       "5      169.329736  165.761790   Medium Trip  \n",
       "6      120.351000  119.064000    Short Trip  \n",
       "...           ...         ...           ...  \n",
       "1196   197.215620  177.099626   Medium Trip  \n",
       "1197   210.452873  196.672663   Medium Trip  \n",
       "1198   188.586936  150.698760     Long Trip  \n",
       "1199   207.005386  187.505479   Medium Trip  \n",
       "1200   222.944948  202.688413     Long Trip  \n",
       "\n",
       "[1092 rows x 13 columns]"
      ]
     },
     "execution_count": 24,
     "metadata": {},
     "output_type": "execute_result"
    }
   ],
   "source": [
    "#appending Column to Dataframe describing if the trip was short, medium, or long\n",
    "trips['distance_desc'] = trips.apply(lambda x: distance_describer(x), axis = 1)\n",
    "trips"
   ]
  },
  {
   "cell_type": "code",
   "execution_count": 25,
   "id": "90fc94d1",
   "metadata": {},
   "outputs": [
    {
     "data": {
      "image/png": "[encoded data removed]",
      "text/plain": [
       "<Figure size 616.75x500 with 1 Axes>"
      ]
     },
     "metadata": {},
     "output_type": "display_data"
    }
   ],
   "source": [
    "blue = '#377eb8'\n",
    "orange = '#ff7f00'\n",
    "green = '#4daf4a'\n",
    "pink = '#f781bf'\n",
    "brown = '#a65628'\n",
    "purple = '#984ea3'\n",
    "grey = '#999999'\n",
    "red = '#e41a1c'\n",
    "yellow = '#dede00'\n",
    "\n",
    "g = sns.lmplot(x='distance', y='mikWh',\\\n",
    "               data=trips[(trips.mikWh<15)&(trips.distance_desc == 'Short Trip')],\\\n",
    "               hue='distance_desc',\\\n",
    "               palette = [green,blue,red], scatter_kws={\"s\": 20, \"alpha\":.5})\n",
    "g._legend.remove()\n",
    "plt.title('Distance Efficiency')\n",
    "plt.xlabel('Distance in Miles')\n",
    "plt.ylabel('mi/kWh')\n",
    "plt.savefig(\"images/distance_eff_1\",bbox_inches='tight');"
   ]
  },
  {
   "cell_type": "code",
   "execution_count": 26,
   "id": "f9c6fa15",
   "metadata": {},
   "outputs": [
    {
     "data": {
      "image/png": "[encoded data removed]",
      "text/plain": [
       "<Figure size 635x500 with 1 Axes>"
      ]
     },
     "metadata": {},
     "output_type": "display_data"
    }
   ],
   "source": [
    "blue = '#377eb8'\n",
    "orange = '#ff7f00'\n",
    "green = '#4daf4a'\n",
    "pink = '#f781bf'\n",
    "brown = '#a65628'\n",
    "purple = '#984ea3'\n",
    "grey = '#999999'\n",
    "red = '#e41a1c'\n",
    "yellow = '#dede00'\n",
    "\n",
    "g = sns.lmplot(x='distance', y='mikWh',\\\n",
    "           data=trips[(trips.mikWh<15)&(trips.distance_desc == 'Short Trip')|(trips.distance_desc == 'Medium Trip')], hue='distance_desc',\\\n",
    "           palette = [green,blue,red], scatter_kws={\"s\": 20, \"alpha\":.5})\n",
    "g._legend.remove()\n",
    "plt.legend(title='',bbox_to_anchor=(0.57, .75), loc='upper left', borderaxespad=0)\n",
    "plt.title('Distance Efficiency')\n",
    "plt.xlabel('Distance in Miles')\n",
    "plt.ylabel('mi/kWh')\n",
    "plt.savefig(\"images/distance_eff_2\",bbox_inches='tight');\n",
    "\n"
   ]
  },
  {
   "cell_type": "code",
   "execution_count": 27,
   "id": "3eec334c",
   "metadata": {},
   "outputs": [
    {
     "data": {
      "image/png": "[encoded data removed]",
      "text/plain": [
       "<Figure size 635x500 with 1 Axes>"
      ]
     },
     "metadata": {},
     "output_type": "display_data"
    }
   ],
   "source": [
    "blue = '#377eb8'\n",
    "orange = '#ff7f00'\n",
    "green = '#4daf4a'\n",
    "pink = '#f781bf'\n",
    "brown = '#a65628'\n",
    "purple = '#984ea3'\n",
    "grey = '#999999'\n",
    "red = '#e41a1c'\n",
    "yellow = '#dede00'\n",
    "\n",
    "g = sns.lmplot(x='distance', y='mikWh',\\\n",
    "           data=trips[(trips.mikWh<15)&((trips.distance_desc == 'Short Trip')|(trips.distance_desc == 'Long Trip')|(trips.distance_desc == 'Medium Trip'))],\\\n",
    "           hue='distance_desc',\\\n",
    "           palette = [green,blue,red], scatter_kws={\"s\": 20, \"alpha\":.5})\n",
    "\n",
    "g._legend.remove()\n",
    "plt.legend(title='',bbox_to_anchor=(0.57, .75), loc='upper left', borderaxespad=0)\n",
    "plt.title('Distance Efficiency')\n",
    "plt.xlabel('Distance in Miles')\n",
    "plt.ylabel('mi/kWh')\n",
    "plt.savefig(\"images/distance_eff_3\", bbox_inches='tight');"
   ]
  },
  {
   "cell_type": "code",
   "execution_count": null,
   "id": "d2183fe6",
   "metadata": {},
   "outputs": [],
   "source": []
  },
  {
   "cell_type": "code",
   "execution_count": 43,
   "id": "0a67ad43",
   "metadata": {},
   "outputs": [
    {
     "data": {
      "image/png": "[encoded data removed]",
      "text/plain": [
       "<Figure size 635x500 with 1 Axes>"
      ]
     },
     "metadata": {},
     "output_type": "display_data"
    }
   ],
   "source": [
    "blue = '#377eb8'\n",
    "orange = '#ff7f00'\n",
    "green = '#4daf4a'\n",
    "pink = '#f781bf'\n",
    "brown = '#a65628'\n",
    "purple = '#984ea3'\n",
    "grey = '#999999'\n",
    "red = '#e41a1c'\n",
    "yellow = '#dede00'\n",
    "\n",
    "def mi_format(x, pos):\n",
    "    return '{:3.0f} mi'.format(x)\n",
    "\n",
    "\n",
    "\n",
    "g = sns.lmplot(x='distance', y='mikWh', data=trips[trips.mikWh<15],\\\n",
    "               hue='distance_desc', palette = [green,blue,red], scatter_kws={\"s\": 20, \"alpha\":.5})\n",
    "g.set(xscale=\"log\") \n",
    "plt.grid(which='major')\n",
    "g._legend.remove()\n",
    "\n",
    "# labeling\n",
    "\n",
    "\n",
    "# g.set_xticklabels(mi_format)\n",
    "\n",
    "\n",
    "plt.legend(title='',bbox_to_anchor=(0.05, .75), loc='upper left', borderaxespad=0)\n",
    "plt.title('Distance Efficiency')\n",
    "plt.xlabel('Distance in Miles')\n",
    "ax.get_xaxis().set_major_formatter(ticker.FuncFormatter(lambda x, p: format(int(x), ',')))\n",
    "\n",
    "plt.ylabel('mi/kWh')\n",
    "\n",
    "\n",
    "# plt.ticklabel_format(style='plain', axis='x',useOffset=False)\n",
    "plt.savefig(\"images/distance_eff_4\", bbox_inches='tight');"
   ]
  },
  {
   "cell_type": "markdown",
   "id": "59fc4b54",
   "metadata": {},
   "source": [
    "## Does time of day have an Effect on Effeciency?"
   ]
  },
  {
   "cell_type": "code",
   "execution_count": null,
   "id": "b07a1ad9",
   "metadata": {},
   "outputs": [],
   "source": [
    "def time_describe(x):\n",
    "    if (x >= 0) and (x < 6):\n",
    "        return 'Wee Hours'\n",
    "    elif (x >= 6) and (x < 12):\n",
    "        return 'Morning'\n",
    "    elif (x >= 12) and (x <= 18):\n",
    "        return'Afternoon'\n",
    "    elif (x >= 16) and (x < 24) :\n",
    "        return 'Night'"
   ]
  },
  {
   "cell_type": "code",
   "execution_count": null,
   "id": "a8119645",
   "metadata": {},
   "outputs": [],
   "source": [
    "trips['time_desc'] = trips.start_date.dt.hour.apply(time_describe)\n",
    "trips"
   ]
  },
  {
   "cell_type": "code",
   "execution_count": null,
   "id": "30a7a8d1",
   "metadata": {},
   "outputs": [],
   "source": [
    "# Average efficiency by time of day\n",
    "time_group = trips.groupby('time_desc')\n",
    "time_group.mikWh.mean()"
   ]
  },
  {
   "cell_type": "code",
   "execution_count": null,
   "id": "9a5ca3cf",
   "metadata": {},
   "outputs": [],
   "source": [
    "# Count of trips by time of day\n",
    "\n",
    "time_group.start_date.count()"
   ]
  },
  {
   "cell_type": "code",
   "execution_count": null,
   "id": "689e6238",
   "metadata": {},
   "outputs": [],
   "source": []
  },
  {
   "cell_type": "code",
   "execution_count": null,
   "id": "c774419a",
   "metadata": {},
   "outputs": [],
   "source": [
    "blue = '#377eb8'\n",
    "orange = '#ff7f00'\n",
    "green = '#4daf4a'\n",
    "pink = '#f781bf'\n",
    "brown = '#a65628'\n",
    "purple = '#984ea3'\n",
    "grey = '#999999'\n",
    "red = '#e41a1c'\n",
    "yellow = '#dede00'\n",
    "\n",
    "# fig, ax = plt.subplots()\n",
    "\n",
    "y = trips.mikWh\n",
    "x = trips.time_desc\n",
    "\n",
    "\n",
    "g = sns.boxplot(x=x, y=y, palette = [orange,blue,green,red], data=trips, showfliers = False, order = ['Wee Hours','Morning','Afternoon','Night'])\n",
    "\n",
    "plt.title('Time of Day vs Efficiency')\n",
    "plt.xlabel('')\n",
    "g.spines['bottom'].set_visible(True)\n",
    "g.spines['left'].set_visible(True)\n",
    "g.spines['right'].set_visible(False)\n",
    "g.spines['top'].set_visible(False)\n",
    "plt.savefig(\"images/time_eff\", bbox_inches='tight');\n",
    "\n",
    "# The shape exapands as the traffic conditions worsen."
   ]
  },
  {
   "cell_type": "markdown",
   "id": "e89b256d",
   "metadata": {},
   "source": [
    "# Column Analysis"
   ]
  },
  {
   "cell_type": "markdown",
   "id": "178f710f",
   "metadata": {},
   "source": [
    "## Skewness and Kurtosis\n",
    "\n",
    "<img src=\"images/skewness.png\" width=\"500\" align = \"left\"/>"
   ]
  },
  {
   "cell_type": "markdown",
   "id": "6104c1e8",
   "metadata": {},
   "source": [
    "<img src=\"images/kurtosis.jpg\" width=\"400\" align = \"left\"/>"
   ]
  },
  {
   "cell_type": "code",
   "execution_count": null,
   "id": "8370c864",
   "metadata": {},
   "outputs": [],
   "source": [
    "# Skewness: asymmetry from the norm\n",
    "print(f\"Skewness: {trips[r'temp'].skew()}\")\n",
    "print(f\"Kurtosis: {trips[r'temp'].kurt()}\")"
   ]
  },
  {
   "cell_type": "code",
   "execution_count": null,
   "id": "bff8fa2d",
   "metadata": {},
   "outputs": [],
   "source": [
    "trips"
   ]
  },
  {
   "cell_type": "code",
   "execution_count": null,
   "id": "aab352a1",
   "metadata": {},
   "outputs": [],
   "source": [
    "trips_facet = trips.iloc[:,3:12]\n",
    "\n",
    "f, axes = plt.subplots(3, 3, figsize=(10, 10), sharex=False)\n",
    "sns.distplot(trips_facet.distance, ax=axes[0,0])\n",
    "sns.distplot(trips_facet.electricity_used, ax=axes[0,1])\n",
    "sns.distplot(trips_facet.MPGe, ax=axes[0,2])\n",
    "sns.distplot(trips_facet.mikWh, ax=axes[1,0])\n",
    "sns.distplot(trips_facet.start_soc, ax=axes[1,1])\n",
    "sns.distplot(trips_facet.end_soc, ax=axes[1,2])\n",
    "sns.distplot(trips_facet.temp, ax=axes[2,0])\n",
    "sns.distplot(trips_facet.start_range, ax=axes[2,1])\n",
    "sns.distplot(trips_facet.end_range, ax=axes[2,2])\n",
    "\n",
    "for i, ax in enumerate(axes.reshape(-1)):\n",
    "    ax.text(x=0.97, y=0.97, transform=ax.transAxes, s=\"Skewness: %f\" % trips_facet.iloc[:,i].skew(),\\\n",
    "        fontweight='demibold', fontsize=7, verticalalignment='top', horizontalalignment='right',\\\n",
    "        backgroundcolor='white', color='xkcd:poo brown')\n",
    "    ax.text(x=0.97, y=0.91, transform=ax.transAxes, s=\"Kurtosis: %f\" % trips_facet.iloc[:,i].kurt(),\\\n",
    "        fontweight='demibold', fontsize=7, verticalalignment='top', horizontalalignment='right',\\\n",
    "        backgroundcolor='white', color='xkcd:dried blood')\n",
    "    ax.text(x=0.97, y=0.85, transform=ax.transAxes, s=\"Mean: %f\" % trips_facet.iloc[:,i].mean(),\\\n",
    "        fontweight='demibold', fontsize=7, verticalalignment='top', horizontalalignment='right',\\\n",
    "        backgroundcolor='white', color='teal')\n",
    "plt.tight_layout();\n",
    "\n"
   ]
  },
  {
   "cell_type": "markdown",
   "id": "f09eb4cc",
   "metadata": {},
   "source": [
    "-------------------------------------\n",
    "\n",
    "The data has a total of ***1092*** observations."
   ]
  },
  {
   "cell_type": "markdown",
   "id": "55831417",
   "metadata": {},
   "source": [
    "This data takes place in the <u>**temp range 23-100&deg;F**</u>"
   ]
  },
  {
   "cell_type": "code",
   "execution_count": null,
   "id": "501c092a",
   "metadata": {},
   "outputs": [],
   "source": [
    "print(trips.temp.min())\n",
    "print(trips.temp.max())"
   ]
  },
  {
   "cell_type": "markdown",
   "id": "6002a918",
   "metadata": {},
   "source": [
    "## Trips by day"
   ]
  },
  {
   "cell_type": "code",
   "execution_count": null,
   "id": "8b764624",
   "metadata": {
    "scrolled": false
   },
   "outputs": [],
   "source": [
    "# creating a dataframe to summarize information by day\n",
    "trips_by_day = trips.groupby([trips['start_date'].dt.date]).sum()\n",
    "trips_by_day"
   ]
  },
  {
   "cell_type": "code",
   "execution_count": null,
   "id": "b8d5abf0",
   "metadata": {},
   "outputs": [],
   "source": [
    "trips_by_day.distance.mean()"
   ]
  },
  {
   "cell_type": "code",
   "execution_count": null,
   "id": "9d87f9f6",
   "metadata": {},
   "outputs": [],
   "source": [
    "trips_by_day.distance.max()"
   ]
  },
  {
   "cell_type": "markdown",
   "id": "5fe21a58",
   "metadata": {},
   "source": [
    "## distance \n",
    "Avg trip <u>**distance**</u> is 15.9 mi"
   ]
  },
  {
   "cell_type": "code",
   "execution_count": null,
   "id": "cecccb15",
   "metadata": {},
   "outputs": [],
   "source": [
    "trips.distance.max()"
   ]
  },
  {
   "cell_type": "code",
   "execution_count": null,
   "id": "131a9906",
   "metadata": {
    "scrolled": true
   },
   "outputs": [],
   "source": [
    "trips.distance.mean()"
   ]
  },
  {
   "cell_type": "markdown",
   "id": "cc45fe1f",
   "metadata": {},
   "source": [
    "I've taken 38 trips over 60 mi. "
   ]
  },
  {
   "cell_type": "code",
   "execution_count": null,
   "id": "cf4825c5",
   "metadata": {},
   "outputs": [],
   "source": [
    "trips.distance[trips.distance > 90].count()"
   ]
  },
  {
   "cell_type": "code",
   "execution_count": null,
   "id": "a8d77b23",
   "metadata": {},
   "outputs": [],
   "source": [
    "date1 = pd.to_datetime('2/24/22')\n",
    "date2 = pd.to_datetime('12/17/22')\n",
    "total_trips_days = date2-date1 # 296 days\n",
    "trips_per_day = 1092/296\n",
    "trips_per_day"
   ]
  },
  {
   "cell_type": "code",
   "execution_count": null,
   "id": "581c4e6e",
   "metadata": {},
   "outputs": [],
   "source": [
    "trips.distance.sum()"
   ]
  },
  {
   "cell_type": "code",
   "execution_count": null,
   "id": "6258d394",
   "metadata": {},
   "outputs": [],
   "source": [
    "trips[trips.end_soc <.05]"
   ]
  },
  {
   "cell_type": "code",
   "execution_count": null,
   "id": "cbacee35",
   "metadata": {},
   "outputs": [],
   "source": [
    "\n",
    "\n",
    "facecolor = 'white'\n",
    "color_bars = '#377eb8'\n",
    "txt_color1 = 'k'\n",
    "txt_color2 = 'k'\n",
    "fig, ax = plt.subplots(1, figsize=(20,6), facecolor=facecolor)\n",
    "ax.set_facecolor(facecolor)\n",
    "n, bins, patches = plt.hist(trips.distance, color=color_bars, bins='doane')\n",
    "\n",
    "#grid\n",
    "\n",
    "plt.grid(which='minor', color=facecolor, lw = 0.5)\n",
    "xticks = [(bins[idx+1] + value)/2 for idx, value in enumerate(bins[:-1])]\n",
    "xticks_labels = [ \"{:.0f}-{:.0f}\".format(value, bins[idx+1]) for idx, value in enumerate(bins[:-1])]\n",
    "plt.xticks(xticks, labels=xticks_labels, c=txt_color1, fontsize=13)\n",
    "\n",
    "# remove major and minor ticks from the x axis, but keep the labels\n",
    "ax.tick_params(axis='x', which='both',length=0)\n",
    "\n",
    "# remove y ticks\n",
    "plt.yticks([])\n",
    "\n",
    "# Hide the right and top spines\n",
    "ax.spines['bottom'].set_visible(False)\n",
    "ax.spines['left'].set_visible(False)\n",
    "ax.spines['right'].set_visible(False)\n",
    "ax.spines['top'].set_visible(False)\n",
    "for idx, value in enumerate(n):\n",
    "    if value > 0:\n",
    "        plt.text(xticks[idx], value+5, int(value), ha='center', fontsize=16, c=txt_color1)\n",
    "plt.title('Miles Driven\\n', fontsize = 30, c=txt_color1)\n",
    "plt.xlabel('\\nMiles', c=txt_color2, fontsize=20)\n",
    "plt.ylabel('Trip Count', c=txt_color2, fontsize=20)\n",
    "plt.tight_layout()\n",
    "plt.savefig(\"images/distance_histogram\",bbox_inches='tight')"
   ]
  },
  {
   "cell_type": "markdown",
   "id": "79edfa7d",
   "metadata": {},
   "source": [
    "### Short trips < 3.3 mi\n",
    "The distance series is very skewed  to the left (3.19) toward shorter trips. \n",
    "\n",
    "Because the data is skewed so much that way, I want to take a look at these shorter trips and see if they are properly distributed and verify the quality of the data.  "
   ]
  },
  {
   "cell_type": "code",
   "execution_count": null,
   "id": "3d5c4d93",
   "metadata": {
    "scrolled": false
   },
   "outputs": [],
   "source": [
    "fig, ax = plt.subplots()\n",
    "x = short_trips.distance\n",
    "sns.distplot(x)\n",
    "\n",
    "\n",
    "ax.text(x=0.97, y=0.97, transform=ax.transAxes, s=\"Skewness: %f\" % x.skew(),\\\n",
    "    fontweight='demibold', fontsize=7, verticalalignment='top', horizontalalignment='right',\\\n",
    "    backgroundcolor='white', color='xkcd:poo brown')\n",
    "ax.text(x=0.97, y=0.91, transform=ax.transAxes, s=\"Kurtosis: %f\" % x.kurt(),\\\n",
    "    fontweight='demibold', fontsize=7, verticalalignment='top', horizontalalignment='right',\\\n",
    "    backgroundcolor='white', color='xkcd:dried blood')\n",
    "ax.text(x=0.97, y=0.85, transform=ax.transAxes, s=\"Mean: %f\" % x.mean(),\\\n",
    "    fontweight='demibold', fontsize=7, verticalalignment='top', horizontalalignment='right',\\\n",
    "    backgroundcolor='white', color='teal')\n",
    "plt.tight_layout()\n",
    ";\n"
   ]
  },
  {
   "cell_type": "code",
   "execution_count": null,
   "id": "7dde407e",
   "metadata": {},
   "outputs": [],
   "source": [
    "### Medium trips"
   ]
  },
  {
   "cell_type": "code",
   "execution_count": null,
   "id": "94624ef7",
   "metadata": {},
   "outputs": [],
   "source": [
    "fig, ax = plt.subplots()\n",
    "x = trips[trips.distance_desc == 'Medium Trip'].distance\n",
    "sns.distplot(x)\n",
    "\n",
    "\n",
    "ax.text(x=0.97, y=0.97, transform=ax.transAxes, s=\"Skewness: %f\" % x.skew(),\\\n",
    "    fontweight='demibold', fontsize=7, verticalalignment='top', horizontalalignment='right',\\\n",
    "    backgroundcolor='white', color='xkcd:poo brown')\n",
    "ax.text(x=0.97, y=0.91, transform=ax.transAxes, s=\"Kurtosis: %f\" % x.kurt(),\\\n",
    "    fontweight='demibold', fontsize=7, verticalalignment='top', horizontalalignment='right',\\\n",
    "    backgroundcolor='white', color='xkcd:dried blood')\n",
    "ax.text(x=0.97, y=0.85, transform=ax.transAxes, s=\"Mean: %f\" % x.mean(),\\\n",
    "    fontweight='demibold', fontsize=7, verticalalignment='top', horizontalalignment='right',\\\n",
    "    backgroundcolor='white', color='teal')\n",
    "plt.tight_layout();"
   ]
  },
  {
   "cell_type": "code",
   "execution_count": null,
   "id": "5b18eaca",
   "metadata": {},
   "outputs": [],
   "source": [
    "### Long Trips"
   ]
  },
  {
   "cell_type": "code",
   "execution_count": null,
   "id": "4a7cb4b8",
   "metadata": {},
   "outputs": [],
   "source": [
    "fig, ax = plt.subplots()\n",
    "x = x = trips[trips.distance_desc == 'Long Trip'].distance\n",
    "sns.distplot(x)\n",
    "\n",
    "\n",
    "ax.text(x=0.97, y=0.97, transform=ax.transAxes, s=\"Skewness: %f\" % x.skew(),\\\n",
    "    fontweight='demibold', fontsize=7, verticalalignment='top', horizontalalignment='right',\\\n",
    "    backgroundcolor='white', color='xkcd:poo brown')\n",
    "ax.text(x=0.97, y=0.91, transform=ax.transAxes, s=\"Kurtosis: %f\" % x.kurt(),\\\n",
    "    fontweight='demibold', fontsize=7, verticalalignment='top', horizontalalignment='right',\\\n",
    "    backgroundcolor='white', color='xkcd:dried blood')\n",
    "ax.text(x=0.97, y=0.85, transform=ax.transAxes, s=\"Mean: %f\" % x.mean(),\\\n",
    "    fontweight='demibold', fontsize=7, verticalalignment='top', horizontalalignment='right',\\\n",
    "    backgroundcolor='white', color='teal')\n",
    "plt.tight_layout();"
   ]
  },
  {
   "cell_type": "markdown",
   "id": "403edbea",
   "metadata": {},
   "source": [
    "## electricity_used"
   ]
  },
  {
   "cell_type": "markdown",
   "id": "7bc19b1e",
   "metadata": {},
   "source": [
    "An average trip uses <u>**3.89 kWh of energy**</u>.\n",
    "\n",
    "This represents <u>**5.9%**</u> of the 66kWh Battery's capacity. \n",
    "\n",
    "This means if the battery is charged to 100%, on average a Chevy Bolt owner could get <u>**16 trips out of single charge.**</u> \n",
    "\n",
    "However, This is unrealistic because you shouldn't start a trip with less than 10%. In my dataset I started a trip with less than 10% <u>**2 times**</u> and ended a trip with less than 10% <u>**7 times**</u>. You also shouldn't really charge past 80% of the capcity. I did this <u>**305 times**</u>. ...Whoops.\n",
    "\n",
    "So following all the best practices you are looking at an AVG of 11 trips of 15.5mi(3.88 kWh) each per responsible Charge. "
   ]
  },
  {
   "cell_type": "code",
   "execution_count": null,
   "id": "81c88c74",
   "metadata": {},
   "outputs": [],
   "source": [
    "print(trips.electricity_used.mean()/66)\n",
    "print(66//trips.electricity_used.mean())\n",
    "print((66*.7)//trips.electricity_used.mean())\n",
    "print(trips.loc[trips['start_soc']<.10,'distance'].count()) # amount of times I started a trip with less than 10%\n",
    "print(trips.loc[trips['end_soc']<.10,'distance'].count()) # amount of times I ended a trip with less than 10%\n",
    "print(trips.loc[trips['start_soc']>.80,'distance'].count()) # amount of times I started a trip with more than 80%"
   ]
  },
  {
   "cell_type": "markdown",
   "id": "70dcb97f",
   "metadata": {},
   "source": [
    "11 trips, averaging 15 miles each sounds suffecient to me, but there are consumers that feel this isn't enough. And rightly fully so, considering that the US Federal Highway Administration shows that the average daily miles driven is ***36.9 miles*** * meaning that you could expect to get roughly two days out of the Chevy Bolt before you need to chargeup.\n",
    "\n",
    "*https://www.fhwa.dot.gov/ohim/onh00/bar8.htm\n",
    "\n"
   ]
  },
  {
   "cell_type": "code",
   "execution_count": null,
   "id": "58f3008f",
   "metadata": {},
   "outputs": [],
   "source": [
    "13476/365\n",
    "(66*.7)/36.9"
   ]
  },
  {
   "cell_type": "code",
   "execution_count": null,
   "id": "9af514ab",
   "metadata": {},
   "outputs": [],
   "source": []
  },
  {
   "cell_type": "markdown",
   "id": "72f611b3",
   "metadata": {},
   "source": [
    "However, the interesting thing that most consumer's do not understand, is that the biggest benefit to an electric vehicle is that you have a \"Gas Station\" in your own home. Every day you come home, you can plug in your vehicle and it's back to full by the next day.\n",
    "\n",
    "This completely changes way drivers think about the chore of \"re-fueling\".I RARELY have to go out of my way to refuel this past year. \n",
    "\n",
    "Most drivers visit the gas station 2-4 amount of times a month.\n",
    "\n",
    "I have visited a charging station 12 times this year to charge out of neccesity outside of my garage.  "
   ]
  },
  {
   "cell_type": "markdown",
   "id": "9ec08d57",
   "metadata": {},
   "source": [
    "Average starting <u>**State of Charge(SOC):**</u> is ***70%***, meaning I have followed good charging practices for the health of the battery and that the data is more realistic/representative towards reccomended best practices, and not idealistic numbers. "
   ]
  },
  {
   "cell_type": "code",
   "execution_count": null,
   "id": "5138cb12",
   "metadata": {
    "scrolled": true
   },
   "outputs": [],
   "source": [
    "trips.start_soc.mean()"
   ]
  },
  {
   "cell_type": "code",
   "execution_count": null,
   "id": "dbba5546",
   "metadata": {},
   "outputs": [],
   "source": [
    "trips.end_soc.mean()"
   ]
  },
  {
   "cell_type": "markdown",
   "id": "b82286a2",
   "metadata": {},
   "source": [
    "****Calculating MPGe****\n",
    "\n",
    "In order to make any comparisions to gas vehicles we need some sort of conversion. The USA Environmental Protection Agency (EPA) has come up with a converstion to compare MPG to mi/kWh. It is called MPGe or \"Miles per gallon equivalent\"\n",
    "\n",
    "Without getting too much in the weeds, the basis behind the conversion is that both burning gasoline and using electricity generates heat. so MPGe is essentially the heat equivalent of MPG. \n",
    "\n",
    "1 gallon of gas = 115,000 BTUs = 33.7kWh"
   ]
  },
  {
   "cell_type": "markdown",
   "id": "732947dc",
   "metadata": {},
   "source": [
    "<u> The avg MPGe for my trip data is 149.5 </u>"
   ]
  },
  {
   "cell_type": "code",
   "execution_count": null,
   "id": "2f67c369",
   "metadata": {},
   "outputs": [],
   "source": [
    "trips.MPGe.mean()"
   ]
  },
  {
   "cell_type": "markdown",
   "id": "5fb46c8d",
   "metadata": {},
   "source": [
    "and an avg <u>trip effeciency: 4.49 mi/kWh</u>"
   ]
  },
  {
   "cell_type": "code",
   "execution_count": null,
   "id": "6c65bbdc",
   "metadata": {},
   "outputs": [],
   "source": [
    "trips.mikWh.mean()"
   ]
  },
  {
   "cell_type": "markdown",
   "id": "787ec3d2",
   "metadata": {},
   "source": [
    "# What do I do with Extreme mikWh values?\n",
    "it's messing up the visuals and data?\n"
   ]
  },
  {
   "cell_type": "code",
   "execution_count": null,
   "id": "310898ac",
   "metadata": {},
   "outputs": [],
   "source": [
    "trips.sort_values('MPGe', ascending = False)"
   ]
  },
  {
   "cell_type": "code",
   "execution_count": null,
   "id": "af207191",
   "metadata": {},
   "outputs": [],
   "source": []
  },
  {
   "cell_type": "code",
   "execution_count": null,
   "id": "bbca6d6c",
   "metadata": {},
   "outputs": [],
   "source": [
    "# electricity_used\n",
    "x = trips['start_date']\n",
    "y = trips['electricity_used']\n",
    "plt.hist(y, bins = 20);\n"
   ]
  },
  {
   "cell_type": "code",
   "execution_count": null,
   "id": "7f358c8a",
   "metadata": {},
   "outputs": [],
   "source": [
    "# MPGe\n",
    "y = trips['MPGe']\n",
    "\n",
    "plt.hist(y,bins=10);"
   ]
  },
  {
   "cell_type": "code",
   "execution_count": null,
   "id": "3af39cb7",
   "metadata": {},
   "outputs": [],
   "source": [
    "# mikWh\n",
    "y = trips['mikWh']\n",
    "plt.hist(y,bins=40);"
   ]
  },
  {
   "cell_type": "code",
   "execution_count": null,
   "id": "50a0740e",
   "metadata": {},
   "outputs": [],
   "source": [
    "# start_soc\n",
    "y = trips['start_soc']\n",
    "plt.hist(y,bins=25);"
   ]
  },
  {
   "cell_type": "code",
   "execution_count": null,
   "id": "24b6e255",
   "metadata": {
    "scrolled": false
   },
   "outputs": [],
   "source": [
    "# end_soc\n",
    "y = trips['end_soc']\n",
    "plt.hist(y,bins=25);"
   ]
  },
  {
   "cell_type": "code",
   "execution_count": null,
   "id": "a41ccdf6",
   "metadata": {},
   "outputs": [],
   "source": [
    "y1 = trips.start_soc\n",
    "y2 = trips.end_soc\n",
    "plt.hist(y1, alpha = .5, bins=20, color = 'blue')\n",
    "plt.hist(y2, alpha = .5, bins=20, color = 'orange');"
   ]
  },
  {
   "cell_type": "code",
   "execution_count": null,
   "id": "e39eb97b",
   "metadata": {},
   "outputs": [],
   "source": [
    "my_fmt = mdates.DateFormatter('%m')\n",
    "\n",
    "def fahr_format(x, pos):\n",
    "    \"\"\"The two arguments are the value and tick position.\"\"\"\n",
    "    return '{:3.0f}°F'.format(x)\n",
    "\n",
    "\n",
    "x = trips['start_date']\n",
    "y = trips['temp']\n",
    "\n",
    "fig, ax = plt.subplots()\n",
    "ax.scatter(x,y,c = trips.loc[:,'temp'], cmap = 'coolwarm')\n",
    "\n",
    "ax.set_title('Climate Range')\n",
    "\n",
    "ax.xaxis.set_major_formatter(\n",
    "    mdates.ConciseDateFormatter(ax.xaxis.get_major_locator()))\n",
    "ax.yaxis.set_major_formatter(fahr_format)\n",
    "# ax.ticklabel_format(axis='y',) FormatStrFormatter('%°f')\n",
    "\n",
    "# ax.set_yticklabels(['{:,\\d}'.format(x) for x in ax])\n"
   ]
  },
  {
   "cell_type": "code",
   "execution_count": null,
   "id": "3cad0bc0",
   "metadata": {},
   "outputs": [],
   "source": [
    "# temp\n",
    "# my_fmt = mdates.DateFormatter('%d')\n",
    "# months = mdates.MonthLocator()  # every month\n",
    "\n",
    "x = trips['start_date']\n",
    "y = trips['temp']\n",
    "plt.scatter(x,y, c = trips.loc[:,'temp'], cmap = 'coolwarm')\n",
    "plt.title(\"Driving Conditions\")\n",
    "\n",
    "# ax.xaxis.set_major_formatter(my_fmt);"
   ]
  },
  {
   "cell_type": "markdown",
   "id": "064b6449",
   "metadata": {},
   "source": [
    "## Range"
   ]
  },
  {
   "cell_type": "markdown",
   "id": "4d7755f5",
   "metadata": {},
   "source": [
    "MOST range with at least 80% battery was ***390 mi***"
   ]
  },
  {
   "cell_type": "code",
   "execution_count": null,
   "id": "cb120df8",
   "metadata": {},
   "outputs": [],
   "source": [
    "trips[trips.distance >18].start_range.max()\n"
   ]
  },
  {
   "cell_type": "markdown",
   "id": "5784de2f",
   "metadata": {},
   "source": [
    "LEAST range with at least 80% battery was ***185 mi***"
   ]
  },
  {
   "cell_type": "code",
   "execution_count": null,
   "id": "cf74c105",
   "metadata": {},
   "outputs": [],
   "source": [
    "trips[(trips.distance >18) & (trips.start_range > 0) & (trips.start_soc > .8)].start_range.min()"
   ]
  },
  {
   "cell_type": "code",
   "execution_count": null,
   "id": "298e02ef",
   "metadata": {},
   "outputs": [],
   "source": [
    "y1 = trips[trips.distance > 18].start_range\n",
    "\n",
    "plt.hist(y1,bins=20);"
   ]
  },
  {
   "cell_type": "code",
   "execution_count": null,
   "id": "b7927c4a",
   "metadata": {},
   "outputs": [],
   "source": [
    "# end_range\n",
    "y2 = trips[trips.distance > 18].end_range \n",
    "plt.hist(y2,bins=20);"
   ]
  },
  {
   "cell_type": "code",
   "execution_count": null,
   "id": "3706b42a",
   "metadata": {},
   "outputs": [],
   "source": [
    "# BOTH ranges overlayed\n",
    "y1 = trips[trips.distance > 18].start_range\n",
    "y2 = trips[trips.distance > 18].end_range\n",
    "plt.hist(y1, alpha = .5, bins=20)\n",
    "plt.hist(y2, alpha = .5, bins=20);"
   ]
  },
  {
   "cell_type": "code",
   "execution_count": null,
   "id": "3cc83c09",
   "metadata": {},
   "outputs": [],
   "source": [
    "trips[trips[r'mikWh']<15]"
   ]
  },
  {
   "cell_type": "code",
   "execution_count": null,
   "id": "d679ae5b",
   "metadata": {},
   "outputs": [],
   "source": [
    "# temp = trips[trips[r'mi/kWh']<15]\n",
    "# x = temp[r'mi/kWh']\n",
    "# y = temp[r'Ambient Temperature (F)']\n",
    "# a, b = np.polyfit(x, y, 1)"
   ]
  },
  {
   "cell_type": "code",
   "execution_count": null,
   "id": "e78c7c21",
   "metadata": {},
   "outputs": [],
   "source": [
    "sns.lmplot(y = r'mikWh', x = r'temp', data = trips)\n"
   ]
  },
  {
   "cell_type": "code",
   "execution_count": null,
   "id": "ca914942",
   "metadata": {},
   "outputs": [],
   "source": [
    "def fahr_format(x, pos):\n",
    "    \"\"\"The two arguments are the value and tick position.\"\"\"\n",
    "    return '{:3.0f}°F'.format(x)\n",
    "\n",
    "# values\n",
    "x = trips[trips[r'mikWh']<10].mikWh\n",
    "y = trips[trips[r'mikWh']<10].temp\n",
    "\n",
    "# plotting\n",
    "fig, ax = plt.subplots()\n",
    "\n",
    "ax.scatter(x=x, y=y,\\\n",
    "        c = trips.loc[trips[r'mikWh']<10,:][r'temp'],\\\n",
    "        cmap = 'coolwarm', alpha = 1)\n",
    "\n",
    "\n",
    "\n",
    "# Labelling \n",
    "ax.set_title('Battery Effeciency')\n",
    "ax.set_xlabel('mikWh')\n",
    "ax.yaxis.set_major_formatter(fahr_format);\n",
    "\n",
    "\n",
    "\n",
    "# sns.lmplot(x = r'mikWh', y = r'temp', data = temp)\n",
    "# sns.jointplot(x = r'mikWh', y = r'temp', data = temp);\n",
    "# temp.plot(x, a*x+b) \n",
    "\n",
    "\n",
    "# # Fit linear regression via least squares with numpy.polyfit\n",
    "# # It returns an slope (b) and intercept (a)\n",
    "# # deg=1 means linear fit (i.e. polynomial of degree 1)\n",
    "# b, a = np.polyfit(x, y, deg=1)\n",
    "\n",
    "# # Create sequence of 100 numbers from 0 to 100 \n",
    "# xseq = np.linspace(0, 10, num=100)\n",
    "\n",
    "# # Plot regression line\n",
    "# ax.plot(xseq, a + b * xseq, color=\"k\", lw=2.5);\n"
   ]
  },
  {
   "cell_type": "code",
   "execution_count": null,
   "id": "c40e9fce",
   "metadata": {},
   "outputs": [],
   "source": [
    "def fahr_format(x, pos):\n",
    "    return '{:3.0f}°F'.format(x)\n",
    "\n",
    "# values\n",
    "x = trips[trips[r'mikWh']<10].mikWh\n",
    "y = trips[trips[r'mikWh']<10].temp\n",
    "\n",
    "# plotting\n",
    "fig, ax = plt.subplots()\n",
    "\n",
    "ax.scatter(x=x, y=y,\\\n",
    "        c = trips.loc[trips[r'mikWh']<10,:][r'temp'],\\\n",
    "        cmap = 'coolwarm', alpha = 1)\n",
    "\n",
    "# Linear Regression Line\n",
    "b, a = np.polyfit(x, y, deg=1)\n",
    "xseq = np.linspace(0, 10, num=100)\n",
    "ax.plot(xseq, a + b * xseq, color=\"grey\", lw=1, linestyle = '--', alpha = .7)\n",
    "\n",
    "# Labelling \n",
    "ax.set_title('Battery Effeciency')\n",
    "ax.set_xlabel('mikWh')\n",
    "ax.yaxis.set_major_formatter(fahr_format);\n",
    "\n",
    "temp_cor = trips[trips.distance>18].corr().temp.mikWh\n",
    "t = ax.text(x=0.88, y=0.675, transform=ax.transAxes, s = f\"Correlation: {temp_cor:.1%}\",\\\n",
    "    fontweight='demibold', fontsize=7, verticalalignment='top', horizontalalignment='right',\\\n",
    "    backgroundcolor='white', color='Grey', rotation=5.2)\n",
    "\n",
    "t.set_bbox(dict(facecolor='white', alpha=0, linewidth=0));"
   ]
  },
  {
   "cell_type": "markdown",
   "id": "809c6ce7",
   "metadata": {},
   "source": [
    "### Summer vs. Winter performance"
   ]
  },
  {
   "cell_type": "code",
   "execution_count": null,
   "id": "89e2176e",
   "metadata": {},
   "outputs": [],
   "source": [
    "# 40f and under\n",
    "cold_avg = trips[(trips.distance>18)&(trips.temp<40)].mikWh.mean()\n",
    "cold_range = cold_avg*66\n",
    "print('cold avg:', f'{cold_avg:.2f}')\n",
    "print('cold range:', f'{cold_range:.2f}')\n",
    "\n",
    "print('-'*30)\n",
    "# between 40-70\n",
    "norm_avg = trips[(trips.distance>18)&((trips.temp>=40)|(trips.temp<=70))].mikWh.mean()\n",
    "norm_range = norm_avg*66\n",
    "print('norm avg:', f'{norm_avg:.2f}')\n",
    "print('norm range:', f'{norm_range:.2f}')\n",
    "\n",
    "print('-'*30)\n",
    "# 70f and above\n",
    "warm_avg = trips[(trips.distance>18)&(trips.temp>70)].mikWh.mean()\n",
    "warm_range = warm_avg*66\n",
    "print('warm avg:', f'{warm_avg:.2f}')\n",
    "print('warm range:', f'{warm_range:.2f}')"
   ]
  },
  {
   "cell_type": "code",
   "execution_count": null,
   "id": "331e7662",
   "metadata": {},
   "outputs": [],
   "source": [
    "(warm_range - cold_range)/cold_range"
   ]
  },
  {
   "cell_type": "code",
   "execution_count": null,
   "id": "1eac734d",
   "metadata": {},
   "outputs": [],
   "source": [
    "# creating quick function to append column with a category for how the temperature feels\n",
    "def temp_describer(x):\n",
    "    if x['temp'] < 40:\n",
    "        return 'Cold'\n",
    "    if (x['temp'] >= 40) & (x['temp'] <70):\n",
    "        return 'Normal'\n",
    "    if x['temp'] >= 70:\n",
    "        return 'Hot'"
   ]
  },
  {
   "cell_type": "code",
   "execution_count": null,
   "id": "5629e6bc",
   "metadata": {},
   "outputs": [],
   "source": [
    "trips['temp_desc'] = trips.apply(lambda x: temp_describer(x), axis = 1)\n"
   ]
  },
  {
   "cell_type": "code",
   "execution_count": null,
   "id": "b1b242f1",
   "metadata": {},
   "outputs": [],
   "source": [
    "blue = '#377eb8'\n",
    "orange = '#ff7f00'\n",
    "green = '#4daf4a'\n",
    "pink = '#f781bf'\n",
    "brown = '#a65628'\n",
    "purple = '#984ea3'\n",
    "grey = '#999999'\n",
    "red = '#e41a1c'\n",
    "yellow = '#dede00'\n",
    "\n",
    "sns.lmplot(y='temp', x='mikWh',\\\n",
    "               data=trips[(trips[r'mikWh']<10)], scatter_kws={\"s\": 20, \"alpha\":.5, 'color':blue})\n",
    "\n",
    "plt.title('Temperature Efficiency')\n",
    "plt.xlabel('mi/kWh')\n",
    "plt.ylabel('Temperature')\n",
    "plt.savefig(\"images/temp_lmplot\",bbox_inches='tight');"
   ]
  },
  {
   "cell_type": "code",
   "execution_count": null,
   "id": "83467b6c",
   "metadata": {},
   "outputs": [],
   "source": [
    "def fahr_format(x, pos):\n",
    "    return '{:3.0f}°F'.format(x)\n",
    "\n",
    "# values\n",
    "x = trips[(trips[r'mikWh']<10)&(trips['temp']<40)].mikWh\n",
    "y = trips[(trips[r'mikWh']<10)&(trips['temp']<40)].temp\n",
    "blue = '#377eb8'\n",
    "orange = '#ff7f00'\n",
    "green = '#4daf4a'\n",
    "pink = '#f781bf'\n",
    "brown = '#a65628'\n",
    "purple = '#984ea3'\n",
    "grey = '#999999'\n",
    "red = '#e41a1c'\n",
    "yellow = '#dede00'\n",
    "\n",
    "colors = {'Cold':blue, 'Normal':green, 'Hot':red}\n",
    "# plotting\n",
    "fig, ax = plt.subplots()\n",
    "\n",
    "ax.scatter(x=x, y=y, c=trips[(trips[r'mikWh']<10)&(trips['temp']<40)].temp_desc.map(colors), alpha = .5)\n",
    "\n",
    "# Labelling \n",
    "ax.set_title('Battery Efficiency')\n",
    "ax.set_xlabel('mi/kWh')\n",
    "ax.yaxis.set_major_formatter(fahr_format);\n",
    "\n",
    "\n",
    "ax.spines['bottom'].set_visible(True)\n",
    "ax.spines['left'].set_visible(True)\n",
    "ax.spines['right'].set_visible(False)\n",
    "ax.spines['top'].set_visible(False)\n",
    "ax.set_ylim(top=102, bottom=20)\n",
    "ax.set_xlim(left=-.25,right=11)\n",
    "\n",
    "\n",
    "c = ax.text(x=0.97, y=0.15, transform=ax.transAxes, s= f'Cold Avg: {cold_avg:.2f} mi/kWh',\\\n",
    "    fontweight='demibold', fontsize=10, verticalalignment='top', horizontalalignment='right',\\\n",
    "    backgroundcolor='white', color='white')\n",
    "c.set_bbox(dict(facecolor=blue, alpha=.7, linewidth=2))\n",
    "plt.savefig(\"images/temp1\",bbox_inches='tight');"
   ]
  },
  {
   "cell_type": "code",
   "execution_count": null,
   "id": "ef74ea78",
   "metadata": {},
   "outputs": [],
   "source": [
    "def fahr_format(x, pos):\n",
    "    return '{:3.0f}°F'.format(x)\n",
    "\n",
    "# values\n",
    "x = trips[(trips[r'mikWh']<10)&(trips['temp']<70)].mikWh\n",
    "y = trips[(trips[r'mikWh']<10)&(trips['temp']<70)].temp\n",
    "blue = '#377eb8'\n",
    "orange = '#ff7f00'\n",
    "green = '#4daf4a'\n",
    "pink = '#f781bf'\n",
    "brown = '#a65628'\n",
    "purple = '#984ea3'\n",
    "grey = '#999999'\n",
    "red = '#e41a1c'\n",
    "yellow = '#dede00'\n",
    "\n",
    "colors = {'Cold':blue, 'Normal':green, 'Hot':red}\n",
    "# plotting\n",
    "fig, ax = plt.subplots()\n",
    "\n",
    "ax.scatter(x=x, y=y, c=trips[(trips[r'mikWh']<10)&(trips['temp']<70)].temp_desc.map(colors), alpha = .5)\n",
    "\n",
    "# Labelling \n",
    "ax.set_title('Battery Efficiency')\n",
    "ax.set_xlabel('mi/kWh')\n",
    "ax.yaxis.set_major_formatter(fahr_format);\n",
    "\n",
    "\n",
    "ax.spines['bottom'].set_visible(True)\n",
    "ax.spines['left'].set_visible(True)\n",
    "ax.spines['right'].set_visible(False)\n",
    "ax.spines['top'].set_visible(False)\n",
    "ax.set_ylim(top=102, bottom=20)\n",
    "ax.set_xlim(left=-.25,right=11)\n",
    "\n",
    "n = ax.text(x=0.97, y=0.5, transform=ax.transAxes, s= f'Normal Avg: {norm_avg:.2f} mi/kWh',\\\n",
    "    fontweight='demibold', fontsize=10, verticalalignment='top', horizontalalignment='right',\\\n",
    "    backgroundcolor='white', color='white')\n",
    "n.set_bbox(dict(facecolor=green, alpha=.7, linewidth=2))\n",
    "\n",
    "c = ax.text(x=0.97, y=0.15, transform=ax.transAxes, s= f'Cold Avg: {cold_avg:.2f} mi/kWh',\\\n",
    "    fontweight='demibold', fontsize=10, verticalalignment='top', horizontalalignment='right',\\\n",
    "    backgroundcolor='white', color='white')\n",
    "c.set_bbox(dict(facecolor=blue, alpha=.7, linewidth=2))\n",
    "plt.savefig(\"images/temp2\",bbox_inches='tight');"
   ]
  },
  {
   "cell_type": "code",
   "execution_count": null,
   "id": "1a157132",
   "metadata": {},
   "outputs": [],
   "source": [
    "def fahr_format(x, pos):\n",
    "    return '{:3.0f}°F'.format(x)\n",
    "\n",
    "# values\n",
    "x = trips[(trips[r'mikWh']<10)].mikWh\n",
    "y = trips[(trips[r'mikWh']<10)].temp\n",
    "blue = '#377eb8'\n",
    "orange = '#ff7f00'\n",
    "green = '#4daf4a'\n",
    "pink = '#f781bf'\n",
    "brown = '#a65628'\n",
    "purple = '#984ea3'\n",
    "grey = '#999999'\n",
    "red = '#e41a1c'\n",
    "yellow = '#dede00'\n",
    "\n",
    "colors = {'Cold':blue, 'Normal':green, 'Hot':red}\n",
    "# plotting\n",
    "fig, ax = plt.subplots()\n",
    "\n",
    "ax.scatter(x=x, y=y, c=trips[(trips[r'mikWh']<10)].temp_desc.map(colors), alpha = .5)\n",
    "\n",
    "# Labelling \n",
    "ax.set_title('Battery Efficiency')\n",
    "ax.set_xlabel('mi/kWh')\n",
    "ax.yaxis.set_major_formatter(fahr_format);\n",
    "\n",
    "\n",
    "ax.spines['bottom'].set_visible(True)\n",
    "ax.spines['left'].set_visible(True)\n",
    "ax.spines['right'].set_visible(False)\n",
    "ax.spines['top'].set_visible(False)\n",
    "ax.set_ylim(top=102, bottom=20)\n",
    "ax.set_xlim(left=-.25,right=11)\n",
    "\n",
    "w = ax.text(x=0.97, y=0.85, transform=ax.transAxes,\\\n",
    "            s= f'Warm Avg: {warm_avg:.2f} mi/kWh\\n Warm Range: {warm_range: .2f} mi',\\\n",
    "    fontweight='demibold', fontsize=10, verticalalignment='top', horizontalalignment='right',\\\n",
    "    backgroundcolor='white', color='white')\n",
    "w.set_bbox(dict(facecolor=red, alpha=.6, linewidth=2))\n",
    "\n",
    "n = ax.text(x=0.97, y=0.5, transform=ax.transAxes,\\\n",
    "            s= f'Normal Avg: {norm_avg:.2f} mi/kWh\\n Normal Range: {norm_range: .2f} mi',\\\n",
    "    fontweight='demibold', fontsize=10, verticalalignment='top', horizontalalignment='right',\\\n",
    "    backgroundcolor='white', color='white')\n",
    "n.set_bbox(dict(facecolor=green, alpha=.7, linewidth=2))\n",
    "\n",
    "c = ax.text(x=0.97, y=0.15, transform=ax.transAxes,\\\n",
    "            s= f'Cold Avg: {cold_avg:.2f} mi/kWh\\n Cold Range: {cold_range: .2f} mi',\\\n",
    "    fontweight='demibold', fontsize=10, verticalalignment='top', horizontalalignment='right',\\\n",
    "    backgroundcolor='white', color='white')\n",
    "c.set_bbox(dict(facecolor=blue, alpha=.7, linewidth=2))\n",
    "plt.savefig(\"images/temp3\",bbox_inches='tight');"
   ]
  },
  {
   "cell_type": "code",
   "execution_count": null,
   "id": "1e61be7b",
   "metadata": {},
   "outputs": [],
   "source": [
    "y = trips.mikWh\n",
    "x = trips.temp_desc\n",
    "blue = '#377eb8'\n",
    "orange = '#ff7f00'\n",
    "green = '#4daf4a'\n",
    "pink = '#f781bf'\n",
    "brown = '#a65628'\n",
    "purple = '#984ea3'\n",
    "grey = '#999999'\n",
    "red = '#e41a1c'\n",
    "yellow = '#dede00'\n",
    "colors = [blue, green,red]\n",
    "sns.set_palette(sns.color_palette(colors))\n",
    "\n",
    "g = sns.boxplot(x=x, y=y, data=trips, showfliers = False, order = ['Cold','Normal','Hot'])\n",
    "\n",
    "plt.xlabel('')\n",
    "g.spines['bottom'].set_visible(True)\n",
    "g.spines['left'].set_visible(True)\n",
    "g.spines['right'].set_visible(False)\n",
    "g.spines['top'].set_visible(False)\n",
    "\n",
    "w = g.text(x=0.77, y=0.935, transform=ax.transAxes, s= f'Warm Avg: {warm_avg:.2f}',\\\n",
    "    fontweight='demibold', fontsize=7, verticalalignment='top', horizontalalignment='right',\\\n",
    "    backgroundcolor='white', color='white')\n",
    "w.set_bbox(dict(facecolor=red, alpha=.6, linewidth=2))\n",
    "\n",
    "n = g.text(x=0.442, y=0.78, transform=ax.transAxes, s= f'Normal Avg: {warm_avg:.2f}',\\\n",
    "    fontweight='demibold', fontsize=7, verticalalignment='top', horizontalalignment='right',\\\n",
    "    backgroundcolor='white', color='white')\n",
    "n.set_bbox(dict(facecolor=green, alpha=.7, linewidth=2))\n",
    "\n",
    "c = g.text(x=0.1, y=0.527, transform=ax.transAxes, s= f'Cold Avg: {cold_avg:.2f}',\\\n",
    "    fontweight='demibold', fontsize=7, verticalalignment='top', horizontalalignment='right',\\\n",
    "    backgroundcolor='white', color='white')\n",
    "c.set_bbox(dict(facecolor=blue, alpha=.7, linewidth=2))\n",
    "plt.savefig(\"images/temp_boxplot\",bbox_inches='tight');\n",
    "\n",
    "\n",
    "\n",
    "\n",
    "\n",
    "\n",
    "\n",
    "# The shape exapands as the traffic conditions worsen."
   ]
  },
  {
   "cell_type": "code",
   "execution_count": null,
   "id": "2d68eed7",
   "metadata": {},
   "outputs": [],
   "source": []
  },
  {
   "cell_type": "code",
   "execution_count": null,
   "id": "d4a9037b",
   "metadata": {},
   "outputs": [],
   "source": [
    "trips"
   ]
  },
  {
   "cell_type": "markdown",
   "id": "c69c638c",
   "metadata": {},
   "source": [
    "------"
   ]
  },
  {
   "cell_type": "code",
   "execution_count": null,
   "id": "3b6d8168",
   "metadata": {},
   "outputs": [],
   "source": [
    "from matplotlib import ticker\n",
    "def fahr_format(x, pos):\n",
    "    return '{:3.0f}°F'.format(x)\n",
    "\n",
    "# # fig, ax = plt.subplots()\n",
    "# sns.lmplot(x = 'mikWh', y = r'temp', data = trips[trips.mikWh<15],scatter_kws={\"s\": 15, \"alpha\":.5})\n",
    "# fig.yaxis.set_major_formatter(fahr_format)\n",
    "# # fig.title('Temperature vs. Efficiency')\n",
    "# fig.xlabel('mi/kWh')\n",
    "# fig.ylabel('Temperature')\n",
    ";"
   ]
  },
  {
   "cell_type": "code",
   "execution_count": null,
   "id": "0f6f22ca",
   "metadata": {},
   "outputs": [],
   "source": [
    "sns.jointplot(x = r'mikWh', y = r'temp', data = trips[trips.mikWh<15])"
   ]
  },
  {
   "cell_type": "code",
   "execution_count": null,
   "id": "0129955b",
   "metadata": {},
   "outputs": [],
   "source": [
    "# import numpy as np\n",
    "# import matplotlib.pyplot as plt\n",
    "\n",
    "# #define data\n",
    "# x = np.array([1, 2, 3, 4, 5, 6, 7, 8])\n",
    "# y = np.array([2, 5, 6, 7, 9, 12, 16, 19])\n",
    "\n",
    "# #find line of best fit\n",
    "# a, b = np.polyfit(x, y, 1)\n",
    "\n",
    "# #add points to plot\n",
    "# plt.scatter(x, y, color='purple')\n",
    "\n",
    "# #add line of best fit to plot\n",
    "# plt.plot(x, a*x+b, color='steelblue', linestyle='--', linewidth=2)\n",
    "\n",
    "# #add fitted regression equation to plot\n",
    "# plt.text(1, 17, 'y = ' + '{:.2f}'.format(b) + ' + {:.2f}'.format(a) + 'x', size=14)"
   ]
  },
  {
   "cell_type": "markdown",
   "id": "9d28e6e9",
   "metadata": {},
   "source": [
    "# NEED TO FIX DURATION dtype"
   ]
  },
  {
   "cell_type": "code",
   "execution_count": null,
   "id": "1b2113a5",
   "metadata": {},
   "outputs": [],
   "source": [
    "\n",
    "\n",
    "\n",
    "# gas_prices['Duration'] = pd.datetime.time to_datetime(gas_prices['date'])\n",
    "# gas_prices.dtypes"
   ]
  },
  {
   "cell_type": "code",
   "execution_count": null,
   "id": "47ce85ff",
   "metadata": {},
   "outputs": [],
   "source": []
  },
  {
   "cell_type": "markdown",
   "id": "9ff0060f",
   "metadata": {},
   "source": [
    "# gas_prices\n",
    "NY Regular grade gasoline averages per week dating back to year 2000: source below\n",
    "\n",
    "[Data Source: US Energy Information Administration](https://www.eia.gov/dnav/pet/pet_pri_gnd_dcus_sny_w.htm)"
   ]
  },
  {
   "cell_type": "code",
   "execution_count": null,
   "id": "9d41e4cf",
   "metadata": {},
   "outputs": [],
   "source": [
    "# Skipping first 7 rows of data because it's the def section\n",
    "\n",
    "weekly_gas_prices = pd.read_csv('data/RAW-NY_Gas_prices_REGULAR_FORMULA_Weekly_Retail_Gasoline_and_Diesel_Prices.csv'\\\n",
    "                    , skiprows = 7, names = ['date','price'])\n",
    "\n",
    "weekly_gas_prices.head()"
   ]
  },
  {
   "cell_type": "code",
   "execution_count": null,
   "id": "279f2e41",
   "metadata": {},
   "outputs": [],
   "source": [
    "# Converting column 'date' to datetime\n",
    "weekly_gas_prices['date'] = pd.to_datetime(weekly_gas_prices['date'])\n",
    "weekly_gas_prices = weekly_gas_prices.rename(columns = {'date':'gas_price_date','price':'gas_price'})\n",
    "weekly_gas_prices"
   ]
  },
  {
   "cell_type": "code",
   "execution_count": null,
   "id": "befc07d2",
   "metadata": {
    "scrolled": true
   },
   "outputs": [],
   "source": [
    "# limiting data to 2022\n",
    "weekly_gas_prices = weekly_gas_prices[weekly_gas_prices['gas_price_date'].dt.year == 2022]\n",
    "weekly_gas_prices"
   ]
  },
  {
   "cell_type": "code",
   "execution_count": null,
   "id": "9a23f8a8",
   "metadata": {},
   "outputs": [],
   "source": [
    "from matplotlib.dates import DateFormatter\n",
    "\n",
    "blue = '#377eb8'\n",
    "orange = '#ff7f00'\n",
    "green = '#4daf4a'\n",
    "pink = '#f781bf'\n",
    "brown = '#a65628'\n",
    "purple = '#984ea3'\n",
    "grey = '#999999'\n",
    "red = '#e41a1c'\n",
    "yellow = '#dede00'\n",
    "\n",
    "x = weekly_gas_prices.gas_price_date\n",
    "y = weekly_gas_prices.gas_price\n",
    "date_form = DateFormatter(\"%b\")\n",
    "\n",
    "fig, ax = plt.subplots()\n",
    "ax.plot(x, y, color = brown)\n",
    "\n",
    "\n",
    "\n",
    "def dollar_format(x, pos):\n",
    "    \"\"\"The two arguments are the value and tick position.\"\"\"\n",
    "    return '${:1.2f}'.format(x)\n",
    "\n",
    "\n",
    "\n",
    "\n",
    "# Labeling and design\n",
    "plt.title('2022 NY Avg Gas Prices')\n",
    "ax.xaxis.set_major_locator(mdates.AutoDateLocator(minticks=12, maxticks=20))\n",
    "ax.yaxis.set_major_formatter(dollar_format)\n",
    "ax.xaxis.set_major_formatter(date_form)\n",
    "\n",
    "ax.spines['top'].set_visible(False)\n",
    "ax.spines['right'].set_visible(False)\n",
    "ax.spines['bottom'].set_visible(True)\n",
    "ax.spines['left'].set_visible(True)\n",
    "plt.savefig(\"images/gas_prices\",bbox_inches='tight');\n",
    "\n",
    "\n"
   ]
  },
  {
   "cell_type": "markdown",
   "id": "76cdb27c",
   "metadata": {},
   "source": [
    "# Fill in missing dates, and copy values"
   ]
  },
  {
   "cell_type": "code",
   "execution_count": null,
   "id": "d7b46954",
   "metadata": {},
   "outputs": [],
   "source": [
    "# creating a range of dates, DataFrame\n",
    "raw_dates = pd.DataFrame({'gas_price_date':pd.date_range('01-01-2022', '12-17-2022')})\n",
    "\n",
    "# matching weekly gas prices to every single day\n",
    "daily_gas_prices = pd.merge(raw_dates, weekly_gas_prices, how = 'outer',\\\n",
    "                            on = 'gas_price_date')\n",
    "\n",
    "# .fillna to makesure every day of the week is filled, not just the one that matched previously.\n",
    "daily_gas_prices = daily_gas_prices.fillna(method = 'ffill', inplace = False)\n",
    "\n",
    "# I now have a weekly average that I can compare to a daily dataset.\n",
    "daily_gas_prices\n"
   ]
  },
  {
   "cell_type": "markdown",
   "id": "2ac82ff0",
   "metadata": {},
   "source": [
    "## Append Gas Data cost to trips"
   ]
  },
  {
   "cell_type": "code",
   "execution_count": null,
   "id": "62d349df",
   "metadata": {},
   "outputs": [],
   "source": [
    "# temporary create new column to easily merge on date data (avoid complicatino of merging datetime to date)\n",
    "trips['start_date_iso'] = pd.to_datetime(trips.start_date.dt.date)\n",
    "\n",
    "# merge gas prices on trips DataFrame\n",
    "trips = pd.merge(trips, daily_gas_prices, left_on = 'start_date_iso', right_on = 'gas_price_date')\n",
    "\n",
    "# drop temp column and redundent gas_price_date\n",
    "trips.drop(columns = ['start_date_iso','gas_price_date'], inplace = True)\n",
    "\n",
    "\n",
    "trips\n"
   ]
  },
  {
   "cell_type": "code",
   "execution_count": null,
   "id": "c804d6af",
   "metadata": {},
   "outputs": [],
   "source": [
    "# Our other car is a 2005 Toyota Corolla and gets 29 mpg* according to EPA, it's an old car, \n",
    "# so that would be best case scenario\n",
    "trips['gas_used_eq'] = trips.distance/29\n",
    "trips['trip_cost_gas_car_eq'] = trips.gas_used_eq * trips.gas_price\n",
    "\n",
    "trips.sort_values('distance', ascending = False)"
   ]
  },
  {
   "cell_type": "markdown",
   "id": "51570abe",
   "metadata": {},
   "source": [
    "## Scraping utility bill .pdfs for electricity prices\n",
    "I am commenting out all pdf scraping because I did NOT include the original utility bill in the folders for security reasons. \n",
    "\n",
    "Instead I wrote the collected data to a .csv which is referenced. "
   ]
  },
  {
   "cell_type": "code",
   "execution_count": null,
   "id": "48dc0e4d",
   "metadata": {},
   "outputs": [],
   "source": [
    "# directory = 'data/utility_bills'\n",
    "\n",
    "# # lists to populate\n",
    "# bill_dates = []\n",
    "# supply_charge_rate = []\n",
    "# delivery_charge_rate = []\n",
    "\n",
    "# # iterate over utility bill .pdfs in directory\n",
    "# for filename in os.listdir(directory):\n",
    "#     f = os.path.join(directory, filename)\n",
    "    \n",
    "#     if (os.path.isfile(f)) and (f[-8::1] != '.DS_store'): # checking if it is a file\n",
    "#         with open(f,'rb') as file:\n",
    "#             reader = PyPDF2.PdfReader(f)\n",
    "#             page = reader.pages[1].extract_text() # 2nd page and extracted text\n",
    "#             f.close() # CHECK THIS: POSSIBLE ERROR. FILES AREN'T CLOSING PROPERLY\n",
    "        \n",
    "#         bill_dates.append(re.findall('Electric Meter Detail - billing period from (\\w+ \\w+, \\w+)  to (\\w+ \\w+, \\w+)', page))\n",
    "#         supply_charge_rate.append(re.findall('Supply \\d{0,2},*\\d{2,5} \\s{0,1}kWh @(\\d{1,2}.\\d{1,5})', page))\n",
    "#         delivery_charge_rate.append(re.findall('Delivery \\d{0,2},*\\d{2,5} kWh @(\\d{1,2}.\\d{1,5})', page))\n",
    "       \n",
    "    \n",
    "# print(bill_dates)\n",
    "# print('-'*56)\n",
    "# print(supply_charge_rate)\n",
    "# print('-'*56)\n",
    "# print(delivery_charge_rate)\n",
    "\n"
   ]
  },
  {
   "cell_type": "code",
   "execution_count": null,
   "id": "7e6dba67",
   "metadata": {},
   "outputs": [],
   "source": [
    "# # flatten out list of lists\n",
    "# bill_dates_flat = [num for sublist in bill_dates for num in sublist]\n",
    "# supply_charge_rate_flat = [num for sublist in supply_charge_rate for num in sublist]\n",
    "# delivery_charge_rate_flat = [num for sublist in delivery_charge_rate for num in sublist]\n",
    "\n",
    "# # unpack tuples\n",
    "# bill_start = []\n",
    "# bill_end = []\n",
    "# for i in bill_dates_flat:\n",
    "#     bill_start.append(i[0])\n",
    "#     bill_end.append(i[1])\n",
    "\n",
    "\n",
    "# print(bill_start)\n",
    "# print('-'*56)\n",
    "# print(bill_end)\n",
    "# print('-'*56)\n",
    "# print(supply_charge_rate_flat)\n",
    "# print('-'*56)\n",
    "# print(delivery_charge_rate_flat)"
   ]
  },
  {
   "cell_type": "code",
   "execution_count": null,
   "id": "e0b7f40a",
   "metadata": {
    "scrolled": false
   },
   "outputs": [],
   "source": [
    "# # creating dataframe from extracted data\n",
    "# utility_bill = pd.DataFrame({'bill_start': bill_start,\n",
    "#               'bill_end' : bill_end,\n",
    "#               'supply_charge_rate': supply_charge_rate_flat,\n",
    "#               'delivery_charge_rate' : delivery_charge_rate_flat\n",
    "#              })\n",
    "# # converting text dates, to datetime\n",
    "# utility_bill['bill_start'] = pd.to_datetime(utility_bill['bill_start'])\n",
    "# utility_bill['bill_end'] = pd.to_datetime(utility_bill['bill_end'])\n",
    "\n",
    "# # converting str to floats\n",
    "# utility_bill = utility_bill.astype({'supply_charge_rate': 'float', 'delivery_charge_rate': 'float'})\n",
    "\n",
    "# # adding up all fees to one combined electricity rate column\n",
    "# utility_bill['electric_price'] = (utility_bill.supply_charge_rate/100)+ (utility_bill.delivery_charge_rate/100)\n",
    "\n",
    "# # dropping the other rate columns\n",
    "# utility_bill.drop(columns = ['supply_charge_rate','delivery_charge_rate'], inplace = True)\n",
    "\n",
    "# # filtering to only 2022\n",
    "# utility_bill = utility_bill[utility_bill.bill_start.dt.year == 2022]\n",
    "\n",
    "# # creating a range of dates, DataFrame\n",
    "# raw_dates = pd.DataFrame({'bill_start':pd.date_range('01-01-2022', '12-17-2022')})\n",
    "\n",
    "# # matching weekly gas prices to every single day\n",
    "# daily_electric_prices = pd.merge(raw_dates, utility_bill, how = 'outer',\\\n",
    "#                             on = 'bill_start')\n",
    "\n",
    "# # .fillna to makesure every day of the week is filled, not just the one that matched previously.\n",
    "# daily_electric_prices = daily_electric_prices.fillna(method = 'ffill', inplace = False)\n",
    "\n",
    "# # filtering to trips date range\n",
    "# daily_electric_prices = daily_electric_prices[daily_electric_prices.bill_start >= '2022-02-24']\n",
    "\n",
    "# # dropping bill_end date and renaming bill start\n",
    "# daily_electric_prices = daily_electric_prices.drop(columns = 'bill_end')\n",
    "# daily_electric_prices = daily_electric_prices.rename(columns = {'bill_start':'electric_price_date'})\n",
    "\n",
    "# # I now have a weekly average that I can compare to a daily dataset.\n",
    "# daily_electric_prices\n"
   ]
  },
  {
   "cell_type": "markdown",
   "id": "e6a28bbe",
   "metadata": {},
   "source": [
    "## Write Electric Prices to .csv"
   ]
  },
  {
   "cell_type": "code",
   "execution_count": null,
   "id": "50928c87",
   "metadata": {},
   "outputs": [],
   "source": [
    "# daily_electric_prices.to_csv('data/CLEAN-Scraped-utility-electricity-prices.csv', sep=',', encoding='utf-8', index = False)"
   ]
  },
  {
   "cell_type": "markdown",
   "id": "0dd23610",
   "metadata": {},
   "source": [
    "creating DataFrame from .csv"
   ]
  },
  {
   "cell_type": "code",
   "execution_count": null,
   "id": "299d2877",
   "metadata": {},
   "outputs": [],
   "source": [
    "daily_electric_prices = pd.read_csv('data/CLEAN-Scraped-utility-electricity-prices.csv', index_col = 0)\n",
    "#quick clean\n",
    "daily_electric_prices['electric_price_date'] = pd.to_datetime(daily_electric_prices['electric_price_date'])\n",
    "daily_electric_prices['electric_price'] = pd.to_numeric(daily_electric_prices['electric_price'])"
   ]
  },
  {
   "cell_type": "code",
   "execution_count": null,
   "id": "ac3b1a03",
   "metadata": {},
   "outputs": [],
   "source": [
    "daily_electric_prices\n"
   ]
  },
  {
   "cell_type": "code",
   "execution_count": null,
   "id": "83b1eecf",
   "metadata": {},
   "outputs": [],
   "source": [
    "daily_electric_prices[daily_electric_prices['electric_price_date'] > '2022-01-01']"
   ]
  },
  {
   "cell_type": "code",
   "execution_count": null,
   "id": "9afa9f6a",
   "metadata": {},
   "outputs": [],
   "source": [
    "blue = '#377eb8'\n",
    "orange = '#ff7f00'\n",
    "green = '#4daf4a'\n",
    "pink = '#f781bf'\n",
    "brown = '#a65628'\n",
    "purple = '#984ea3'\n",
    "grey = '#999999'\n",
    "red = '#e41a1c'\n",
    "yellow = '#dede00'\n",
    "\n",
    "elec_date = daily_electric_prices.electric_price_date\n",
    "elec_price = daily_electric_prices.electric_price\n",
    "\n",
    "date_form = DateFormatter(\"%b\")\n",
    "\n",
    "fig, ax = plt.subplots()\n",
    "ax.plot(elec_date, elec_price, color = green)\n",
    "\n",
    "\n",
    "\n",
    "def dollar_format(x, pos):\n",
    "    \"\"\"The two arguments are the value and tick position.\"\"\"\n",
    "    return '${:1.2f}'.format(x)\n",
    "\n",
    "\n",
    "\n",
    "\n",
    "# Labeling and design\n",
    "plt.title('2022 Electricity Prices')\n",
    "ax.xaxis.set_major_locator(mdates.AutoDateLocator())\n",
    "ax.yaxis.set_major_formatter(dollar_format)\n",
    "ax.xaxis.set_major_formatter(date_form)\n",
    "\n",
    "ax.spines['top'].set_visible(False)\n",
    "ax.spines['right'].set_visible(False)\n",
    "ax.spines['bottom'].set_visible(True)\n",
    "ax.spines['left'].set_visible(True)\n",
    "plt.savefig(\"images/electric_prices\",bbox_inches='tight');"
   ]
  },
  {
   "cell_type": "markdown",
   "id": "34e7b316",
   "metadata": {},
   "source": [
    "## Append Electric Prices to Trips Dataset"
   ]
  },
  {
   "cell_type": "code",
   "execution_count": null,
   "id": "04e1c490",
   "metadata": {
    "scrolled": true
   },
   "outputs": [],
   "source": [
    "# temporary create new column to easily merge on date data (avoid complicatino of merging datetime to date)\n",
    "trips['start_date_iso'] = pd.to_datetime(trips.start_date.dt.date)\n",
    "\n",
    "# merge electric prices on trips DataFrame\n",
    "trips = pd.merge(trips, daily_electric_prices, left_on = 'start_date_iso', right_on = 'electric_price_date')\n",
    "\n",
    "# drop temp column and redundent electric_price_date\n",
    "trips.drop(columns = ['start_date_iso','electric_price_date'], inplace = True)\n",
    "\n",
    "\n",
    "trips"
   ]
  },
  {
   "cell_type": "code",
   "execution_count": null,
   "id": "17da68e0",
   "metadata": {},
   "outputs": [],
   "source": [
    "# adding column for cost of electricity per trips\n",
    "\n",
    "trips['trip_cost'] = trips.electricity_used * trips.electric_price\n",
    "trips.sort_values('distance', ascending = False)"
   ]
  },
  {
   "cell_type": "markdown",
   "id": "2e671689",
   "metadata": {},
   "source": [
    "## Gas vs electric: Cost Comparision"
   ]
  },
  {
   "cell_type": "code",
   "execution_count": null,
   "id": "f96f7b14",
   "metadata": {},
   "outputs": [],
   "source": [
    "fig, ax = plt.subplots()\n",
    "#Values\n",
    "x = trips.distance\n",
    "y1 = trips.trip_cost\n",
    "y2 = trips.trip_cost_gas_car_eq\n",
    "electric_color = '#4daf4a'\n",
    "gas_color = '#a65628'\n",
    "\n",
    "# Formatting Function\n",
    "def dollar_format(x, pos):\n",
    "    \"\"\"The two arguments are the value and tick position.\"\"\"\n",
    "    return '${:1.2f}'.format(x)\n",
    "\n",
    "\n",
    "# Gas\n",
    "plt.scatter(x,y2, color = gas_color, alpha = .3, s = 40, label = 'Gas')\n",
    "\n",
    "\n",
    "\n",
    "# Design\n",
    "plt.title('Cost Per Trip', fontsize = 25)\n",
    "ax.set_xlabel('\\nTrip Distance (mi)',fontsize = 13)\n",
    "ax.set_ylabel('Trip Cost',fontsize = 13) \n",
    "ax.yaxis.set_major_formatter(dollar_format)\n",
    "\n",
    "\n",
    "ax.spines['top'].set_visible(False)\n",
    "ax.spines['right'].set_visible(False)\n",
    "ax.spines['bottom'].set_visible(True)\n",
    "ax.spines['left'].set_visible(True)\n",
    "ax.set_ylim(top=30, bottom=-1)\n",
    "ax.set_xlim(left=-3,right=180)\n",
    "ax.legend(loc=\"upper left\")\n",
    "plt.savefig(\"images/cost_compare1\",bbox_inches='tight');"
   ]
  },
  {
   "cell_type": "code",
   "execution_count": null,
   "id": "588f6723",
   "metadata": {},
   "outputs": [],
   "source": [
    "fig, ax = plt.subplots()\n",
    "#Values\n",
    "x = trips.distance\n",
    "y1 = trips.trip_cost\n",
    "y2 = trips.trip_cost_gas_car_eq\n",
    "electric_color = '#4daf4a'\n",
    "gas_color = '#a65628'\n",
    "\n",
    "# Formatting Function\n",
    "def dollar_format(x, pos):\n",
    "    \"\"\"The two arguments are the value and tick position.\"\"\"\n",
    "    return '${:1.2f}'.format(x)\n",
    "\n",
    "# Gas\n",
    "plt.scatter(x,y2, color = gas_color, alpha = .3, s = 40, label = 'Gas')\n",
    "\n",
    "# Electric\n",
    "plt.scatter(x,y1, color = electric_color, alpha = .3, s = 40, label = 'Electric')\n",
    "\n",
    "\n",
    "\n",
    "\n",
    "\n",
    "# Design\n",
    "plt.title('Cost Per Trip', fontsize = 25)\n",
    "ax.set_xlabel('\\nTrip Distance (mi)',fontsize = 13)\n",
    "ax.set_ylabel('Trip Cost',fontsize = 13) \n",
    "ax.yaxis.set_major_formatter(dollar_format)\n",
    "\n",
    "\n",
    "ax.spines['top'].set_visible(False)\n",
    "ax.spines['right'].set_visible(False)\n",
    "ax.spines['bottom'].set_visible(True)\n",
    "ax.spines['left'].set_visible(True)\n",
    "ax.set_ylim(top=30, bottom=-1)\n",
    "ax.set_xlim(left=-3,right=180)\n",
    "ax.legend(loc=\"upper left\")\n",
    "plt.savefig(\"images/cost_compare2\",bbox_inches='tight');"
   ]
  },
  {
   "cell_type": "code",
   "execution_count": null,
   "id": "9442c1f5",
   "metadata": {},
   "outputs": [],
   "source": [
    "fig, ax = plt.subplots()\n",
    "#Values\n",
    "x = trips.distance\n",
    "y1 = trips.trip_cost\n",
    "y2 = trips.trip_cost_gas_car_eq\n",
    "electric_color = '#4daf4a'\n",
    "gas_color = '#a65628'\n",
    "\n",
    "# Formatting Function\n",
    "def dollar_format(x, pos):\n",
    "    \"\"\"The two arguments are the value and tick position.\"\"\"\n",
    "    return '${:1.2f}'.format(x)\n",
    "\n",
    "# Gas\n",
    "plt.scatter(x,y2, color = gas_color, alpha = .3, s = 40, label = f'Gas Avg Cost: ${y2.mean():.2f}')\n",
    "# g = ax.text(x=0.455, y=0.72, transform=ax.transAxes, s=\"Gas Avg Cost: $%1.2f\" % y2.mean(),\\\n",
    "#     fontweight='demibold', fontsize=10, verticalalignment='top', horizontalalignment='left',\\\n",
    "#     backgroundcolor='white', color='white', rotation=27)\n",
    "# g.set_bbox(dict(facecolor=gas_color, alpha=.5, linewidth=2))\n",
    "\n",
    "# Electric\n",
    "plt.scatter(x,y1, color = electric_color, alpha = .3, s = 40, label = \"Electric\")\n",
    "\n",
    "\n",
    "\n",
    "\n",
    "# Design\n",
    "plt.title('Cost Per Trip', fontsize = 25)\n",
    "ax.set_xlabel('\\nTrip Distance (mi)',fontsize = 13)\n",
    "ax.set_ylabel('Trip Cost',fontsize = 13) \n",
    "ax.yaxis.set_major_formatter(dollar_format)\n",
    "\n",
    "\n",
    "ax.spines['top'].set_visible(False)\n",
    "ax.spines['right'].set_visible(False)\n",
    "ax.spines['bottom'].set_visible(True)\n",
    "ax.spines['left'].set_visible(True)\n",
    "ax.set_ylim(top=30, bottom=-1)\n",
    "ax.set_xlim(left=-3,right=180)\n",
    "ax.legend(loc=\"upper left\")\n",
    "plt.savefig(\"images/cost_compare3\",bbox_inches='tight');"
   ]
  },
  {
   "cell_type": "code",
   "execution_count": null,
   "id": "3c530fc5",
   "metadata": {
    "scrolled": false
   },
   "outputs": [],
   "source": [
    "fig, ax = plt.subplots()\n",
    "#Values\n",
    "x = trips.distance\n",
    "y1 = trips.trip_cost\n",
    "y2 = trips.trip_cost_gas_car_eq\n",
    "electric_color = '#4daf4a'\n",
    "gas_color = '#a65628'\n",
    "\n",
    "# Formatting Function\n",
    "def dollar_format(x, pos):\n",
    "    \"\"\"The two arguments are the value and tick position.\"\"\"\n",
    "    return '${:1.2f}'.format(x)\n",
    "\n",
    "# Gas\n",
    "plt.scatter(x,y2, color = gas_color, alpha = .3, s = 40, label = f'Gas Avg Cost: ${y2.mean():.2f}')\n",
    "# g = ax.text(x=0.455, y=0.72, transform=ax.transAxes, s=\"Gas Avg Cost: $%1.2f\" % y2.mean(),\\\n",
    "#     fontweight='demibold', fontsize=10, verticalalignment='top', horizontalalignment='left',\\\n",
    "#     backgroundcolor='white', color='white', rotation=27)\n",
    "# g.set_bbox(dict(facecolor=gas_color, alpha=.5, linewidth=2))\n",
    "\n",
    "# Electric\n",
    "\n",
    "\n",
    "\n",
    "plt.scatter(x,y1, color = electric_color, alpha = .3, s = 40, label = f'Electric Avg Cost: ${y1.mean():.2f}')\n",
    "# e = ax.text(x=0.5, y=0.4, transform=ax.transAxes, s = \"Electric Avg Cost: $%1.2f\" % y1.mean(),\\\n",
    "#     fontweight='demibold', fontsize=10, verticalalignment='top', horizontalalignment='left',\\\n",
    "#     backgroundcolor='white', color='white', rotation = 13)\n",
    "# e.set_bbox(dict(facecolor=electric_color, alpha=.5, linewidth=2))\n",
    "\n",
    "\n",
    "\n",
    "# Design\n",
    "plt.title('Cost Per Trip', fontsize = 25)\n",
    "ax.set_xlabel('\\nTrip Distance (mi)',fontsize = 13)\n",
    "ax.set_ylabel('Trip Cost',fontsize = 13) \n",
    "ax.yaxis.set_major_formatter(dollar_format)\n",
    "ax.set_ylim(top=30, bottom=-1)\n",
    "ax.set_xlim(left=-3,right=180)\n",
    "\n",
    "\n",
    "\n",
    "ax.spines['top'].set_visible(False)\n",
    "ax.spines['right'].set_visible(False)\n",
    "ax.spines['bottom'].set_visible(True)\n",
    "ax.spines['left'].set_visible(True)\n",
    "ax.legend(loc=\"upper left\")\n",
    "plt.savefig(\"images/cost_compare4\",bbox_inches='tight');"
   ]
  },
  {
   "cell_type": "code",
   "execution_count": null,
   "id": "4a757b89",
   "metadata": {},
   "outputs": [],
   "source": [
    "\n",
    "blue = '#377eb8'\n",
    "orange = '#ff7f00'\n",
    "green = '#4daf4a'\n",
    "pink = '#f781bf'\n",
    "brown = '#a65628'\n",
    "purple = '#984ea3'\n",
    "grey = '#999999'\n",
    "red = '#e41a1c'\n",
    "yellow = '#dede00'"
   ]
  },
  {
   "cell_type": "code",
   "execution_count": null,
   "id": "593be62e",
   "metadata": {},
   "outputs": [],
   "source": []
  },
  {
   "cell_type": "code",
   "execution_count": null,
   "id": "5218472a",
   "metadata": {},
   "outputs": [],
   "source": []
  },
  {
   "cell_type": "code",
   "execution_count": null,
   "id": "abfc432d",
   "metadata": {},
   "outputs": [],
   "source": []
  },
  {
   "cell_type": "markdown",
   "id": "f06261cf",
   "metadata": {},
   "source": [
    "## Money Saved this year"
   ]
  },
  {
   "cell_type": "code",
   "execution_count": null,
   "id": "4f7e3b7d",
   "metadata": {},
   "outputs": [],
   "source": [
    "trips.trip_cost_gas_car_eq.sum()-trips.trip_cost.sum() # money saved"
   ]
  },
  {
   "cell_type": "code",
   "execution_count": null,
   "id": "7f88ca1e",
   "metadata": {},
   "outputs": [],
   "source": [
    "trips.trip_cost.sum() #electric cost"
   ]
  },
  {
   "cell_type": "code",
   "execution_count": null,
   "id": "56c37c8e",
   "metadata": {},
   "outputs": [],
   "source": [
    "trips.trip_cost_gas_car_eq.sum() #gas cost"
   ]
  }
 ],
 "metadata": {
  "kernelspec": {
   "display_name": "Python 3 (ipykernel)",
   "language": "python",
   "name": "python3"
  },
  "language_info": {
   "codemirror_mode": {
    "name": "ipython",
    "version": 3
   },
   "file_extension": ".py",
   "mimetype": "text/x-python",
   "name": "python",
   "nbconvert_exporter": "python",
   "pygments_lexer": "ipython3",
   "version": "3.9.12"
  }
 },
 "nbformat": 4,
 "nbformat_minor": 5
}
